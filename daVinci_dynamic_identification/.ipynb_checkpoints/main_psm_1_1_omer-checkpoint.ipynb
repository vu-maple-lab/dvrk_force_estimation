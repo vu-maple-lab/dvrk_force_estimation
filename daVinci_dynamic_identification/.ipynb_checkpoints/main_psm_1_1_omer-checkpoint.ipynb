{
 "cells": [
  {
   "cell_type": "markdown",
   "metadata": {
    "collapsed": true
   },
   "source": [
    "Robot Dynamic Model Identification\n",
    "=======\n",
    "---"
   ]
  },
  {
   "cell_type": "markdown",
   "metadata": {},
   "source": [
    "# 1 - Praparing work"
   ]
  },
  {
   "cell_type": "markdown",
   "metadata": {},
   "source": [
    "## Import libraries"
   ]
  },
  {
   "cell_type": "code",
   "execution_count": 21,
   "metadata": {},
   "outputs": [
    {
     "name": "stdout",
     "output_type": "stream",
     "text": [
      "The autoreload extension is already loaded. To reload it, use:\n",
      "  %reload_ext autoreload\n"
     ]
    }
   ],
   "source": [
    "# enable auto-reload modules\n",
    "%load_ext autoreload\n",
    "%autoreload 2\n",
    "#interactive plotting in separate window\n",
    "#%matplotlib qt \n",
    "%matplotlib inline\n",
    "\n",
    "from sympy import init_printing\n",
    "init_printing()\n",
    "    \n",
    "import matplotlib.pyplot as plt\n",
    "plt.rcParams['figure.figsize'] = [12, 8]\n",
    "\n",
    "import numpy as np\n",
    "import sympy\n",
    "from robot_def import RobotDef\n",
    "from kinematics import Geometry\n",
    "from dynamics import Dynamics\n",
    "from trajectory_optimization import TrajOptimizer\n",
    "from trajectory_optimization import TrajOptimizer2\n",
    "from trajectory_optimization import TrajPlotter\n",
    "from utils import new_sym\n",
    "from utils import save_data, load_data\n",
    "from utils import save_csv_data\n",
    "\n",
    "import time"
   ]
  },
  {
   "cell_type": "markdown",
   "metadata": {},
   "source": [
    "## Folder dir for saving and loading files"
   ]
  },
  {
   "cell_type": "code",
   "execution_count": 22,
   "metadata": {},
   "outputs": [],
   "source": [
    "#model_name = 'psm'\n",
    "model_name = 'psm_simplified'\n",
    "\n",
    "model_folder = 'data/' + model_name + '/model/'"
   ]
  },
  {
   "cell_type": "markdown",
   "metadata": {},
   "source": [
    "---\n",
    "# 2 - Robot modelling"
   ]
  },
  {
   "cell_type": "markdown",
   "metadata": {},
   "source": [
    "## Robot geometry definition in following order"
   ]
  },
  {
   "cell_type": "markdown",
   "metadata": {},
   "source": [
    "Joint number | prev link | succ links | $a$ | $\\alpha$ | $d$ | $\\theta$ | link inertia | motor inertia | friction "
   ]
  },
  {
   "cell_type": "code",
   "execution_count": 23,
   "metadata": {},
   "outputs": [
    {
     "name": "stdout",
     "output_type": "stream",
     "text": [
      "psm_simplified\n",
      "['Coulomb', 'viscous', 'offset']\n"
     ]
    },
    {
     "ename": "IndexError",
     "evalue": "tuple index out of range",
     "output_type": "error",
     "traceback": [
      "\u001b[0;31m---------------------------------------------------------------------------\u001b[0m",
      "\u001b[0;31mIndexError\u001b[0m                                Traceback (most recent call last)",
      "\u001b[0;32m<ipython-input-23-c959065dd2c1>\u001b[0m in \u001b[0;36m<module>\u001b[0;34m()\u001b[0m\n\u001b[1;32m    210\u001b[0m     \u001b[0;32mraise\u001b[0m \u001b[0mException\u001b[0m\u001b[0;34m(\u001b[0m\u001b[0;34m\"No robot name matches \"\u001b[0m \u001b[0;34m+\u001b[0m \u001b[0mname\u001b[0m\u001b[0;34m)\u001b[0m\u001b[0;34m\u001b[0m\u001b[0m\n\u001b[1;32m    211\u001b[0m \u001b[0;32mprint\u001b[0m\u001b[0;34m(\u001b[0m\u001b[0mfriction_type\u001b[0m\u001b[0;34m)\u001b[0m\u001b[0;34m\u001b[0m\u001b[0m\n\u001b[0;32m--> 212\u001b[0;31m \u001b[0mrobot_def\u001b[0m \u001b[0;34m=\u001b[0m \u001b[0mRobotDef\u001b[0m\u001b[0;34m(\u001b[0m\u001b[0mdh\u001b[0m\u001b[0;34m,\u001b[0m \u001b[0mdh_convention\u001b[0m\u001b[0;34m=\u001b[0m\u001b[0;34m'mdh'\u001b[0m\u001b[0;34m,\u001b[0m \u001b[0mfriction_type\u001b[0m\u001b[0;34m=\u001b[0m\u001b[0mfriction_type\u001b[0m\u001b[0;34m)\u001b[0m\u001b[0;34m\u001b[0m\u001b[0m\n\u001b[0m",
      "\u001b[0;32m/home/bisiklet/dvrk_dynamics_identification-master_turkey_dr_sonrasi/robot_def.pyc\u001b[0m in \u001b[0;36m__init__\u001b[0;34m(self, params, dh_convention, friction_type)\u001b[0m\n\u001b[1;32m     43\u001b[0m         \u001b[0mself\u001b[0m\u001b[0;34m.\u001b[0m\u001b[0muse_Ia\u001b[0m \u001b[0;34m=\u001b[0m \u001b[0;34m[\u001b[0m\u001b[0mp\u001b[0m\u001b[0;34m[\u001b[0m\u001b[0;36m8\u001b[0m\u001b[0;34m]\u001b[0m \u001b[0;32mfor\u001b[0m \u001b[0mp\u001b[0m \u001b[0;32min\u001b[0m \u001b[0mparams\u001b[0m\u001b[0;34m]\u001b[0m\u001b[0;34m\u001b[0m\u001b[0m\n\u001b[1;32m     44\u001b[0m         \u001b[0mself\u001b[0m\u001b[0;34m.\u001b[0m\u001b[0muse_friction\u001b[0m \u001b[0;34m=\u001b[0m \u001b[0;34m[\u001b[0m\u001b[0mp\u001b[0m\u001b[0;34m[\u001b[0m\u001b[0;36m9\u001b[0m\u001b[0;34m]\u001b[0m \u001b[0;32mfor\u001b[0m \u001b[0mp\u001b[0m \u001b[0;32min\u001b[0m \u001b[0mparams\u001b[0m\u001b[0;34m]\u001b[0m\u001b[0;34m\u001b[0m\u001b[0m\n\u001b[0;32m---> 45\u001b[0;31m         \u001b[0mself\u001b[0m\u001b[0;34m.\u001b[0m\u001b[0mspring_dl\u001b[0m \u001b[0;34m=\u001b[0m \u001b[0;34m[\u001b[0m\u001b[0mp\u001b[0m\u001b[0;34m[\u001b[0m\u001b[0;36m10\u001b[0m\u001b[0;34m]\u001b[0m \u001b[0;32mfor\u001b[0m \u001b[0mp\u001b[0m \u001b[0;32min\u001b[0m \u001b[0mparams\u001b[0m\u001b[0;34m]\u001b[0m\u001b[0;34m\u001b[0m\u001b[0m\n\u001b[0m\u001b[1;32m     46\u001b[0m         \u001b[0mself\u001b[0m\u001b[0;34m.\u001b[0m\u001b[0mdh_convention\u001b[0m \u001b[0;34m=\u001b[0m \u001b[0mdh_convention\u001b[0m\u001b[0;34m\u001b[0m\u001b[0m\n\u001b[1;32m     47\u001b[0m         \u001b[0;32mif\u001b[0m \u001b[0mself\u001b[0m\u001b[0;34m.\u001b[0m\u001b[0mdh_convention\u001b[0m \u001b[0;32min\u001b[0m \u001b[0;34m[\u001b[0m\u001b[0;34m'sdh'\u001b[0m\u001b[0;34m,\u001b[0m \u001b[0;34m'std'\u001b[0m\u001b[0;34m]\u001b[0m\u001b[0;34m:\u001b[0m\u001b[0;34m\u001b[0m\u001b[0m\n",
      "\u001b[0;31mIndexError\u001b[0m: tuple index out of range"
     ]
    }
   ],
   "source": [
    "q0, q1, q2, q3, q4, q5, q6, q7, q8, q9, q10 = new_sym('q:11')\n",
    "_pi = sympy.pi\n",
    "\n",
    "dh = []\n",
    "springs = []\n",
    "friction_type = []\n",
    "\n",
    "if (model_name == 'psm_simplified'):\n",
    "    # define paralelogram coordinate relation\n",
    "    # qd -> coordinate for dvrk_ros package\n",
    "    # qmd -> coordinate for the modeling joints\n",
    "    # q -> coordinate for motors\n",
    "    qmd5 = 1.0186 * q5\n",
    "    qmd6 = -0.8306 * q5 + 1.2178 * q6\n",
    "    qmd7 = -0.8306 *q5 + 1.2178 * q7\n",
    "    \n",
    "    l_2L1 = 96*0.001\n",
    "    l_2L2 = 516*0.001\n",
    "    l_2L3 = 40.09*0.001\n",
    "    \n",
    "    l_2H1 = 144.54*0.001\n",
    "    l_2H2 = 38.08*0.001\n",
    "    \n",
    "    l_3 = 40.09*0.001\n",
    "    \n",
    "    l_RCC = 431.8*0.001\n",
    "    l_tool = 416.2*0.001\n",
    "    l_p2y = 9.1*0.001\n",
    "    \n",
    "    M_motor2dvrk_q = np.matrix([[1.0186, 0, 0], [-0.8306, 0.6089, 0.6089], [0, -1.2177, 1.2177]])\n",
    "    M_model2dvrk_q = np.matrix([[1, 0, 0], [0, 0.5, 0.5], [0, -1, 1]])\n",
    "    \n",
    "    L_b = 0\n",
    "    L_1 = 1\n",
    "    L_20 = 2\n",
    "    L_21 = 3\n",
    "    L_22 = 4\n",
    "#     L_23 = 5\n",
    "    L_24 = 5\n",
    "#     L_25 = 6\n",
    "    L_30 = 6\n",
    "    L_31 = 7\n",
    "    L_4 = 8\n",
    "    L_5 = 9\n",
    "    L_6 = 10\n",
    "    L_7 = 11\n",
    "    M_6 = 12\n",
    "    M_7 = 13\n",
    "    F_67 = 14\n",
    "    \n",
    "    # define spring delta L\n",
    "    dlN = None\n",
    "\n",
    "    dl4 = -q4\n",
    "    \n",
    "    \n",
    "    x = [None]*15\n",
    "    x[0]  = (L_b,  -1,   [L_1, M_6, M_7, F_67], 0,           0,      0,              0,          False, False, False, dlN) # Base\n",
    "    \n",
    "    x[1]  = (L_1,  L_b,  [L_20],                0,           _pi/2,  0,              q1+_pi/2,   True,  False, True,  dlN) # Yaw\n",
    "    x[2]  = (L_20, L_1,  [L_21, L_31],          0,           -_pi/2, 0,              q2-_pi/2,   True,  False, True) # -- Intermediate\n",
    "    x[3]  = (L_21, L_20, [L_22],                l_2L3,       0,      0,              _pi/2,      False, False, False, dlN) # Pitch Back\n",
    "    x[4]  = (L_22, L_21, [L_24, L_30],          l_2H1,       0,      0,              -q2+_pi/2,  True,  False, False, dlN) # Pitch Front                                    )\n",
    "    #x[5]  = (L_23, L_21, [],                    l_2H1+l_2H2, 0,      0,              -q2+_pi/2, True,  False, False, dlN)    # Intermediate\n",
    "    x[5]  = (L_24, L_22, [L_30],                l_2L2,       0,      0,              q2,         True,  False, False, dlN)    # Pitch Bottom\n",
    "    #x[7]  = (L_25, L_22, [],                    l_2L1,       0,      0,              q2+_pi,    True,  False, False, dlN)    # Pitch Top\n",
    "    x[6]  = (L_30, L_24, [L_4],                 l_3,         -_pi/2, q3-l_RCC+l_2H1, 0,          True,  False, True,  dlN)    # Pitch End\n",
    "    x[7]  = (L_31, L_20, [],                    l_2L3,       -_pi/2, q3,             0,          True,  False, False, dlN)    # Main Insertion\n",
    "    x[8] = (L_4,  L_30, [L_5],                  0,           0,      l_tool,         q4,         False, True,  True,  dlN) # Intermediate Counterweight\n",
    "    x[9] = (L_5,  L_4,  [L_6, L_7],             0,           _pi/2,  0,              qmd5+_pi/2, True, True,  True,  dlN) # Counterweight\n",
    "    x[10] = (L_6,  L_5,  [],                    l_p2y,       -_pi/2, 0,              qmd6+_pi/2, True, False, True,  dlN) # Tool Roll \n",
    "    x[11] = (L_7,  L_5,  [],                    l_p2y,       -_pi/2, 0,              qmd7+_pi/2, True, False, True,  dlN) # Tool Pitch\n",
    "    \n",
    "    x[12] = (M_6,  L_b,  [],                    0,           0,      0,              q6,         False, True,  True,  dlN) # Tool Yaw1 inert\n",
    "    x[13] = (M_7,  L_b,  [],                    0,           0,      0,              q7,         False, True,  True,  dlN) # Tool Yaw2 inert\n",
    "    x[14] = (F_67, L_b,  [],                    0,           0,      0,              qmd7-qmd6,  False, False, True,  dlN) # q6 q7 coupled friction\n",
    "    \n",
    "    dh = x\n",
    "    friction_type = ['Coulomb', 'viscous', 'offset']\n",
    "    print(model_name)\n",
    "elif (model_name == 'psm'):\n",
    "    # define paralelogram coordinate relation\n",
    "    # qd -> coordinate for dvrk_ros package\n",
    "    # qmd -> coordinate for the modeling joints\n",
    "    # q -> coordinate for motors\n",
    "    #qmd5 = 1.0186 * q5\n",
    "    #qmd6 = -0.8306 * q5 + 1.2178 * q6\n",
    "    #qmd7 = -0.8306 *q5 + 1.2178 * q7\n",
    "    \n",
    "    #qmd5 =  1.0 * q5\n",
    "    #qmd6 = 1.0 * q6 - 0.5 * q7\n",
    "    #qmd7 = 1.0 *q5 + 0.5 * q7\n",
    "    \n",
    "    l_2L1 = 96*0.001\n",
    "    l_2L2 = 516*0.001\n",
    "    l_2L3 = 40.09*0.001\n",
    "    \n",
    "    l_2H1 = 144.54*0.001\n",
    "    l_2H2 = 38.08*0.001\n",
    "    \n",
    "    l_3 = 40.09*0.001\n",
    "    \n",
    "    l_RCC = 431.8*0.001\n",
    "    l_tool = 416.2*0.001\n",
    "    l_p2y = 9.1*0.001\n",
    "    \n",
    "    M_motor2dvrk_q = np.matrix([[1.0186, 0, 0], [-0.8306, 0.6089, 0.6089], [0, -1.2177, 1.2177]])\n",
    "    M_model2dvrk_q = np.matrix([[1, 0, 0], [0, 0.5, 0.5], [0, -1, 1]])\n",
    "    \n",
    "    # define link number\n",
    "    L_b = 0\n",
    "    L_1 = 1\n",
    "    L_20 = 2\n",
    "    L_21 = 3\n",
    "    L_22 = 4  \n",
    "    L_30 = 5\n",
    "    L_4 = 6\n",
    "    L_5 = 7\n",
    "    L_6 = 8\n",
    "    L_7 = 9\n",
    "    L_x = 10\n",
    "    L_c = 11\n",
    "    #L_25 = 7\n",
    "    #M_6 = 14\n",
    "    #M_7 = 15\n",
    "    #F_67 = 16\n",
    "    \n",
    "    # define spring delta L\n",
    "    dlN = None\n",
    "    dl1 = -q1\n",
    "    dl2 = -q2\n",
    "    dl3 = -q3\n",
    "\n",
    "    dl4 = -q4\n",
    "    dl5 = -q5\n",
    "    dl6 = -q6\n",
    "    dl7 = -q7\n",
    "    \n",
    "    #x = [None]*17\n",
    "    x = [None]*12\n",
    "    #         \n",
    "    #x[0]  = (L_b,  -1,   [L_1, M_6, M_7, F_67], 0,           0,      0,              0,          False, False, False, dlN) # Base\n",
    "    x[0]  = (L_b,  -1,   [L_1],                               0,           0,      0,              0,          False, False, False, dlN) # Base\n",
    "    \n",
    "    \n",
    "    #x[1]  = (L_1,  L_b,  [L_20],                0,           _pi/2,  0,              q1+_pi/2,   True,  False, True,  dlN) # Yaw\n",
    "    #x[2]  = (L_20, L_1,  [L_21, L_31],          0,           -_pi/2, 0,              q2-_pi/2,   True,  False, True,  dlN) # -- Intermediate\n",
    "    #x[3]  = (L_21, L_20, [L_22, L_23],          l_2L3,       0,      0,              _pi/2,      False, False, False, dlN) # Pitch Back\n",
    "    #x[4]  = (L_22, L_21, [L_24, L_25, L_30],    l_2H1,       0,      0,              -q2+_pi/2,  True,  False, False, dlN) # Pitch Front                                    )\n",
    "    #x[5]  = (L_23, L_21, [],                    l_2H1+l_2H2, 0,      0,              -q2+_pi/2,  True,  False, False, dlN)    # Intermediate\n",
    "    #x[6]  = (L_24, L_22, [L_30],                l_2L2,       0,      0,              q2,         True,  False, False, dlN)    # Pitch Bottom\n",
    "    #x[7]  = (L_25, L_22, [],                    l_2L1,       0,      0,              q2+_pi,     True,  False, False, dlN)    # Pitch Top\n",
    "    #x[8]  = (L_30, L_24, [L_4],                 l_3,         -_pi/2, q3-l_RCC+l_2H1,   0,        True,  False, True,  dlN)    # Pitch End\n",
    "    #x[9]  = (L_31, L_20, [],                    l_2L3,       -_pi/2, q3/3,             0,        True,  False, True, dlN)    # Main Insertion\n",
    "    #x[10] = (L_4,  L_30, [L_5],                 0,           0,      l_tool,         q4,         True,  False, True,  dl10) # Intermediate Counterweight\n",
    "    #x[11] = (L_5,  L_4,  [L_6, L_7],            0,           _pi/2,  0,              q5+_pi/2, True,  False, True,  dlN) # Counterweight\n",
    "    #x[12] = (L_6,  L_5,  [],                    l_p2y,       -_pi/2, 0,              qmd6+_pi/2, False,  False, False,  dlN) # Tool Roll \n",
    "    #x[13] = (L_7,  L_5,  [],                    l_p2y,       -_pi/2, 0,              qmd7+_pi/2, False,  False, False,  dlN) # Tool Pitch\n",
    "    \n",
    "    #x[14] = (M_6,  L_b,  [],                    0,           0,      0,              q6,         True, False,  True,  dlN) # Tool Yaw1 inert\n",
    "    #x[15] = (M_7,  L_b,  [],                    0,           0,      0,              q7,         True, False,  True,  dlN) # Tool Yaw2 inert\n",
    "    #x[16] = (F_67, L_b,  [],                    0,           0,      0,              qmd7-qmd6,  False, False, False,  dlN) # q6 q7 coupled friction\n",
    "                                                                                                # Tf= (Fc+(Fo-Fc)e^-(q'/qs))*sgn(q')+Fv*q' qs: 0.005 tanh 2\n",
    "    \n",
    "    x[1]  = (L_1,  L_b,  [L_20],                0,           -_pi/2,    0,               q1,   True,  False, True,  dl1) # Yaw\n",
    "    x[2]  = (L_20, L_1,  [L_21, L_x],           0.2,           0,       0,               q2,   True,  False, True,  dl2) # -- Intermediate\n",
    "    x[3]  = (L_21, L_20, [L_22],                0.5,           0,       0,              -q2,   True,  False, False, dlN) # Pitch Back\n",
    "    x[4]  = (L_22, L_21, [L_30],                0,           -_pi/2,    0,               q2,   True,  False, False, dlN) # Pitch Front                                    )\n",
    "    x[5]  = (L_30, L_22, [L_4],                 0,             0,       q3,               0,   True,  False, True,  dl3)    # Pitch End\n",
    "    x[6] =  (L_4,  L_30, [L_5],                 0,            _pi/2,    0,               q4,   True,  False, True,  dl4) # Intermediate Counterweight\n",
    "    x[7] =  (L_5,  L_4,  [L_6],                 0.009,       -_pi/2,    0,               q5,   True,  False, True,  dl5) # Counterweight\n",
    "    x[8] =  (L_6,  L_5,  [],                    0,           -_pi/2,    0,               q6,   True,  False, True,  dl6) # Tool Roll \n",
    "    x[9] =  (L_7,  L_5,  [],                    0,           -_pi/2,    0,               q7,   True,  False, True,  dl7) # Tool Roll \n",
    "    x[10] =  (L_x,  L_20,  [L_c],               0,           -_pi/2,    0,                0,   False, False, False,  dlN) # Tool Pitch\n",
    "    x[11] = (L_c,  L_x,  [],                    0,             0,       -q3/4,             0,   True,  False, True,  dlN) # Tool Pitch\n",
    "                                               # Tf= (Fc+(Fo-Fc)e^-(q'/qs))*sgn(q')+Fv*q' qs: 0.05 tanh 10\n",
    "    # define link number\n",
    "    #L_b = 0\n",
    "    #L_1 = 1\n",
    "    #L_20 = 2\n",
    "    #L_21 = 3\n",
    "    #L_22 = 4\n",
    "    #L_30 = 5\n",
    "    #L_4 = 6\n",
    "    #L_5 = 7\n",
    "    #L_6 = 8\n",
    "    #L_7 = 9\n",
    "    #L_x = 10\n",
    "    #L_c = 11\n",
    "    #x[1]  = (L_1,  L_b,  [L_20],                0,           -_pi/2, 0,              q1,         True,  False, True,  dl1) # Yaw\n",
    "    #x[2]  = (L_20, L_1,  [L_21, L_31],          0.2,         0,      0,              q2,         True,  False, True,  dl2) # -- Intermediate\n",
    "    #x[3]  = (L_21, L_20, [L_22],                0.5,         0,      0,             -q2,         True,  False, False, dlN) # Pitch Back\n",
    "    #x[4]  = (L_22, L_21, [L_30],                0,           -_pi/2, 0,              q2,         True,  False, False, dlN) # Pitch Front                                    )\n",
    "    #x[5]  = (L_30, L_22, [L_4],                 0,           0,      q3,              0,         True,  False, True,  dlN)    # Intermediate\n",
    "    #x[6]  = (L_4,  L_30, [L_5],                 0,          _pi/2,   0,              q4,         True,  False, True,  dl10)    # Pitch Bottom\n",
    "    #x[7]  = (L_5,  L_4,  [L_6, L_7],            0.009,      -_pi/2,  0,              q5,         True,  False, True,  dlN)    # Pitch Top\n",
    "    #x[8]  = (L_6,  L_5,  [],                    0,          -_pi/2,  0,              q6,         True,  False, True,  dlN)    # Pitch End\n",
    "    #x[9]  = (L_7,  L_5,  [],                    0,          -_pi/2,  0,              q7,         True,  False, True,  dlN)    # Main Insertion\n",
    "    #x[10] = (L_x,  L_20, [L_c],                 0,          -_pi/2,  0,               0,         False, False, False, dlN) # Intermediate Counterweight\n",
    "    #x[11] = (L_c,  L_x,  [],                    0,           0,      q3/3,            0,         True,  False, False,  dlN) # Counterweight\n",
    "\n",
    "                                                # Tf= (Fc+(Fo-Fc)e^-(q'/qs))*sgn(q')+Fv*q' qs: 0.05 tanh 10\n",
    "   \n",
    "    \n",
    "    dh = x\n",
    "    friction_type = ['Coulomb', 'viscous', 'offset', 'striebeck']\n",
    "    #friction_type = ['Coulomb', 'viscous']\n",
    "    print(model_name)\n",
    "else:\n",
    "    raise Exception(\"No robot name matches \" + name)\n",
    "print(friction_type)\n",
    "robot_def = RobotDef(dh, dh_convention='mdh', friction_type=friction_type)"
   ]
  },
  {
   "cell_type": "code",
   "execution_count": null,
   "metadata": {},
   "outputs": [],
   "source": [
    "M_motor2dvrk_q = np.matrix([[1.0186, 0, 0], [-0.8306, 0.6089, 0.6089], [0, -1.2177, 1.2177]])\n",
    "M_model2dvrk_q = np.matrix([[1, 0, 0], [0, 0.5, 0.5], [0, -1, 1]])\n",
    "M_motor2model_q = np.linalg.inv(M_model2dvrk_q)*M_motor2dvrk_q\n",
    "M_motor2model_q[np.abs(M_motor2model_q) < 0.0001] = 0\n",
    "M_motor2model_q"
   ]
  },
  {
   "cell_type": "code",
   "execution_count": null,
   "metadata": {},
   "outputs": [],
   "source": [
    "robot_def.coordinates_joint_type"
   ]
  },
  {
   "cell_type": "code",
   "execution_count": null,
   "metadata": {},
   "outputs": [],
   "source": [
    "robot_def.bary_params"
   ]
  },
  {
   "cell_type": "markdown",
   "metadata": {},
   "source": [
    "## Create kinematics chain"
   ]
  },
  {
   "cell_type": "code",
   "execution_count": null,
   "metadata": {
    "scrolled": true
   },
   "outputs": [],
   "source": [
    "%time geom = Geometry(robot_def)"
   ]
  },
  {
   "cell_type": "code",
   "execution_count": null,
   "metadata": {},
   "outputs": [],
   "source": [
    "geom.T_0n[6]"
   ]
  },
  {
   "cell_type": "code",
   "execution_count": null,
   "metadata": {},
   "outputs": [],
   "source": [
    "import csv\n",
    "                \n",
    "trajectory_name = 'omer_icra_mdh_fontenelli_4' # omer #############################################################################\n",
    "\n",
    "with open('data/' + model_name + '/model/kinematics/' + trajectory_name + '_T01.csv', 'wb') as myfile:\n",
    "    wr = csv.writer(myfile, quoting=csv.QUOTE_NONE)\n",
    "    wr.writerow(geom.T_0n[1])\n",
    "    \n",
    "with open('data/' + model_name + '/model/kinematics/' + trajectory_name + '_T02.csv', 'wb') as myfile:\n",
    "    wr = csv.writer(myfile, quoting=csv.QUOTE_NONE)\n",
    "    wr.writerow(geom.T_0n[2])\n",
    "    \n",
    "with open('data/' + model_name + '/model/kinematics/' + trajectory_name + '_T03.csv', 'wb') as myfile:\n",
    "    wr = csv.writer(myfile, quoting=csv.QUOTE_NONE)\n",
    "    wr.writerow(geom.T_0n[3])\n",
    "    \n",
    "with open('data/' + model_name + '/model/kinematics/' + trajectory_name + '_T04.csv', 'wb') as myfile:\n",
    "    wr = csv.writer(myfile, quoting=csv.QUOTE_NONE)\n",
    "    wr.writerow(geom.T_0n[4])\n",
    "    \n",
    "with open('data/' + model_name + '/model/kinematics/' + trajectory_name + '_T05.csv', 'wb') as myfile:\n",
    "    wr = csv.writer(myfile, quoting=csv.QUOTE_NONE)\n",
    "    wr.writerow(geom.T_0n[5])\n",
    "    \n",
    "with open('data/' + model_name + '/model/kinematics/' + trajectory_name + '_T06.csv', 'wb') as myfile:\n",
    "    wr = csv.writer(myfile, quoting=csv.QUOTE_NONE)\n",
    "    wr.writerow(geom.T_0n[6])\n",
    "    \n",
    "with open('data/' + model_name + '/model/kinematics/' + trajectory_name + '_T07.csv', 'wb') as myfile:\n",
    "    wr = csv.writer(myfile, quoting=csv.QUOTE_NONE)\n",
    "    wr.writerow(geom.T_0n[7])\n",
    "    \n",
    "with open('data/' + model_name + '/model/kinematics/' + trajectory_name + '_T08.csv', 'wb') as myfile:\n",
    "    wr = csv.writer(myfile, quoting=csv.QUOTE_NONE)\n",
    "    wr.writerow(geom.T_0n[8])\n",
    "    \n",
    "with open('data/' + model_name + '/model/kinematics/' + trajectory_name + '_T09.csv', 'wb') as myfile:\n",
    "    wr = csv.writer(myfile, quoting=csv.QUOTE_NONE)\n",
    "    wr.writerow(geom.T_0n[9])\n",
    "    \n",
    "with open('data/' + model_name + '/model/kinematics/' + trajectory_name + '_T10.csv', 'wb') as myfile:\n",
    "    wr = csv.writer(myfile, quoting=csv.QUOTE_NONE)\n",
    "    wr.writerow(geom.T_0n[10])\n",
    "\n",
    "    "
   ]
  },
  {
   "cell_type": "code",
   "execution_count": null,
   "metadata": {},
   "outputs": [],
   "source": [
    "angle = [0, 0.0, 0, 0, 0, 0, 0]\n",
    "geom.draw_geom(angle)"
   ]
  },
  {
   "cell_type": "markdown",
   "metadata": {},
   "source": [
    "## Create dynamics"
   ]
  },
  {
   "cell_type": "code",
   "execution_count": null,
   "metadata": {
    "scrolled": true
   },
   "outputs": [],
   "source": [
    "%time dyn = Dynamics(robot_def, geom)"
   ]
  },
  {
   "cell_type": "code",
   "execution_count": null,
   "metadata": {
    "scrolled": true
   },
   "outputs": [],
   "source": [
    "sympy.Matrix(dyn.base_param)"
   ]
  },
  {
   "cell_type": "code",
   "execution_count": null,
   "metadata": {},
   "outputs": [],
   "source": [
    "from data import RobotModel\n",
    "\n",
    "# Data to be saved\n",
    "robot_model = RobotModel(dyn)\n",
    "\n",
    "\n",
    "# Save\n",
    "save_data(model_folder, model_name, robot_model)\n",
    "save_data(model_folder, trajectory_name, robot_model)\n",
    "print('Saved {} parameters'.format(len(robot_model.base_param)))"
   ]
  },
  {
   "cell_type": "code",
   "execution_count": null,
   "metadata": {},
   "outputs": [],
   "source": []
  },
  {
   "cell_type": "code",
   "execution_count": null,
   "metadata": {},
   "outputs": [],
   "source": [
    "import csv\n",
    "                \n",
    "with open('data/' + model_name + '/model/' + trajectory_name + '_M.csv', 'wb') as myfile:\n",
    "    wr = csv.writer(myfile, quoting=csv.QUOTE_NONE)\n",
    "    wr.writerow(dyn.M)\n",
    "    \n",
    "with open('data/' + model_name + '/model/' + trajectory_name + '_C.csv', 'wb') as myfile:\n",
    "    wr = csv.writer(myfile, quoting=csv.QUOTE_NONE)\n",
    "    wr.writerow(dyn.C)\n",
    "    \n",
    "with open('data/' + model_name + '/model/' + trajectory_name + '_G.csv', 'wb') as myfile:\n",
    "    wr = csv.writer(myfile, quoting=csv.QUOTE_NONE)\n",
    "    wr.writerow(dyn.G)"
   ]
  },
  {
   "cell_type": "markdown",
   "metadata": {},
   "source": [
    "---\n",
    "# 3 - Excitation trajectory optimization"
   ]
  },
  {
   "cell_type": "code",
   "execution_count": null,
   "metadata": {},
   "outputs": [],
   "source": [
    "##model_name = 'psm_simplified'\n",
    "#model_name = 'psm'"
   ]
  },
  {
   "cell_type": "markdown",
   "metadata": {},
   "source": [
    "Load Data"
   ]
  },
  {
   "cell_type": "code",
   "execution_count": null,
   "metadata": {},
   "outputs": [],
   "source": [
    "#from utils import load_data\n",
    "#model_folder = 'data/' + model_name + '/model/'\n",
    "#robot_model = load_data(model_folder, model_name)"
   ]
  },
  {
   "cell_type": "markdown",
   "metadata": {},
   "source": [
    "## Create trajectory optimizer object, with H matrix, foourier order, base frequency, joint constraints and cartisian constraints as input"
   ]
  },
  {
   "cell_type": "code",
   "execution_count": null,
   "metadata": {},
   "outputs": [],
   "source": [
    "##trajectory_name = 'one'\n",
    "##trajectory_name = 'three'\n",
    "##trajectory_name = 'four'"
   ]
  },
  {
   "cell_type": "code",
   "execution_count": null,
   "metadata": {
    "scrolled": true
   },
   "outputs": [],
   "source": [
    "#from numpy import deg2rad\n",
    "\n",
    "#optimal_trajectory_folder = 'data/optimal_trajectory/'\n",
    "#trajectory_folder = 'data/' + model_name +'/optimal_trajectory/'\n",
    "\n",
    "#base_freq = 0.18\n",
    "#fourier_order = 6\n",
    "\n",
    "#joint_constraints = []\n",
    "#cartesian_constraints = []\n",
    "\n",
    "#model_name = 'psm_simplified'\n",
    "#model_name = 'psm'\n",
    "\n",
    "#if model_name == 'psm':\n",
    "#    q_dvrk7 = 1.2177*q7 - 1.2177*q6\n",
    "##     q_mod6 = (4871*q6)/4000 - (4153*q5)/5000\n",
    "##     q_mod7 = - (4153*q5)/5000 + (4871*q7)/4000\n",
    "    \n",
    "#    q_dvrk5 = 1.0186 * q5\n",
    "#    q_mod6 = -0.8306 * q5 + 1.2178 * q6\n",
    "#    q_mod7 = -0.8306 * q5 + 1.2178 * q7\n",
    "    \n",
    "##    joint_constraints = [(q1, -1.45, 1.45, -1.7, 1.7),\n",
    "##                         (q2, -0.75, 0.8, -1.7, 1.7),\n",
    "##                         (q3,0.07,0.235,-0.35,0.35),\n",
    "##                         (q4,-1.5,1.5,-2,2),\n",
    "##                         (q_dvrk5,-1.4,1.4,-2,2), \n",
    "##                         (q_dvrk7, 0.15, 3,-3,3),\n",
    "##                         (q_mod7, -1.5, 1.5,-2,2),\n",
    "##                          (q_mod6, -1.5, 1.5,-2,2)]\n",
    " #   joint_constraints = [(q1, -0.52, 1.35, -1.7, 1.7),\n",
    " #                        (q2, -0.7, 0.8, -1.7, 1.7),\n",
    " #                        (q3,0.07,0.235,-0.35,0.35),\n",
    " #                        (q4,-1.5,1.5,-2,2),\n",
    " #                        (q_dvrk5,-1.24,1.24,-2,2), \n",
    " #                        (q_dvrk7, 0.15, 3,-3,3),\n",
    " #                        (q_mod7, -0.26, 2.29,-2,2),\n",
    " #                         (q_mod6, -0.26, 2.29,-2,2)]\n",
    "#else:\n",
    "    #raise Exception(\"No robot name matches \" + model_name)\n",
    "    \n",
    "#traj_optimizer = TrajOptimizer2(robot_model, fourier_order, base_freq,\n",
    "                              # joint_constraints=joint_constraints,\n",
    "                            #   cartesian_constraints = cartesian_constraints)\n",
    "                                                                                                 \n",
    "                                                                                                                     \n",
    "#traj_optimizer.optimize()\n"
   ]
  },
  {
   "cell_type": "code",
   "execution_count": null,
   "metadata": {},
   "outputs": [],
   "source": [
    "#reg_norm_mat = traj_optimizer.calc_normalize_mat()"
   ]
  },
  {
   "cell_type": "markdown",
   "metadata": {},
   "source": [
    "## Plot optimal excitation trajectory"
   ]
  },
  {
   "cell_type": "code",
   "execution_count": null,
   "metadata": {},
   "outputs": [],
   "source": [
    "#traj_optimizer.calc_frame_traj()"
   ]
  },
  {
   "cell_type": "code",
   "execution_count": null,
   "metadata": {},
   "outputs": [],
   "source": [
    "#traj_plotter = TrajPlotter(traj_optimizer.fourier_traj,traj_optimizer.frame_traj,\n",
    "                           #traj_optimizer.const_frame_ind, robot_model.coordinates)\n",
    "#traj_plotter.plot_desired_traj(traj_optimizer.x_result)\n",
    "\n",
    "#traj_plotter.plot_frame_traj(True)"
   ]
  },
  {
   "cell_type": "markdown",
   "metadata": {},
   "source": [
    "## Save trajectory for later use"
   ]
  },
  {
   "cell_type": "code",
   "execution_count": null,
   "metadata": {},
   "outputs": [],
   "source": [
    "#model_name = 'psm_simplified'\n",
    "#model_name = 'psm'"
   ]
  },
  {
   "cell_type": "code",
   "execution_count": null,
   "metadata": {},
   "outputs": [],
   "source": [
    "#dof_order_bf_x_norm = (traj_optimizer.fourier_traj.dof, fourier_order,\n",
    "                    #   base_freq, traj_optimizer.x_result, reg_norm_mat)\n",
    "#save_data(trajectory_folder, trajectory_name, dof_order_bf_x_norm)"
   ]
  },
  {
   "cell_type": "code",
   "execution_count": null,
   "metadata": {
    "scrolled": false
   },
   "outputs": [],
   "source": [
    "#from IPython.display import HTML, display\n",
    "#import tabulate\n",
    "\n",
    "#table = []\n",
    "#table.append([\"joint\", 'qo'] +\n",
    "       #      [\"a\"+str(i+1) for i in range(fourier_order)] +\n",
    "       #      [\"b\"+str(i+1) for i in range(fourier_order)])\n",
    "#for i in range(traj_optimizer.fourier_traj.dof):\n",
    " #   line = []\n",
    " #   line.append(robot_model.coordinates[i])\n",
    " #   line += np.round(traj_optimizer.x_result[i*(1 + fourier_order*2): (i+1)*(1 + fourier_order*2)], 4).tolist()\n",
    " #   table.append(line)\n",
    "\n",
    "#display(HTML(tabulate.tabulate(table, tablefmt='html')))"
   ]
  }
 ],
 "metadata": {
  "kernelspec": {
   "display_name": "Python 2",
   "language": "python",
   "name": "python2"
  },
  "language_info": {
   "codemirror_mode": {
    "name": "ipython",
    "version": 2
   },
   "file_extension": ".py",
   "mimetype": "text/x-python",
   "name": "python",
   "nbconvert_exporter": "python",
   "pygments_lexer": "ipython2",
   "version": "2.7.16"
  }
 },
 "nbformat": 4,
 "nbformat_minor": 1
}
