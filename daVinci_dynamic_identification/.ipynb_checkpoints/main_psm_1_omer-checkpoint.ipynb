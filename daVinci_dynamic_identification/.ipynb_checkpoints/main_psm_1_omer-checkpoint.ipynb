{
 "cells": [
  {
   "cell_type": "markdown",
   "metadata": {
    "collapsed": true
   },
   "source": [
    "Robot Dynamic Model Identification\n",
    "=======\n",
    "---"
   ]
  },
  {
   "cell_type": "markdown",
   "metadata": {},
   "source": [
    "# 1 - Praparing work"
   ]
  },
  {
   "cell_type": "markdown",
   "metadata": {},
   "source": [
    "## Import libraries"
   ]
  },
  {
   "cell_type": "code",
   "execution_count": 65,
   "metadata": {},
   "outputs": [
    {
     "name": "stdout",
     "output_type": "stream",
     "text": [
      "The autoreload extension is already loaded. To reload it, use:\n",
      "  %reload_ext autoreload\n"
     ]
    }
   ],
   "source": [
    "# enable auto-reload modules\n",
    "%load_ext autoreload\n",
    "%autoreload 2\n",
    "#interactive plotting in separate window\n",
    "#%matplotlib qt \n",
    "%matplotlib inline\n",
    "\n",
    "from sympy import init_printing\n",
    "init_printing()\n",
    "    \n",
    "import matplotlib.pyplot as plt\n",
    "plt.rcParams['figure.figsize'] = [12, 8]\n",
    "\n",
    "import numpy as np\n",
    "import sympy\n",
    "from robot_def import RobotDef\n",
    "from kinematics import Geometry\n",
    "from dynamics import Dynamics\n",
    "from trajectory_optimization import TrajOptimizer\n",
    "from trajectory_optimization import TrajOptimizer2\n",
    "from trajectory_optimization import TrajPlotter\n",
    "from utils import new_sym\n",
    "from utils import save_data, load_data\n",
    "from utils import save_csv_data\n",
    "\n",
    "import time"
   ]
  },
  {
   "cell_type": "markdown",
   "metadata": {},
   "source": [
    "## Folder dir for saving and loading files"
   ]
  },
  {
   "cell_type": "code",
   "execution_count": 66,
   "metadata": {},
   "outputs": [],
   "source": [
    "model_name = 'psm'\n",
    "#model_name = 'psm_simplified'\n",
    "\n",
    "model_folder = 'data/' + model_name + '/model/'"
   ]
  },
  {
   "cell_type": "markdown",
   "metadata": {},
   "source": [
    "---\n",
    "# 2 - Robot modelling"
   ]
  },
  {
   "cell_type": "markdown",
   "metadata": {},
   "source": [
    "## Robot geometry definition in following order"
   ]
  },
  {
   "cell_type": "markdown",
   "metadata": {},
   "source": [
    "Joint number | prev link | succ links | $a$ | $\\alpha$ | $d$ | $\\theta$ | link inertia | motor inertia | friction "
   ]
  },
  {
   "cell_type": "code",
   "execution_count": 67,
   "metadata": {},
   "outputs": [
    {
     "name": "stdout",
     "output_type": "stream",
     "text": [
      "psm\n",
      "['Coulomb', 'viscous', 'offset', 'striebeck']\n"
     ]
    }
   ],
   "source": [
    "q0, q1, q2, q3, q4, q5, q6, q7, q8, q9, q10 = new_sym('q:11')\n",
    "_pi = sympy.pi\n",
    "\n",
    "dh = []\n",
    "springs = []\n",
    "friction_type = []\n",
    "\n",
    "if (model_name == 'psm_simplified'):\n",
    "    # define paralelogram coordinate relation\n",
    "    # qd -> coordinate for dvrk_ros package\n",
    "    # qmd -> coordinate for the modeling joints\n",
    "    # q -> coordinate for motors\n",
    "    qmd5 = 1.0186 * q5\n",
    "    qmd6 = -0.8306 * q5 + 1.2178 * q6\n",
    "    qmd7 = -0.8306 *q5 + 1.2178 * q7\n",
    "    \n",
    "    l_2L1 = 96*0.001\n",
    "    l_2L2 = 516*0.001\n",
    "    l_2L3 = 40.09*0.001\n",
    "    \n",
    "    l_2H1 = 144.54*0.001\n",
    "    l_2H2 = 38.08*0.001\n",
    "    \n",
    "    l_3 = 40.09*0.001\n",
    "    \n",
    "    l_RCC = 431.8*0.001\n",
    "    l_tool = 416.2*0.001\n",
    "    l_p2y = 9.1*0.001\n",
    "    \n",
    "    M_motor2dvrk_q = np.matrix([[1.0186, 0, 0], [-0.8306, 0.6089, 0.6089], [0, -1.2177, 1.2177]])\n",
    "    M_model2dvrk_q = np.matrix([[1, 0, 0], [0, 0.5, 0.5], [0, -1, 1]])\n",
    "    \n",
    "    L_b = 0\n",
    "    L_1 = 1\n",
    "    L_20 = 2\n",
    "    L_21 = 3\n",
    "    L_22 = 4\n",
    "#     L_23 = 5\n",
    "    L_24 = 5\n",
    "#     L_25 = 6\n",
    "    L_30 = 6\n",
    "    L_31 = 7\n",
    "    L_4 = 8\n",
    "    L_5 = 9\n",
    "    L_6 = 10\n",
    "    L_7 = 11\n",
    "    M_6 = 12\n",
    "    M_7 = 13\n",
    "    F_67 = 14\n",
    "    \n",
    "    # define spring delta L\n",
    "    dlN = None\n",
    "\n",
    "    dl4 = -q4\n",
    "    \n",
    "    \n",
    "    x = [None]*15\n",
    "    x[0]  = (L_b,  -1,   [L_1, M_6, M_7, F_67], 0,           0,      0,              0,          False, False, False, dlN) # Base\n",
    "    \n",
    "    x[1]  = (L_1,  L_b,  [L_20],                0,           _pi/2,  0,              q1+_pi/2,   True,  False, True,  dlN) # Yaw\n",
    "    x[2]  = (L_20, L_1,  [L_21, L_31],          0,           -_pi/2, 0,              q2-_pi/2,   True,  False, True) # -- Intermediate\n",
    "    x[3]  = (L_21, L_20, [L_22],                l_2L3,       0,      0,              _pi/2,      False, False, False, dlN) # Pitch Back\n",
    "    x[4]  = (L_22, L_21, [L_24, L_30],          l_2H1,       0,      0,              -q2+_pi/2,  True,  False, False, dlN) # Pitch Front                                    )\n",
    "    #x[5]  = (L_23, L_21, [],                    l_2H1+l_2H2, 0,      0,              -q2+_pi/2, True,  False, False, dlN)    # Intermediate\n",
    "    x[5]  = (L_24, L_22, [L_30],                l_2L2,       0,      0,              q2,         True,  False, False, dlN)    # Pitch Bottom\n",
    "    #x[7]  = (L_25, L_22, [],                    l_2L1,       0,      0,              q2+_pi,    True,  False, False, dlN)    # Pitch Top\n",
    "    x[6]  = (L_30, L_24, [L_4],                 l_3,         -_pi/2, q3-l_RCC+l_2H1, 0,          True,  False, True,  dlN)    # Pitch End\n",
    "    x[7]  = (L_31, L_20, [],                    l_2L3,       -_pi/2, q3,             0,          True,  False, False, dlN)    # Main Insertion\n",
    "    x[8] = (L_4,  L_30, [L_5],                  0,           0,      l_tool,         q4,         False, True,  True,  dl4) # Intermediate Counterweight\n",
    "    x[9] = (L_5,  L_4,  [L_6, L_7],             0,           _pi/2,  0,              qmd5+_pi/2, True, True,  True,  dlN) # Counterweight\n",
    "    x[10] = (L_6,  L_5,  [],                    l_p2y,       -_pi/2, 0,              qmd6+_pi/2, True, False, True,  dlN) # Tool Roll \n",
    "    x[11] = (L_7,  L_5,  [],                    l_p2y,       -_pi/2, 0,              qmd7+_pi/2, True, False, True,  dlN) # Tool Pitch\n",
    "    \n",
    "    x[12] = (M_6,  L_b,  [],                    0,           0,      0,              q6,         False, True,  True,  dlN) # Tool Yaw1 inert\n",
    "    x[13] = (M_7,  L_b,  [],                    0,           0,      0,              q7,         False, True,  True,  dlN) # Tool Yaw2 inert\n",
    "    x[14] = (F_67, L_b,  [],                    0,           0,      0,              qmd7-qmd6,  False, False, True,  dlN) # q6 q7 coupled friction\n",
    "    \n",
    "    dh = x\n",
    "    friction_type = ['Coulomb', 'viscous', 'offset']\n",
    "    print(model_name)\n",
    "elif (model_name == 'psm'):\n",
    "    # define paralelogram coordinate relation\n",
    "    # qd -> coordinate for dvrk_ros package\n",
    "    # qmd -> coordinate for the modeling joints\n",
    "    # q -> coordinate for motors\n",
    "    qmd5 = 1.0186 * q5\n",
    "    qmd6 = -0.8306 * q5 + 1.2178 * q6\n",
    "    qmd7 = -0.8306 *q5 + 1.2178 * q7\n",
    "    \n",
    "    #qmd5 =  1.0 * q5\n",
    "    #qmd6 = 1.0 * q6 - 0.5 * q7\n",
    "    #qmd7 = 1.0 *q5 + 0.5 * q7\n",
    "    \n",
    "    l_2L1 = 96*0.001\n",
    "    l_2L2 = 516*0.001\n",
    "    l_2L3 = 40.09*0.001\n",
    "    \n",
    "    l_2H1 = 144.54*0.001\n",
    "    l_2H2 = 38.08*0.001\n",
    "    \n",
    "    l_3 = 40.09*0.001\n",
    "    \n",
    "    l_RCC = 431.8*0.001\n",
    "    l_tool = 416.2*0.001\n",
    "    l_p2y = 9.1*0.001\n",
    "    \n",
    "    M_motor2dvrk_q = np.matrix([[1.0186, 0, 0], [-0.8306, 0.6089, 0.6089], [0, -1.2177, 1.2177]])\n",
    "    M_model2dvrk_q = np.matrix([[1, 0, 0], [0, 0.5, 0.5], [0, -1, 1]])\n",
    "    \n",
    "    # define link number\n",
    "    L_b = 0\n",
    "    L_1 = 1\n",
    "    L_20 = 2\n",
    "    L_21 = 3\n",
    "    L_22 = 4\n",
    "    #L_23 = 5\n",
    "    L_24 = 5\n",
    "    #L_25 = 7\n",
    "    L_30 = 6\n",
    "    L_31 = 7\n",
    "    L_4 = 8\n",
    "    L_5 = 9\n",
    "    L_6 = 10\n",
    "    L_7 = 11\n",
    "    #M_6 = 14\n",
    "    #M_7 = 15\n",
    "    #F_67 = 16\n",
    "    \n",
    "    # define spring delta L\n",
    "    dlN = None\n",
    "    dl1 = -q1\n",
    "    dl2 = -q2\n",
    "    dl3 = -q3\n",
    "\n",
    "    dl10 = -q4\n",
    "    \n",
    "    #x = [None]*17\n",
    "    x = [None]*12\n",
    "    #         \n",
    "    #x[0]  = (L_b,  -1,   [L_1, M_6, M_7, F_67], 0,           0,      0,              0,          False, False, False, dlN) # Base\n",
    "    x[0]  = (L_b,  -1,   [L_1],                               0,           0,      0,              0,          False, False, False, dlN) # Base\n",
    "    \n",
    "    \n",
    "    #x[1]  = (L_1,  L_b,  [L_20],                0,           _pi/2,  0,              q1+_pi/2,   True,  False, True,  dlN) # Yaw\n",
    "    #x[2]  = (L_20, L_1,  [L_21, L_31],          0,           -_pi/2, 0,              q2-_pi/2,   True,  False, True,  dlN) # -- Intermediate\n",
    "    #x[3]  = (L_21, L_20, [L_22, L_23],          l_2L3,       0,      0,              _pi/2,      False, False, False, dlN) # Pitch Back\n",
    "    #x[4]  = (L_22, L_21, [L_24, L_25, L_30],    l_2H1,       0,      0,              -q2+_pi/2,  True,  False, False, dlN) # Pitch Front                                    )\n",
    "    #x[5]  = (L_23, L_21, [],                    l_2H1+l_2H2, 0,      0,              -q2+_pi/2,  True,  False, False, dlN)    # Intermediate\n",
    "    #x[6]  = (L_24, L_22, [L_30],                l_2L2,       0,      0,              q2,         True,  False, False, dlN)    # Pitch Bottom\n",
    "    #x[7]  = (L_25, L_22, [],                    l_2L1,       0,      0,              q2+_pi,     True,  False, False, dlN)    # Pitch Top\n",
    "    #x[8]  = (L_30, L_24, [L_4],                 l_3,         -_pi/2, q3-l_RCC+l_2H1,   0,        True,  False, True,  dlN)    # Pitch End\n",
    "    #x[9]  = (L_31, L_20, [],                    l_2L3,       -_pi/2, q3/3,             0,        True,  False, True, dlN)    # Main Insertion\n",
    "    #x[10] = (L_4,  L_30, [L_5],                 0,           0,      l_tool,         q4,         True,  False, True,  dl10) # Intermediate Counterweight\n",
    "    #x[11] = (L_5,  L_4,  [L_6, L_7],            0,           _pi/2,  0,              q5+_pi/2, True,  False, True,  dlN) # Counterweight\n",
    "    #x[12] = (L_6,  L_5,  [],                    l_p2y,       -_pi/2, 0,              qmd6+_pi/2, False,  False, False,  dlN) # Tool Roll \n",
    "    #x[13] = (L_7,  L_5,  [],                    l_p2y,       -_pi/2, 0,              qmd7+_pi/2, False,  False, False,  dlN) # Tool Pitch\n",
    "    \n",
    "    #x[14] = (M_6,  L_b,  [],                    0,           0,      0,              q6,         True, False,  True,  dlN) # Tool Yaw1 inert\n",
    "    #x[15] = (M_7,  L_b,  [],                    0,           0,      0,              q7,         True, False,  True,  dlN) # Tool Yaw2 inert\n",
    "    #x[16] = (F_67, L_b,  [],                    0,           0,      0,              qmd7-qmd6,  False, False, False,  dlN) # q6 q7 coupled friction\n",
    "                                                                                                # Tf= (Fc+(Fo-Fc)e^-(q'/qs))*sgn(q')+Fv*q' qs: 0.005 tanh 2\n",
    "    \n",
    "    x[1]  = (L_1,  L_b,  [L_20],                0,           _pi/2,  0,              q1+_pi/2,   True,  False, True,  dl1) # Yaw\n",
    "    x[2]  = (L_20, L_1,  [L_21, L_31],          0,           -_pi/2, 0,              q2-_pi/2,   True,  False, True,  dl2) # -- Intermediate\n",
    "    x[3]  = (L_21, L_20, [L_22],                l_2L3,       0,      0,              _pi/2,      False, False, False, dlN) # Pitch Back\n",
    "    x[4]  = (L_22, L_21, [L_24],                l_2H1,       0,      0,              -q2+_pi/2,  True,  False, False, dlN) # Pitch Front                                    )\n",
    "    #x[5]  = (L_23, L_21, [],                    l_2H1+l_2H2, 0,      0,              -q2+_pi/2,  True,  False, False, dlN)    # Intermediate\n",
    "    x[5]  = (L_24, L_22, [L_30],                l_2L2,       0,      0,              q2,         True,  False, False, dlN)    # Pitch Bottom\n",
    "    #x[7]  = (L_25, L_22, [],                    l_2L1,       0,      0,              q2+_pi,     True,  False, False, dlN)    # Pitch Top\n",
    "    x[6]  = (L_30, L_24, [L_4],                 l_3,         -_pi/2, q3-l_RCC+l_2H1,   0,        True,  False, True,  dl3)    # Pitch End\n",
    "    x[7]  = (L_31, L_20, [],                    l_2L3,       -_pi/2, q3/4,             0,        True,  False, False, dlN)    # Main Insertion\n",
    "    x[8] =  (L_4,  L_30, [L_5],                 0,           0,      l_tool,          q4,        True,  False, True,  dl10) # Intermediate Counterweight\n",
    "    x[9] =  (L_5,  L_4,  [L_6, L_7],            0,           _pi/2,  0,              qmd5+_pi/2,   True,  False, True,  dlN) # Counterweight\n",
    "    x[10] = (L_6,  L_5,  [],                    l_p2y,       -_pi/2, 0,              qmd6+_pi/2,   False,  False, True,  dlN) # Tool Roll \n",
    "    x[11] = (L_7,  L_5,  [],                    l_p2y,       -_pi/2, 0,              qmd7+_pi/2,   False,  False, True,  dlN) # Tool Pitch\n",
    "    \n",
    "    #x[14] = (M_6,  L_b,  [],                    0,           0,      0,              q6,         False, False,  False,  dlN) # Tool Yaw1 inert\n",
    "    #x[15] = (M_7,  L_b,  [],                    0,           0,      0,              q7,         False, False,  False,  dlN) # Tool Yaw2 inert\n",
    "    #x[16] = (F_67, L_b,  [],                    0,           0,      0,              qmd7-qmd6,  False, False, False,  dlN) # q6 q7 coupled friction\n",
    "                                                # Tf= (Fc+(Fo-Fc)e^-(q'/qs))*sgn(q')+Fv*q' qs: 0.05 tanh 10\n",
    "    # define link number\n",
    "    #L_b = 0\n",
    "    #L_1 = 1\n",
    "    #L_20 = 2\n",
    "    #L_21 = 3\n",
    "    #L_22 = 4\n",
    "    #L_30 = 5\n",
    "    #L_4 = 6\n",
    "    #L_5 = 7\n",
    "    #L_6 = 8\n",
    "    #L_7 = 9\n",
    "    #L_x = 10\n",
    "    #L_c = 11\n",
    "    #x[1]  = (L_1,  L_b,  [L_20],                0,           -_pi/2, 0,              q1,         True,  False, True,  dl1) # Yaw\n",
    "    #x[2]  = (L_20, L_1,  [L_21, L_31],          0.2,         0,      0,              q2,         True,  False, True,  dl2) # -- Intermediate\n",
    "    #x[3]  = (L_21, L_20, [L_22],                0.5,         0,      0,             -q2,         True,  False, False, dlN) # Pitch Back\n",
    "    #x[4]  = (L_22, L_21, [L_30],                0,           -_pi/2, 0,              q2,         True,  False, False, dlN) # Pitch Front                                    )\n",
    "    #x[5]  = (L_30, L_22, [L_4],                 0,           0,      q3,              0,         True,  False, True,  dlN)    # Intermediate\n",
    "    #x[6]  = (L_4,  L_30, [L_5],                 0,          _pi/2,   0,              q4,         True,  False, True,  dl10)    # Pitch Bottom\n",
    "    #x[7]  = (L_5,  L_4,  [L_6, L_7],            0.009,      -_pi/2,  0,              q5,         True,  False, True,  dlN)    # Pitch Top\n",
    "    #x[8]  = (L_6,  L_5,  [],                    0,          -_pi/2,  0,              q6,         True,  False, True,  dlN)    # Pitch End\n",
    "    #x[9]  = (L_7,  L_5,  [],                    0,          -_pi/2,  0,              q7,         True,  False, True,  dlN)    # Main Insertion\n",
    "    #x[10] = (L_x,  L_20, [L_c],                 0,          -_pi/2,  0,               0,         False, False, False, dlN) # Intermediate Counterweight\n",
    "    #x[11] = (L_c,  L_x,  [],                    0,           0,      q3/3,            0,         True,  False, False,  dlN) # Counterweight\n",
    "\n",
    "                                                # Tf= (Fc+(Fo-Fc)e^-(q'/qs))*sgn(q')+Fv*q' qs: 0.05 tanh 10\n",
    "   \n",
    "    \n",
    "    dh = x\n",
    "    friction_type = ['Coulomb', 'viscous', 'offset', 'striebeck']\n",
    "    #friction_type = ['Coulomb', 'viscous']\n",
    "    print(model_name)\n",
    "else:\n",
    "    raise Exception(\"No robot name matches \" + name)\n",
    "print(friction_type)\n",
    "robot_def = RobotDef(dh, dh_convention='mdh', friction_type=friction_type)"
   ]
  },
  {
   "cell_type": "code",
   "execution_count": 68,
   "metadata": {},
   "outputs": [
    {
     "data": {
      "text/plain": [
       "matrix([[ 1.0186 ,  0.     ,  0.     ],\n",
       "        [-0.8306 ,  1.21775,  0.     ],\n",
       "        [-0.8306 ,  0.     ,  1.21775]])"
      ]
     },
     "execution_count": 68,
     "metadata": {},
     "output_type": "execute_result"
    }
   ],
   "source": [
    "M_motor2dvrk_q = np.matrix([[1.0186, 0, 0], [-0.8306, 0.6089, 0.6089], [0, -1.2177, 1.2177]])\n",
    "M_model2dvrk_q = np.matrix([[1, 0, 0], [0, 0.5, 0.5], [0, -1, 1]])\n",
    "M_motor2model_q = np.linalg.inv(M_model2dvrk_q)*M_motor2dvrk_q\n",
    "M_motor2model_q[np.abs(M_motor2model_q) < 0.0001] = 0\n",
    "M_motor2model_q"
   ]
  },
  {
   "cell_type": "code",
   "execution_count": 69,
   "metadata": {},
   "outputs": [
    {
     "data": {
      "text/plain": [
       "['R', 'R', 'P', 'R', 'R', 'R', 'R']"
      ]
     },
     "execution_count": 69,
     "metadata": {},
     "output_type": "execute_result"
    }
   ],
   "source": [
    "robot_def.coordinates_joint_type"
   ]
  },
  {
   "cell_type": "code",
   "execution_count": 70,
   "metadata": {},
   "outputs": [
    {
     "data": {
      "image/png": "[encoded data removed]",
      "text/latex": [
       "$\\displaystyle \\left[ L1xx, \\  L1xy, \\  L1xz, \\  L1yy, \\  L1yz, \\  L1zz, \\  l1x, \\  l1y, \\  l1z, \\  m_{1}, \\  Fc_{1}, \\  Fv_{1}, \\  Fo_{1}, \\  qs_{1}, \\  K_{1}, \\  L2xx, \\  L2xy, \\  L2xz, \\  L2yy, \\  L2yz, \\  L2zz, \\  l2x, \\  l2y, \\  l2z, \\  m_{2}, \\  Fc_{2}, \\  Fv_{2}, \\  Fo_{2}, \\  qs_{2}, \\  K_{2}, \\  L4xx, \\  L4xy, \\  L4xz, \\  L4yy, \\  L4yz, \\  L4zz, \\  l4x, \\  l4y, \\  l4z, \\  m_{4}, \\  L5xx, \\  L5xy, \\  L5xz, \\  L5yy, \\  L5yz, \\  L5zz, \\  l5x, \\  l5y, \\  l5z, \\  m_{5}, \\  L6xx, \\  L6xy, \\  L6xz, \\  L6yy, \\  L6yz, \\  L6zz, \\  l6x, \\  l6y, \\  l6z, \\  m_{6}, \\  Fc_{6}, \\  Fv_{6}, \\  Fo_{6}, \\  qs_{6}, \\  L7xx, \\  L7xy, \\  L7xz, \\  L7yy, \\  L7yz, \\  L7zz, \\  l7x, \\  l7y, \\  l7z, \\  m_{7}, \\  L8xx, \\  L8xy, \\  L8xz, \\  L8yy, \\  L8yz, \\  L8zz, \\  l8x, \\  l8y, \\  l8z, \\  m_{8}, \\  Fc_{8}, \\  Fv_{8}, \\  Fo_{8}, \\  qs_{8}, \\  K_{8}, \\  L9xx, \\  L9xy, \\  L9xz, \\  L9yy, \\  L9yz, \\  L9zz, \\  l9x, \\  l9y, \\  l9z, \\  m_{9}, \\  Fc_{9}, \\  Fv_{9}, \\  Fo_{9}, \\  qs_{9}, \\  Fc_{10}, \\  Fv_{10}, \\  Fo_{10}, \\  qs_{10}, \\  Fc_{11}, \\  Fv_{11}, \\  Fo_{11}, \\  qs_{11}\\right]$"
      ],
      "text/plain": [
       "[L1xx, L1xy, L1xz, L1yy, L1yz, L1zz, l1x, l1y, l1z, m₁, Fc₁, Fv₁, Fo₁, qs₁, K₁\n",
       ", L2xx, L2xy, L2xz, L2yy, L2yz, L2zz, l2x, l2y, l2z, m₂, Fc₂, Fv₂, Fo₂, qs₂, K\n",
       "₂, L4xx, L4xy, L4xz, L4yy, L4yz, L4zz, l4x, l4y, l4z, m₄, L5xx, L5xy, L5xz, L5\n",
       "yy, L5yz, L5zz, l5x, l5y, l5z, m₅, L6xx, L6xy, L6xz, L6yy, L6yz, L6zz, l6x, l6\n",
       "y, l6z, m₆, Fc₆, Fv₆, Fo₆, qs₆, L7xx, L7xy, L7xz, L7yy, L7yz, L7zz, l7x, l7y, \n",
       "l7z, m₇, L8xx, L8xy, L8xz, L8yy, L8yz, L8zz, l8x, l8y, l8z, m₈, Fc₈, Fv₈, Fo₈,\n",
       " qs₈, K₈, L9xx, L9xy, L9xz, L9yy, L9yz, L9zz, l9x, l9y, l9z, m₉, Fc₉, Fv₉, Fo₉\n",
       ", qs₉, Fc₁₀, Fv₁₀, Fo₁₀, qs₁₀, Fc₁₁, Fv₁₁, Fo₁₁, qs₁₁]"
      ]
     },
     "execution_count": 70,
     "metadata": {},
     "output_type": "execute_result"
    }
   ],
   "source": [
    "robot_def.bary_params"
   ]
  },
  {
   "cell_type": "markdown",
   "metadata": {},
   "source": [
    "## Create kinematics chain"
   ]
  },
  {
   "cell_type": "code",
   "execution_count": 71,
   "metadata": {
    "scrolled": true
   },
   "outputs": [
    {
     "name": "stdout",
     "output_type": "stream",
     "text": [
      "Frame: 0\n",
      "Frame: 1\n",
      "Frame: 2\n",
      "Frame: 3\n",
      "Frame: 4\n",
      "Frame: 5\n",
      "Frame: 6\n",
      "Frame: 7\n",
      "Frame: 8\n",
      "Frame: 9\n",
      "Frame: 10\n",
      "Frame: 11\n",
      "CPU times: user 27min 1s, sys: 9.15 s, total: 27min 10s\n",
      "Wall time: 27min 10s\n"
     ]
    }
   ],
   "source": [
    "%time geom = Geometry(robot_def)"
   ]
  },
  {
   "cell_type": "code",
   "execution_count": 72,
   "metadata": {},
   "outputs": [
    {
     "data": {
      "text/latex": [
       "$\\displaystyle \\left[\\begin{matrix}\\sin{\\left(q_{1} \\right)} \\sin{\\left(q_{2} \\right)} & \\cos{\\left(q_{1} \\right)} & \\sin{\\left(q_{1} \\right)} \\cos{\\left(q_{2} \\right)} & \\left(1.0 q_{3} - 0.4318\\right) \\sin{\\left(q_{1} \\right)} \\cos{\\left(q_{2} \\right)}\\\\\\cos{\\left(q_{2} \\right)} & 0 & - \\sin{\\left(q_{2} \\right)} & - 1.0 q_{3} \\sin{\\left(q_{2} \\right)} + 0.4318 \\sin{\\left(q_{2} \\right)} + 0.516\\\\- \\sin{\\left(q_{2} \\right)} \\cos{\\left(q_{1} \\right)} & \\sin{\\left(q_{1} \\right)} & - \\cos{\\left(q_{1} \\right)} \\cos{\\left(q_{2} \\right)} & \\left(0.4318 - 1.0 q_{3}\\right) \\cos{\\left(q_{1} \\right)} \\cos{\\left(q_{2} \\right)}\\\\0 & 0 & 0 & 1\\end{matrix}\\right]$"
      ],
      "text/plain": [
       "⎡sin(q₁)⋅sin(q₂)   cos(q₁)  sin(q₁)⋅cos(q₂)      (1.0⋅q₃ - 0.4318)⋅sin(q₁)⋅cos\n",
       "⎢                                                                             \n",
       "⎢    cos(q₂)          0         -sin(q₂)      -1.0⋅q₃⋅sin(q₂) + 0.4318⋅sin(q₂)\n",
       "⎢                                                                             \n",
       "⎢-sin(q₂)⋅cos(q₁)  sin(q₁)  -cos(q₁)⋅cos(q₂)     (0.4318 - 1.0⋅q₃)⋅cos(q₁)⋅cos\n",
       "⎢                                                                             \n",
       "⎣       0             0            0                             1            \n",
       "\n",
       "(q₂)    ⎤\n",
       "        ⎥\n",
       " + 0.516⎥\n",
       "        ⎥\n",
       "(q₂)    ⎥\n",
       "        ⎥\n",
       "        ⎦"
      ]
     },
     "execution_count": 72,
     "metadata": {},
     "output_type": "execute_result"
    }
   ],
   "source": [
    "geom.T_0n[6]"
   ]
  },
  {
   "cell_type": "code",
   "execution_count": 73,
   "metadata": {},
   "outputs": [],
   "source": [
    "import csv\n",
    "                \n",
    "trajectory_name = 'ondorttr' # omer #############################################################################\n",
    "\n",
    "with open('data/' + model_name + '/model/kinematics/' + trajectory_name + '_T01.csv', 'wb') as myfile:\n",
    "    wr = csv.writer(myfile, quoting=csv.QUOTE_NONE)\n",
    "    wr.writerow(geom.T_0n[1])\n",
    "    \n",
    "with open('data/' + model_name + '/model/kinematics/' + trajectory_name + '_T02.csv', 'wb') as myfile:\n",
    "    wr = csv.writer(myfile, quoting=csv.QUOTE_NONE)\n",
    "    wr.writerow(geom.T_0n[2])\n",
    "    \n",
    "with open('data/' + model_name + '/model/kinematics/' + trajectory_name + '_T03.csv', 'wb') as myfile:\n",
    "    wr = csv.writer(myfile, quoting=csv.QUOTE_NONE)\n",
    "    wr.writerow(geom.T_0n[3])\n",
    "    \n",
    "with open('data/' + model_name + '/model/kinematics/' + trajectory_name + '_T04.csv', 'wb') as myfile:\n",
    "    wr = csv.writer(myfile, quoting=csv.QUOTE_NONE)\n",
    "    wr.writerow(geom.T_0n[4])\n",
    "    \n",
    "with open('data/' + model_name + '/model/kinematics/' + trajectory_name + '_T05.csv', 'wb') as myfile:\n",
    "    wr = csv.writer(myfile, quoting=csv.QUOTE_NONE)\n",
    "    wr.writerow(geom.T_0n[5])\n",
    "    \n",
    "with open('data/' + model_name + '/model/kinematics/' + trajectory_name + '_T06.csv', 'wb') as myfile:\n",
    "    wr = csv.writer(myfile, quoting=csv.QUOTE_NONE)\n",
    "    wr.writerow(geom.T_0n[6])\n",
    "    \n",
    "with open('data/' + model_name + '/model/kinematics/' + trajectory_name + '_T07.csv', 'wb') as myfile:\n",
    "    wr = csv.writer(myfile, quoting=csv.QUOTE_NONE)\n",
    "    wr.writerow(geom.T_0n[7])\n",
    "    \n",
    "with open('data/' + model_name + '/model/kinematics/' + trajectory_name + '_T08.csv', 'wb') as myfile:\n",
    "    wr = csv.writer(myfile, quoting=csv.QUOTE_NONE)\n",
    "    wr.writerow(geom.T_0n[8])\n",
    "    \n",
    "with open('data/' + model_name + '/model/kinematics/' + trajectory_name + '_T09.csv', 'wb') as myfile:\n",
    "    wr = csv.writer(myfile, quoting=csv.QUOTE_NONE)\n",
    "    wr.writerow(geom.T_0n[9])\n",
    "    \n",
    "with open('data/' + model_name + '/model/kinematics/' + trajectory_name + '_T10.csv', 'wb') as myfile:\n",
    "    wr = csv.writer(myfile, quoting=csv.QUOTE_NONE)\n",
    "    wr.writerow(geom.T_0n[10])\n",
    "    \n",
    "with open('data/' + model_name + '/model/kinematics/' + trajectory_name + '_T11.csv', 'wb') as myfile:\n",
    "    wr = csv.writer(myfile, quoting=csv.QUOTE_NONE)\n",
    "    wr.writerow(geom.T_0n[11])\n",
    "    "
   ]
  },
  {
   "cell_type": "code",
   "execution_count": 74,
   "metadata": {},
   "outputs": [
    {
     "data": {
      "image/png": "[encoded data removed]",
      "text/plain": [
       "<Figure size 864x576 with 1 Axes>"
      ]
     },
     "metadata": {
      "needs_background": "light"
     },
     "output_type": "display_data"
    }
   ],
   "source": [
    "angle = [0, 0.0, 0, 0, 0, 0, 0]\n",
    "geom.draw_geom(angle)"
   ]
  },
  {
   "cell_type": "markdown",
   "metadata": {},
   "source": [
    "## Create dynamics"
   ]
  },
  {
   "cell_type": "code",
   "execution_count": 75,
   "metadata": {
    "scrolled": true
   },
   "outputs": [
    {
     "name": "stdout",
     "output_type": "stream",
     "text": [
      "Calculating Lagrangian...\n",
      "Calculating the link kinetic energy of 1/11\n",
      "Calculating the link kinetic energy of 2/11\n",
      "Calculating the link kinetic energy of 4/11\n",
      "Calculating the link kinetic energy of 5/11\n",
      "Calculating the link kinetic energy of 6/11\n",
      "Calculating the link kinetic energy of 7/11\n",
      "Calculating the link kinetic energy of 8/11\n",
      "Calculating the link kinetic energy of 9/11\n",
      "Calculating joint torques...\n",
      "tau of q1\n",
      "tau of q2\n",
      "tau of q3\n",
      "tau of q4\n",
      "tau of q5\n",
      "tau of q7\n",
      "tau of q6\n",
      "Adding frictions and springs...\n",
      "Add motor inertia...\n",
      "Calculating regressor...\n",
      "Calculating M, C and G...\n",
      "Calculating base parameter...\n",
      "base parameter number: 47\n",
      "Creating H_b function...\n",
      "Finished creating robot dynamics\n",
      "CPU times: user 3min 17s, sys: 1.38 s, total: 3min 18s\n",
      "Wall time: 3min 13s\n"
     ]
    }
   ],
   "source": [
    "%time dyn = Dynamics(robot_def, geom)"
   ]
  },
  {
   "cell_type": "code",
   "execution_count": 76,
   "metadata": {
    "scrolled": true
   },
   "outputs": [
    {
     "data": {
      "text/latex": [
       "$\\displaystyle \\left[\\begin{matrix}1.0 m_{6} + 1.0 m_{8} + 1.0 m_{9}\\\\1.0 l9x\\\\1.0 l9y\\\\1.0 l8x\\\\1.0 l8y - 1.0 l9z\\\\- 0.2 l2y + 0.2 l5y + 1.0 l6z + 1.0 l8z - 0.028908 m_{4} - 0.028908 m_{5} + 0.4162 m_{8} + 0.4162 m_{9}\\\\1.0 L9xy\\\\- 0.2 l2x + 0.2 l5x + 1.0 l6x - 0.008018 m_{4} - 0.008018 m_{5}\\\\1.0 L9yz\\\\1.0 L9xz\\\\- 0.2 l1y - 0.2 l2z - 0.2 l4z - 0.2 l5z + 1.0 l6y\\\\1.0 L8xy\\\\1.0 L8xz\\\\1.0 L2zz + 1.0 L5zz + 1.0 L6yy + 1.0 L7yy + 1.0 L8xx + 1.0 L9yy - 0.064144 l2x - 0.00624 l2y - 0.016036 l5x - 0.28284 l5y - 0.8324 l6z + 0.01902556 m_{4} + 0.01902556 m_{5} - 0.17322244 m_{8} - 0.17322244 m_{9}\\\\1.0 L8yz\\\\0.8 l2y - 0.8 l5y + 1.0 l7z + 0.115632 m_{4} + 0.115632 m_{5}\\\\0.8 l2x - 0.8 l5x + 1.0 l7x + 0.032072 m_{4} + 0.032072 m_{5}\\\\1.0 L9zz\\\\1.0 l4y\\\\- 0.8 l1y - 0.8 l2z - 0.8 l4z - 0.8 l5z + 1.0 l7y\\\\1.0 L2xy + 1.0 L5xy + 1.0 L6xz + 1.0 L7xz + 0.08636 l2x + 0.032072 l2y + 0.05818 l5x + 0.008018 l5y + 0.00230325 m_{4} + 0.00230325 m_{5}\\\\1.0 L2zz + 1.0 L5zz + 1.0 L6yy + 1.0 L7yy + 1.0 L8xx + 1.0 L9xx - 0.064144 l2x - 0.00624 l2y - 0.016036 l5x - 0.28284 l5y - 0.8324 l6z + 0.01902556 m_{4} + 0.01902556 m_{5} - 0.17322244 m_{8} - 0.17322244 m_{9}\\\\- 1.0 L2xz + 1.0 L5xz - 1.0 L6xy + 1.0 L7xy - 0.032072 l1y - 0.032072 l2z + 0.008018 l4z + 0.008018 l5z\\\\- 1.0 L2zz - 1.0 L5zz - 1.0 L6yy - 1.0 L7yy - 1.0 L8xx + 1.0 L8zz + 0.064144 l2x + 0.00624 l2y + 0.016036 l5x + 0.28284 l5y + 0.8324 l6z - 0.01902556 m_{4} - 0.01902556 m_{5} + 0.17322244 m_{8} + 0.17322244 m_{9}\\\\- 1.0 L2yz + 1.0 L5yz - 1.0 L6yz + 1.0 L7yz - 0.08636 l1y - 0.08636 l2z + 0.05818 l4z + 0.05818 l5z\\\\1.0 m_{7}\\\\1.0 L2zz + 1.0 L5zz + 1.0 L6yy + 1.0 L7yy + 1.0 L8yy - 0.064144 l2x - 0.00624 l2y - 0.016036 l5x - 0.28284 l5y - 0.8324 l6z + 0.01902556 m_{4} + 0.01902556 m_{5} - 0.17322244 m_{8} - 0.17322244 m_{9}\\\\1.0 Fv_{11}\\\\1.0 Fv_{10}\\\\1.0 L1zz + 1.0 L2yy + 1.0 L4xx + 1.0 L5yy + 1.0 L6zz + 1.0 L7zz - 0.064144 l2x - 0.016036 l5x - 0.00096432 m_{4} - 0.00096432 m_{5}\\\\1.0 Fv_{2}\\\\1.0 Fv_{6}\\\\1.0 Fv_{8}\\\\1.0 Fv_{1}\\\\1.0 K_{8}\\\\1.0 K_{2}\\\\1.0 L1zz + 1.0 L2xx - 1.0 L2zz + 1.0 L4xx + 1.0 L5xx - 1.0 L5zz + 1.0 L6xx - 1.0 L6yy + 1.0 L7xx - 1.0 L7yy + 0.064144 l2x + 0.016036 l5x + 0.00096432 m_{4} + 0.00096432 m_{5}\\\\1.0 K_{1}\\\\1.0 Fv_{9}\\\\1.0 l1x\\\\1.0 Fc_{11}\\\\1.0 Fc_{10}\\\\1.0 Fc_{6}\\\\1.0 Fc_{2}\\\\1.0 Fc_{8}\\\\1.0 Fc_{9}\\\\1.0 Fc_{1}\\end{matrix}\\right]$"
      ],
      "text/plain": [
       "⎡                                                                             \n",
       "⎢                                                                             \n",
       "⎢                                                                             \n",
       "⎢                                                                             \n",
       "⎢                                                                             \n",
       "⎢                                                                             \n",
       "⎢                                                                             \n",
       "⎢                                                                             \n",
       "⎢                                                                             \n",
       "⎢                                                                             \n",
       "⎢                                                      -0.2⋅l2y + 0.2⋅l5y + 1.\n",
       "⎢                                                                             \n",
       "⎢                                                                             \n",
       "⎢                                                                             \n",
       "⎢                                                                       -0.2⋅l\n",
       "⎢                                                                             \n",
       "⎢                                                                             \n",
       "⎢                                                                             \n",
       "⎢                                                                             \n",
       "⎢                                                                             \n",
       "⎢                                                                           -0\n",
       "⎢                                                                             \n",
       "⎢                                                                             \n",
       "⎢                                                                             \n",
       "⎢                                                                             \n",
       "⎢                                                                             \n",
       "⎢1.0⋅L2zz + 1.0⋅L5zz + 1.0⋅L6yy + 1.0⋅L7yy + 1.0⋅L8xx + 1.0⋅L9yy - 0.064144⋅l2\n",
       "⎢                                                                             \n",
       "⎢                                                                             \n",
       "⎢                                                                             \n",
       "⎢                                                                        0.8⋅l\n",
       "⎢                                                                             \n",
       "⎢                                                                        0.8⋅l\n",
       "⎢                                                                             \n",
       "⎢                                                                             \n",
       "⎢                                                                             \n",
       "⎢                                                                             \n",
       "⎢                                                                             \n",
       "⎢                                                                           -0\n",
       "⎢                                                                             \n",
       "⎢                                  1.0⋅L2xy + 1.0⋅L5xy + 1.0⋅L6xz + 1.0⋅L7xz +\n",
       "⎢                                                                             \n",
       "⎢1.0⋅L2zz + 1.0⋅L5zz + 1.0⋅L6yy + 1.0⋅L7yy + 1.0⋅L8xx + 1.0⋅L9xx - 0.064144⋅l2\n",
       "⎢                                                                             \n",
       "⎢                                                -1.0⋅L2xz + 1.0⋅L5xz - 1.0⋅L6\n",
       "⎢                                                                             \n",
       "⎢-1.0⋅L2zz - 1.0⋅L5zz - 1.0⋅L6yy - 1.0⋅L7yy - 1.0⋅L8xx + 1.0⋅L8zz + 0.064144⋅l\n",
       "⎢                                                                             \n",
       "⎢                                                  -1.0⋅L2yz + 1.0⋅L5yz - 1.0⋅\n",
       "⎢                                                                             \n",
       "⎢                                                                             \n",
       "⎢                                                                             \n",
       "⎢      1.0⋅L2zz + 1.0⋅L5zz + 1.0⋅L6yy + 1.0⋅L7yy + 1.0⋅L8yy - 0.064144⋅l2x - 0\n",
       "⎢                                                                             \n",
       "⎢                                                                             \n",
       "⎢                                                                             \n",
       "⎢                                                                             \n",
       "⎢                                                                             \n",
       "⎢                                     1.0⋅L1zz + 1.0⋅L2yy + 1.0⋅L4xx + 1.0⋅L5y\n",
       "⎢                                                                             \n",
       "⎢                                                                             \n",
       "⎢                                                                             \n",
       "⎢                                                                             \n",
       "⎢                                                                             \n",
       "⎢                                                                             \n",
       "⎢                                                                             \n",
       "⎢                                                                             \n",
       "⎢                                                                             \n",
       "⎢                                                                             \n",
       "⎢                                                                             \n",
       "⎢                                                                             \n",
       "⎢                                                                             \n",
       "⎢               1.0⋅L1zz + 1.0⋅L2xx - 1.0⋅L2zz + 1.0⋅L4xx + 1.0⋅L5xx - 1.0⋅L5z\n",
       "⎢                                                                             \n",
       "⎢                                                                             \n",
       "⎢                                                                             \n",
       "⎢                                                                             \n",
       "⎢                                                                             \n",
       "⎢                                                                             \n",
       "⎢                                                                             \n",
       "⎢                                                                             \n",
       "⎢                                                                             \n",
       "⎢                                                                             \n",
       "⎢                                                                             \n",
       "⎢                                                                             \n",
       "⎢                                                                             \n",
       "⎢                                                                             \n",
       "⎢                                                                             \n",
       "⎢                                                                             \n",
       "⎢                                                                             \n",
       "⎢                                                                             \n",
       "⎢                                                                             \n",
       "⎣                                                                             \n",
       "\n",
       "          1.0⋅m₆ + 1.0⋅m₈ + 1.0⋅m₉                                            \n",
       "                                                                              \n",
       "                   1.0⋅l9x                                                    \n",
       "                                                                              \n",
       "                   1.0⋅l9y                                                    \n",
       "                                                                              \n",
       "                   1.0⋅l8x                                                    \n",
       "                                                                              \n",
       "              1.0⋅l8y - 1.0⋅l9z                                               \n",
       "                                                                              \n",
       "0⋅l6z + 1.0⋅l8z - 0.028908⋅m₄ - 0.028908⋅m₅ + 0.4162⋅m₈ + 0.4162⋅m₉           \n",
       "                                                                              \n",
       "                  1.0⋅L9xy                                                    \n",
       "                                                                              \n",
       "2x + 0.2⋅l5x + 1.0⋅l6x - 0.008018⋅m₄ - 0.008018⋅m₅                            \n",
       "                                                                              \n",
       "                  1.0⋅L9yz                                                    \n",
       "                                                                              \n",
       "                  1.0⋅L9xz                                                    \n",
       "                                                                              \n",
       ".2⋅l1y - 0.2⋅l2z - 0.2⋅l4z - 0.2⋅l5z + 1.0⋅l6y                                \n",
       "                                                                              \n",
       "                  1.0⋅L8xy                                                    \n",
       "                                                                              \n",
       "                  1.0⋅L8xz                                                    \n",
       "                                                                              \n",
       "x - 0.00624⋅l2y - 0.016036⋅l5x - 0.28284⋅l5y - 0.8324⋅l6z + 0.01902556⋅m₄ + 0.\n",
       "                                                                              \n",
       "                  1.0⋅L8yz                                                    \n",
       "                                                                              \n",
       "2y - 0.8⋅l5y + 1.0⋅l7z + 0.115632⋅m₄ + 0.115632⋅m₅                            \n",
       "                                                                              \n",
       "2x - 0.8⋅l5x + 1.0⋅l7x + 0.032072⋅m₄ + 0.032072⋅m₅                            \n",
       "                                                                              \n",
       "                  1.0⋅L9zz                                                    \n",
       "                                                                              \n",
       "                   1.0⋅l4y                                                    \n",
       "                                                                              \n",
       ".8⋅l1y - 0.8⋅l2z - 0.8⋅l4z - 0.8⋅l5z + 1.0⋅l7y                                \n",
       "                                                                              \n",
       " 0.08636⋅l2x + 0.032072⋅l2y + 0.05818⋅l5x + 0.008018⋅l5y + 0.00230325⋅m₄ + 0.0\n",
       "                                                                              \n",
       "x - 0.00624⋅l2y - 0.016036⋅l5x - 0.28284⋅l5y - 0.8324⋅l6z + 0.01902556⋅m₄ + 0.\n",
       "                                                                              \n",
       "xy + 1.0⋅L7xy - 0.032072⋅l1y - 0.032072⋅l2z + 0.008018⋅l4z + 0.008018⋅l5z     \n",
       "                                                                              \n",
       "2x + 0.00624⋅l2y + 0.016036⋅l5x + 0.28284⋅l5y + 0.8324⋅l6z - 0.01902556⋅m₄ - 0\n",
       "                                                                              \n",
       "L6yz + 1.0⋅L7yz - 0.08636⋅l1y - 0.08636⋅l2z + 0.05818⋅l4z + 0.05818⋅l5z       \n",
       "                                                                              \n",
       "                   1.0⋅m₇                                                     \n",
       "                                                                              \n",
       ".00624⋅l2y - 0.016036⋅l5x - 0.28284⋅l5y - 0.8324⋅l6z + 0.01902556⋅m₄ + 0.01902\n",
       "                                                                              \n",
       "                  1.0⋅Fv₁₁                                                    \n",
       "                                                                              \n",
       "                  1.0⋅Fv₁₀                                                    \n",
       "                                                                              \n",
       "y + 1.0⋅L6zz + 1.0⋅L7zz - 0.064144⋅l2x - 0.016036⋅l5x - 0.00096432⋅m₄ - 0.0009\n",
       "                                                                              \n",
       "                   1.0⋅Fv₂                                                    \n",
       "                                                                              \n",
       "                   1.0⋅Fv₆                                                    \n",
       "                                                                              \n",
       "                   1.0⋅Fv₈                                                    \n",
       "                                                                              \n",
       "                   1.0⋅Fv₁                                                    \n",
       "                                                                              \n",
       "                   1.0⋅K₈                                                     \n",
       "                                                                              \n",
       "                   1.0⋅K₂                                                     \n",
       "                                                                              \n",
       "z + 1.0⋅L6xx - 1.0⋅L6yy + 1.0⋅L7xx - 1.0⋅L7yy + 0.064144⋅l2x + 0.016036⋅l5x + \n",
       "                                                                              \n",
       "                   1.0⋅K₁                                                     \n",
       "                                                                              \n",
       "                   1.0⋅Fv₉                                                    \n",
       "                                                                              \n",
       "                   1.0⋅l1x                                                    \n",
       "                                                                              \n",
       "                  1.0⋅Fc₁₁                                                    \n",
       "                                                                              \n",
       "                  1.0⋅Fc₁₀                                                    \n",
       "                                                                              \n",
       "                   1.0⋅Fc₆                                                    \n",
       "                                                                              \n",
       "                   1.0⋅Fc₂                                                    \n",
       "                                                                              \n",
       "                   1.0⋅Fc₈                                                    \n",
       "                                                                              \n",
       "                   1.0⋅Fc₉                                                    \n",
       "                                                                              \n",
       "                   1.0⋅Fc₁                                                    \n",
       "\n",
       "                                            ⎤\n",
       "                                            ⎥\n",
       "                                            ⎥\n",
       "                                            ⎥\n",
       "                                            ⎥\n",
       "                                            ⎥\n",
       "                                            ⎥\n",
       "                                            ⎥\n",
       "                                            ⎥\n",
       "                                            ⎥\n",
       "                                            ⎥\n",
       "                                            ⎥\n",
       "                                            ⎥\n",
       "                                            ⎥\n",
       "                                            ⎥\n",
       "                                            ⎥\n",
       "                                            ⎥\n",
       "                                            ⎥\n",
       "                                            ⎥\n",
       "                                            ⎥\n",
       "                                            ⎥\n",
       "                                            ⎥\n",
       "                                            ⎥\n",
       "                                            ⎥\n",
       "                                            ⎥\n",
       "                                            ⎥\n",
       "01902556⋅m₅ - 0.17322244⋅m₈ - 0.17322244⋅m₉ ⎥\n",
       "                                            ⎥\n",
       "                                            ⎥\n",
       "                                            ⎥\n",
       "                                            ⎥\n",
       "                                            ⎥\n",
       "                                            ⎥\n",
       "                                            ⎥\n",
       "                                            ⎥\n",
       "                                            ⎥\n",
       "                                            ⎥\n",
       "                                            ⎥\n",
       "                                            ⎥\n",
       "                                            ⎥\n",
       "0230325⋅m₅                                  ⎥\n",
       "                                            ⎥\n",
       "01902556⋅m₅ - 0.17322244⋅m₈ - 0.17322244⋅m₉ ⎥\n",
       "                                            ⎥\n",
       "                                            ⎥\n",
       "                                            ⎥\n",
       ".01902556⋅m₅ + 0.17322244⋅m₈ + 0.17322244⋅m₉⎥\n",
       "                                            ⎥\n",
       "                                            ⎥\n",
       "                                            ⎥\n",
       "                                            ⎥\n",
       "                                            ⎥\n",
       "556⋅m₅ - 0.17322244⋅m₈ - 0.17322244⋅m₉      ⎥\n",
       "                                            ⎥\n",
       "                                            ⎥\n",
       "                                            ⎥\n",
       "                                            ⎥\n",
       "                                            ⎥\n",
       "6432⋅m₅                                     ⎥\n",
       "                                            ⎥\n",
       "                                            ⎥\n",
       "                                            ⎥\n",
       "                                            ⎥\n",
       "                                            ⎥\n",
       "                                            ⎥\n",
       "                                            ⎥\n",
       "                                            ⎥\n",
       "                                            ⎥\n",
       "                                            ⎥\n",
       "                                            ⎥\n",
       "                                            ⎥\n",
       "                                            ⎥\n",
       "0.00096432⋅m₄ + 0.00096432⋅m₅               ⎥\n",
       "                                            ⎥\n",
       "                                            ⎥\n",
       "                                            ⎥\n",
       "                                            ⎥\n",
       "                                            ⎥\n",
       "                                            ⎥\n",
       "                                            ⎥\n",
       "                                            ⎥\n",
       "                                            ⎥\n",
       "                                            ⎥\n",
       "                                            ⎥\n",
       "                                            ⎥\n",
       "                                            ⎥\n",
       "                                            ⎥\n",
       "                                            ⎥\n",
       "                                            ⎥\n",
       "                                            ⎥\n",
       "                                            ⎥\n",
       "                                            ⎥\n",
       "                                            ⎦"
      ]
     },
     "execution_count": 76,
     "metadata": {},
     "output_type": "execute_result"
    }
   ],
   "source": [
    "sympy.Matrix(dyn.base_param)"
   ]
  },
  {
   "cell_type": "code",
   "execution_count": 77,
   "metadata": {},
   "outputs": [
    {
     "name": "stdout",
     "output_type": "stream",
     "text": [
      "Saved 47 parameters\n"
     ]
    }
   ],
   "source": [
    "from data import RobotModel\n",
    "\n",
    "# Data to be saved\n",
    "robot_model = RobotModel(dyn)\n",
    "\n",
    "\n",
    "# Save\n",
    "save_data(model_folder, model_name, robot_model)\n",
    "save_data(model_folder, trajectory_name, robot_model)\n",
    "print('Saved {} parameters'.format(len(robot_model.base_param)))"
   ]
  },
  {
   "cell_type": "code",
   "execution_count": null,
   "metadata": {},
   "outputs": [],
   "source": []
  },
  {
   "cell_type": "code",
   "execution_count": 78,
   "metadata": {},
   "outputs": [],
   "source": [
    "import csv\n",
    "                \n",
    "with open('data/' + model_name + '/model/' + trajectory_name + '_M.csv', 'wb') as myfile:\n",
    "    wr = csv.writer(myfile, quoting=csv.QUOTE_NONE)\n",
    "    wr.writerow(dyn.M)\n",
    "    \n",
    "with open('data/' + model_name + '/model/' + trajectory_name + '_C.csv', 'wb') as myfile:\n",
    "    wr = csv.writer(myfile, quoting=csv.QUOTE_NONE)\n",
    "    wr.writerow(dyn.C)\n",
    "    \n",
    "with open('data/' + model_name + '/model/' + trajectory_name + '_G.csv', 'wb') as myfile:\n",
    "    wr = csv.writer(myfile, quoting=csv.QUOTE_NONE)\n",
    "    wr.writerow(dyn.G)"
   ]
  },
  {
   "cell_type": "markdown",
   "metadata": {},
   "source": [
    "---\n",
    "# 3 - Excitation trajectory optimization"
   ]
  },
  {
   "cell_type": "code",
   "execution_count": 79,
   "metadata": {},
   "outputs": [],
   "source": [
    "##model_name = 'psm_simplified'\n",
    "#model_name = 'psm'"
   ]
  },
  {
   "cell_type": "markdown",
   "metadata": {},
   "source": [
    "Load Data"
   ]
  },
  {
   "cell_type": "code",
   "execution_count": 80,
   "metadata": {},
   "outputs": [],
   "source": [
    "#from utils import load_data\n",
    "#model_folder = 'data/' + model_name + '/model/'\n",
    "#robot_model = load_data(model_folder, model_name)"
   ]
  },
  {
   "cell_type": "markdown",
   "metadata": {},
   "source": [
    "## Create trajectory optimizer object, with H matrix, foourier order, base frequency, joint constraints and cartisian constraints as input"
   ]
  },
  {
   "cell_type": "code",
   "execution_count": 81,
   "metadata": {},
   "outputs": [],
   "source": [
    "##trajectory_name = 'one'\n",
    "##trajectory_name = 'three'\n",
    "##trajectory_name = 'four'"
   ]
  },
  {
   "cell_type": "code",
   "execution_count": 82,
   "metadata": {
    "scrolled": true
   },
   "outputs": [],
   "source": [
    "#from numpy import deg2rad\n",
    "\n",
    "#optimal_trajectory_folder = 'data/optimal_trajectory/'\n",
    "#trajectory_folder = 'data/' + model_name +'/optimal_trajectory/'\n",
    "\n",
    "#base_freq = 0.18\n",
    "#fourier_order = 6\n",
    "\n",
    "#joint_constraints = []\n",
    "#cartesian_constraints = []\n",
    "\n",
    "#model_name = 'psm_simplified'\n",
    "#model_name = 'psm'\n",
    "\n",
    "#if model_name == 'psm':\n",
    "#    q_dvrk7 = 1.2177*q7 - 1.2177*q6\n",
    "##     q_mod6 = (4871*q6)/4000 - (4153*q5)/5000\n",
    "##     q_mod7 = - (4153*q5)/5000 + (4871*q7)/4000\n",
    "    \n",
    "#    q_dvrk5 = 1.0186 * q5\n",
    "#    q_mod6 = -0.8306 * q5 + 1.2178 * q6\n",
    "#    q_mod7 = -0.8306 * q5 + 1.2178 * q7\n",
    "    \n",
    "##    joint_constraints = [(q1, -1.45, 1.45, -1.7, 1.7),\n",
    "##                         (q2, -0.75, 0.8, -1.7, 1.7),\n",
    "##                         (q3,0.07,0.235,-0.35,0.35),\n",
    "##                         (q4,-1.5,1.5,-2,2),\n",
    "##                         (q_dvrk5,-1.4,1.4,-2,2), \n",
    "##                         (q_dvrk7, 0.15, 3,-3,3),\n",
    "##                         (q_mod7, -1.5, 1.5,-2,2),\n",
    "##                          (q_mod6, -1.5, 1.5,-2,2)]\n",
    " #   joint_constraints = [(q1, -0.52, 1.35, -1.7, 1.7),\n",
    " #                        (q2, -0.7, 0.8, -1.7, 1.7),\n",
    " #                        (q3,0.07,0.235,-0.35,0.35),\n",
    " #                        (q4,-1.5,1.5,-2,2),\n",
    " #                        (q_dvrk5,-1.24,1.24,-2,2), \n",
    " #                        (q_dvrk7, 0.15, 3,-3,3),\n",
    " #                        (q_mod7, -0.26, 2.29,-2,2),\n",
    " #                         (q_mod6, -0.26, 2.29,-2,2)]\n",
    "#else:\n",
    "    #raise Exception(\"No robot name matches \" + model_name)\n",
    "    \n",
    "#traj_optimizer = TrajOptimizer2(robot_model, fourier_order, base_freq,\n",
    "                              # joint_constraints=joint_constraints,\n",
    "                            #   cartesian_constraints = cartesian_constraints)\n",
    "                                                                                                 \n",
    "                                                                                                                     \n",
    "#traj_optimizer.optimize()\n"
   ]
  },
  {
   "cell_type": "code",
   "execution_count": 83,
   "metadata": {},
   "outputs": [],
   "source": [
    "#reg_norm_mat = traj_optimizer.calc_normalize_mat()"
   ]
  },
  {
   "cell_type": "markdown",
   "metadata": {},
   "source": [
    "## Plot optimal excitation trajectory"
   ]
  },
  {
   "cell_type": "code",
   "execution_count": 84,
   "metadata": {},
   "outputs": [],
   "source": [
    "#traj_optimizer.calc_frame_traj()"
   ]
  },
  {
   "cell_type": "code",
   "execution_count": 85,
   "metadata": {},
   "outputs": [],
   "source": [
    "#traj_plotter = TrajPlotter(traj_optimizer.fourier_traj,traj_optimizer.frame_traj,\n",
    "                           #traj_optimizer.const_frame_ind, robot_model.coordinates)\n",
    "#traj_plotter.plot_desired_traj(traj_optimizer.x_result)\n",
    "\n",
    "#traj_plotter.plot_frame_traj(True)"
   ]
  },
  {
   "cell_type": "markdown",
   "metadata": {},
   "source": [
    "## Save trajectory for later use"
   ]
  },
  {
   "cell_type": "code",
   "execution_count": 86,
   "metadata": {},
   "outputs": [],
   "source": [
    "#model_name = 'psm_simplified'\n",
    "#model_name = 'psm'"
   ]
  },
  {
   "cell_type": "code",
   "execution_count": 87,
   "metadata": {},
   "outputs": [],
   "source": [
    "#dof_order_bf_x_norm = (traj_optimizer.fourier_traj.dof, fourier_order,\n",
    "                    #   base_freq, traj_optimizer.x_result, reg_norm_mat)\n",
    "#save_data(trajectory_folder, trajectory_name, dof_order_bf_x_norm)"
   ]
  },
  {
   "cell_type": "code",
   "execution_count": 88,
   "metadata": {
    "scrolled": false
   },
   "outputs": [],
   "source": [
    "#from IPython.display import HTML, display\n",
    "#import tabulate\n",
    "\n",
    "#table = []\n",
    "#table.append([\"joint\", 'qo'] +\n",
    "       #      [\"a\"+str(i+1) for i in range(fourier_order)] +\n",
    "       #      [\"b\"+str(i+1) for i in range(fourier_order)])\n",
    "#for i in range(traj_optimizer.fourier_traj.dof):\n",
    " #   line = []\n",
    " #   line.append(robot_model.coordinates[i])\n",
    " #   line += np.round(traj_optimizer.x_result[i*(1 + fourier_order*2): (i+1)*(1 + fourier_order*2)], 4).tolist()\n",
    " #   table.append(line)\n",
    "\n",
    "#display(HTML(tabulate.tabulate(table, tablefmt='html')))"
   ]
  }
 ],
 "metadata": {
  "kernelspec": {
   "display_name": "Python 2",
   "language": "python",
   "name": "python2"
  },
  "language_info": {
   "codemirror_mode": {
    "name": "ipython",
    "version": 2
   },
   "file_extension": ".py",
   "mimetype": "text/x-python",
   "name": "python",
   "nbconvert_exporter": "python",
   "pygments_lexer": "ipython2",
   "version": "2.7.16"
  }
 },
 "nbformat": 4,
 "nbformat_minor": 1
}
