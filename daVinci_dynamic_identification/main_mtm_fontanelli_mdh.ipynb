{
 "cells": [
  {
   "cell_type": "markdown",
   "metadata": {
    "collapsed": true
   },
   "source": [
    "Robot Dynamic Model Identification\n",
    "=======\n",
    "---"
   ]
  },
  {
   "cell_type": "markdown",
   "metadata": {},
   "source": [
    "# 1 - Praparing work"
   ]
  },
  {
   "cell_type": "markdown",
   "metadata": {},
   "source": [
    "## Import libraries"
   ]
  },
  {
   "cell_type": "code",
   "execution_count": 59,
   "metadata": {},
   "outputs": [
    {
     "name": "stdout",
     "output_type": "stream",
     "text": [
      "The autoreload extension is already loaded. To reload it, use:\n",
      "  %reload_ext autoreload\n"
     ]
    }
   ],
   "source": [
    "# enable auto-reload modules\n",
    "%load_ext autoreload\n",
    "%autoreload 2\n",
    "#interactive plotting in separate window\n",
    "%matplotlib qt \n",
    "#%matplotlib inline\n",
    "\n",
    "from sympy import init_printing\n",
    "init_printing()\n",
    "    \n",
    "import matplotlib.pyplot as plt\n",
    "plt.rcParams['figure.figsize'] = [12, 8]\n",
    "plt.rcParams['pdf.fonttype'] = 42\n",
    "plt.rcParams['ps.fonttype'] = 42\n",
    "plt.rcParams.update({'font.size': 12})\n",
    "\n",
    "import numpy as np\n",
    "import sympy\n",
    "from robot_def import RobotDef\n",
    "from kinematics import Geometry\n",
    "from dynamics import Dynamics\n",
    "from trajectory_optimization import TrajOptimizer\n",
    "from trajectory_optimization import TrajPlotter\n",
    "from utils import new_sym\n",
    "from utils import save_data, load_data\n",
    "import time"
   ]
  },
  {
   "cell_type": "markdown",
   "metadata": {},
   "source": [
    "## Folder dir for saving and loading files"
   ]
  },
  {
   "cell_type": "code",
   "execution_count": 2,
   "metadata": {},
   "outputs": [],
   "source": [
    "#model_name = 'mtm_2spring_tendon'\n",
    "model_name = 'mtm_fontanelli'\n",
    "\n",
    "model_folder = 'data/' + model_name + '/model/'"
   ]
  },
  {
   "cell_type": "markdown",
   "metadata": {},
   "source": [
    "---\n",
    "# 2 - Robot modelling"
   ]
  },
  {
   "cell_type": "markdown",
   "metadata": {},
   "source": [
    "## Robot geometry definition in following order"
   ]
  },
  {
   "cell_type": "markdown",
   "metadata": {},
   "source": [
    "| Joint number | prev link | succ links | $a$ | $\\alpha$ | $d$ | $\\theta$ | link inertia | motor inertia | friction "
   ]
  },
  {
   "cell_type": "code",
   "execution_count": 3,
   "metadata": {},
   "outputs": [
    {
     "name": "stdout",
     "output_type": "stream",
     "text": [
      "mtm_fontanelli\n"
     ]
    }
   ],
   "source": [
    "q0, q1, q2, q3, q4, q5, q6, q7, q8, q9, q10 = new_sym('q:11')\n",
    "_pi = sympy.pi\n",
    "\n",
    "# define paralelogram coordinate relation\n",
    "# qd -> coordinate for dvrk_ros package\n",
    "# qmd -> coordinate for the modeling joints\n",
    "# q -> coordinate for motors\n",
    "qd2 = q2\n",
    "qd3 = -q2 + q3\n",
    "qd4 = 0.6697*q2 - 0.6697*q3 + q4\n",
    "\n",
    "\n",
    "qmd1 = q1\n",
    "qmd2 = qd2\n",
    "qmd30 = qd3\n",
    "qmd31 = qd3 + qd2 \n",
    "qmd32 = -qd3\n",
    "qmd33 = q3\n",
    "qmd4 = qd4\n",
    "qmd5 = q5\n",
    "qmd6 = q6\n",
    "qmd7 = q7\n",
    "\n",
    "# q31 = q3 + q2 \n",
    "# q32 = -q3\n",
    "\n",
    "l_b2p = 215.4 * 0.001\n",
    "l_arm = 279.4 * 0.001\n",
    "l_b2f = 100 * 0.001\n",
    "l_fa = 364.5 * 0.001\n",
    "h =105.6 * 0.001\n",
    "\n",
    "# define link number\n",
    "L_b = 0\n",
    "L_1 = 1\n",
    "L_2 = 2\n",
    "L_30 = 3\n",
    "L_31 = 4\n",
    "L_32 = 5\n",
    "L_4 = 6\n",
    "L_5 = 7\n",
    "L_6 = 8\n",
    "L_7 = 9\n",
    "\n",
    "# define spring delta L\n",
    "dlN = None\n",
    "dl1 = -qmd1\n",
    "dl4 = -qmd4\n",
    "dl5 = -qmd5\n",
    "dl6 = -qmd6\n",
    "\n",
    "# DH\n",
    "# dh = [(L_b,  -1,   [L_1],       0,     0,      0,       0,           False, False, False, dlN),\n",
    "#       (L_1,  L_b,  [L_2, L_31], 0,     0,      -l_b2p,  qmd1,        True,  False, True, dl1),\n",
    "#       (L_2,  L_1,  [L_30],      0,     -_pi/2, 0,       qmd2+_pi/2,  True,  False, True, dlN),\n",
    "#       (L_30, L_2,  [L_4],       l_arm, 0,      0,       qmd30+_pi/2, True,  False, True, dlN),\n",
    "#       (L_31, L_1,  [L_32],      0,     -_pi/2, 0,       qmd31+_pi,   True,  False, True, dlN),\n",
    "#       (L_32, L_31, [],          l_b2f, 0,      0,       qmd32-_pi/2, True,  False, True, dlN),\n",
    "#       (L_4,  L_30, [L_5],       l_fa,  -_pi/2, 0.151,   qmd4,        True,  False, True, dl4),\n",
    "#       (L_5,  L_4,  [L_6],       0,     _pi/2,  0,       qmd5,        True,  False, True, dl5),\n",
    "#       (L_6,  L_5,  [L_7],       0,     -_pi/2, 0,       qmd6+_pi/2,  True,  False, True, dl6),\n",
    "#       (L_7,  L_6,  [],          0,     -_pi/2, 0,       qmd7+_pi,    True,  False, True, dlN)]\n",
    "dh = [(L_b,  -1,   [L_1],       0,     0,      0,       0,           False, False, False, dlN),\n",
    "      (L_1,  L_b,  [L_2, L_31], 0,     0,      -l_b2p,  qmd1,        True,  False, True, dl1),\n",
    "      (L_2,  L_1,  [L_30],      0,     -_pi/2, 0,       qmd2+_pi/2,  True,  False, True, dlN),\n",
    "      (L_30, L_2,  [L_4],       l_arm, 0,      0,       qmd30+_pi/2, True,  False, True, dlN),\n",
    "      (L_31, L_1,  [L_32],      0,     -_pi/2, 0,       qmd31+_pi,   True,  False, True, dlN),\n",
    "      (L_32, L_31, [],          l_b2f, 0,      0,       qmd32-_pi/2, True,  False, True, dlN),\n",
    "      (L_4,  L_30, [L_5],       l_fa,  -_pi/2, 0.151,   qmd4,        True,  False, True, dl4),\n",
    "      (L_5,  L_4,  [L_6],       0,     _pi/2,  0,       qmd5,        True,  False, True, dl5),\n",
    "      (L_6,  L_5,  [L_7],       0,     -_pi/2, 0,       qmd6+_pi/2,  True,  False, True, dl6),\n",
    "      (L_7,  L_6,  [],          0,     -_pi/2, 0,       qmd7+_pi,    True,  False, True, dlN)]\n",
    "\n",
    "\n",
    "# Friction\n",
    "friction_type = ['Coulomb', 'viscous']\n",
    "print(model_name)\n",
    "\n",
    "robot_def = RobotDef(dh, dh_convention='mdh', friction_type=friction_type)"
   ]
  },
  {
   "cell_type": "code",
   "execution_count": 23,
   "metadata": {},
   "outputs": [
    {
     "data": {
      "image/png": "[encoded data removed]",
      "text/latex": [
       "$$\\left [ 0, \\quad dq_{1}, \\quad dq_{2}, \\quad - dq_{2} + dq_{3}, \\quad dq_{3}, \\quad dq_{2} - dq_{3}, \\quad 0.6697 dq_{2} - 0.6697 dq_{3} + dq_{4}, \\quad dq_{5}, \\quad dq_{6}, \\quad dq_{7}\\right ]$$"
      ],
      "text/plain": [
       "[0, dq₁, dq₂, -dq₂ + dq₃, dq₃, dq₂ - dq₃, 0.6697⋅dq₂ - 0.6697⋅dq₃ + dq₄, dq₅, \n",
       "dq₆, dq₇]"
      ]
     },
     "execution_count": 23,
     "metadata": {},
     "output_type": "execute_result"
    }
   ],
   "source": [
    "robot_def.dq_for_frame"
   ]
  },
  {
   "cell_type": "code",
   "execution_count": 24,
   "metadata": {},
   "outputs": [
    {
     "data": {
      "text/plain": [
       "['R', 'R', 'R', 'R', 'R', 'R', 'R']"
      ]
     },
     "execution_count": 24,
     "metadata": {},
     "output_type": "execute_result"
    }
   ],
   "source": [
    "robot_def.coordinates_joint_type"
   ]
  },
  {
   "cell_type": "code",
   "execution_count": 25,
   "metadata": {},
   "outputs": [
    {
     "data": {
      "image/png": "[encoded data removed]",
      "text/latex": [
       "$$\\left [ L1xx, \\quad L1xy, \\quad L1xz, \\quad L1yy, \\quad L1yz, \\quad L1zz, \\quad l1x, \\quad l1y, \\quad l1z, \\quad m_{1}, \\quad Fc_{1}, \\quad Fv_{1}, \\quad K_{1}, \\quad L2xx, \\quad L2xy, \\quad L2xz, \\quad L2yy, \\quad L2yz, \\quad L2zz, \\quad l2x, \\quad l2y, \\quad l2z, \\quad m_{2}, \\quad Fc_{2}, \\quad Fv_{2}, \\quad L3xx, \\quad L3xy, \\quad L3xz, \\quad L3yy, \\quad L3yz, \\quad L3zz, \\quad l3x, \\quad l3y, \\quad l3z, \\quad m_{3}, \\quad Fc_{3}, \\quad Fv_{3}, \\quad L4xx, \\quad L4xy, \\quad L4xz, \\quad L4yy, \\quad L4yz, \\quad L4zz, \\quad l4x, \\quad l4y, \\quad l4z, \\quad m_{4}, \\quad Fc_{4}, \\quad Fv_{4}, \\quad L5xx, \\quad L5xy, \\quad L5xz, \\quad L5yy, \\quad L5yz, \\quad L5zz, \\quad l5x, \\quad l5y, \\quad l5z, \\quad m_{5}, \\quad Fc_{5}, \\quad Fv_{5}, \\quad L6xx, \\quad L6xy, \\quad L6xz, \\quad L6yy, \\quad L6yz, \\quad L6zz, \\quad l6x, \\quad l6y, \\quad l6z, \\quad m_{6}, \\quad Fc_{6}, \\quad Fv_{6}, \\quad K_{6}, \\quad L7xx, \\quad L7xy, \\quad L7xz, \\quad L7yy, \\quad L7yz, \\quad L7zz, \\quad l7x, \\quad l7y, \\quad l7z, \\quad m_{7}, \\quad Fc_{7}, \\quad Fv_{7}, \\quad K_{7}, \\quad L8xx, \\quad L8xy, \\quad L8xz, \\quad L8yy, \\quad L8yz, \\quad L8zz, \\quad l8x, \\quad l8y, \\quad l8z, \\quad m_{8}, \\quad Fc_{8}, \\quad Fv_{8}, \\quad K_{8}, \\quad L9xx, \\quad L9xy, \\quad L9xz, \\quad L9yy, \\quad L9yz, \\quad L9zz, \\quad l9x, \\quad l9y, \\quad l9z, \\quad m_{9}, \\quad Fc_{9}, \\quad Fv_{9}\\right ]$$"
      ],
      "text/plain": [
       "[L1xx, L1xy, L1xz, L1yy, L1yz, L1zz, l1x, l1y, l1z, m₁, Fc₁, Fv₁, K₁, L2xx, L2\n",
       "xy, L2xz, L2yy, L2yz, L2zz, l2x, l2y, l2z, m₂, Fc₂, Fv₂, L3xx, L3xy, L3xz, L3y\n",
       "y, L3yz, L3zz, l3x, l3y, l3z, m₃, Fc₃, Fv₃, L4xx, L4xy, L4xz, L4yy, L4yz, L4zz\n",
       ", l4x, l4y, l4z, m₄, Fc₄, Fv₄, L5xx, L5xy, L5xz, L5yy, L5yz, L5zz, l5x, l5y, l\n",
       "5z, m₅, Fc₅, Fv₅, L6xx, L6xy, L6xz, L6yy, L6yz, L6zz, l6x, l6y, l6z, m₆, Fc₆, \n",
       "Fv₆, K₆, L7xx, L7xy, L7xz, L7yy, L7yz, L7zz, l7x, l7y, l7z, m₇, Fc₇, Fv₇, K₇, \n",
       "L8xx, L8xy, L8xz, L8yy, L8yz, L8zz, l8x, l8y, l8z, m₈, Fc₈, Fv₈, K₈, L9xx, L9x\n",
       "y, L9xz, L9yy, L9yz, L9zz, l9x, l9y, l9z, m₉, Fc₉, Fv₉]"
      ]
     },
     "execution_count": 25,
     "metadata": {},
     "output_type": "execute_result"
    }
   ],
   "source": [
    "robot_def.bary_params"
   ]
  },
  {
   "cell_type": "markdown",
   "metadata": {},
   "source": [
    "## Create kinematics chain"
   ]
  },
  {
   "cell_type": "code",
   "execution_count": 26,
   "metadata": {
    "scrolled": true
   },
   "outputs": [
    {
     "name": "stdout",
     "output_type": "stream",
     "text": [
      "Frame: 0\n",
      "Frame: 1\n",
      "Frame: 2\n",
      "Frame: 3\n",
      "Frame: 4\n",
      "Frame: 5\n",
      "Frame: 6\n",
      "Frame: 7\n",
      "Frame: 8\n",
      "Frame: 9\n",
      "CPU times: user 56min 29s, sys: 7.16 s, total: 56min 36s\n",
      "Wall time: 56min 27s\n"
     ]
    }
   ],
   "source": [
    "%time geom = Geometry(robot_def)"
   ]
  },
  {
   "cell_type": "code",
   "execution_count": 27,
   "metadata": {},
   "outputs": [
    {
     "data": {
      "image/png": "[encoded data removed]",
      "text/plain": [
       "<Figure size 864x576 with 1 Axes>"
      ]
     },
     "metadata": {
      "needs_background": "light"
     },
     "output_type": "display_data"
    }
   ],
   "source": [
    "angle = [0.5, 0.3, -0.5, 0, 0, 0, 0]\n",
    "geom.draw_geom(angle)"
   ]
  },
  {
   "cell_type": "markdown",
   "metadata": {},
   "source": [
    "## Create dynamics"
   ]
  },
  {
   "cell_type": "code",
   "execution_count": 28,
   "metadata": {},
   "outputs": [
    {
     "name": "stdout",
     "output_type": "stream",
     "text": [
      "Calculating Lagrangian...\n",
      "Calculating the link kinetic energy of 1/9\n",
      "Calculating the link kinetic energy of 2/9\n",
      "Calculating the link kinetic energy of 3/9\n",
      "Calculating the link kinetic energy of 4/9\n",
      "Calculating the link kinetic energy of 5/9\n",
      "Calculating the link kinetic energy of 6/9\n",
      "Calculating the link kinetic energy of 7/9\n",
      "Calculating the link kinetic energy of 8/9\n",
      "Calculating the link kinetic energy of 9/9\n",
      "Calculating joint torques...\n",
      "tau of q1\n",
      "tau of q2\n",
      "tau of q3\n",
      "tau of q4\n",
      "tau of q5\n",
      "tau of q6\n",
      "tau of q7\n",
      "Adding frictions and springs...\n",
      "Add motor inertia...\n",
      "Calculating regressor...\n",
      "Calculating M, C and G...\n",
      "Calculating base parameter...\n",
      "base parameter number: 66\n",
      "Creating H_b function...\n",
      "Finished creating robot dynamics\n",
      "CPU times: user 31min 24s, sys: 4.53 s, total: 31min 29s\n",
      "Wall time: 31min 20s\n"
     ]
    }
   ],
   "source": [
    "%time dyn = Dynamics(robot_def, geom)"
   ]
  },
  {
   "cell_type": "code",
   "execution_count": 29,
   "metadata": {},
   "outputs": [
    {
     "data": {
      "image/png": "[encoded data removed]",
      "text/latex": [
       "$$\\left [ L1xx, \\quad L1xy, \\quad L1xz, \\quad L1yy, \\quad L1yz, \\quad L1zz, \\quad l1x, \\quad l1y, \\quad l1z, \\quad m_{1}, \\quad Fc_{1}, \\quad Fv_{1}, \\quad K_{1}, \\quad L2xx, \\quad L2xy, \\quad L2xz, \\quad L2yy, \\quad L2yz, \\quad L2zz, \\quad l2x, \\quad l2y, \\quad l2z, \\quad m_{2}, \\quad Fc_{2}, \\quad Fv_{2}, \\quad L3xx, \\quad L3xy, \\quad L3xz, \\quad L3yy, \\quad L3yz, \\quad L3zz, \\quad l3x, \\quad l3y, \\quad l3z, \\quad m_{3}, \\quad Fc_{3}, \\quad Fv_{3}, \\quad L4xx, \\quad L4xy, \\quad L4xz, \\quad L4yy, \\quad L4yz, \\quad L4zz, \\quad l4x, \\quad l4y, \\quad l4z, \\quad m_{4}, \\quad Fc_{4}, \\quad Fv_{4}, \\quad L5xx, \\quad L5xy, \\quad L5xz, \\quad L5yy, \\quad L5yz, \\quad L5zz, \\quad l5x, \\quad l5y, \\quad l5z, \\quad m_{5}, \\quad Fc_{5}, \\quad Fv_{5}, \\quad L6xx, \\quad L6xy, \\quad L6xz, \\quad L6yy, \\quad L6yz, \\quad L6zz, \\quad l6x, \\quad l6y, \\quad l6z, \\quad m_{6}, \\quad Fc_{6}, \\quad Fv_{6}, \\quad K_{6}, \\quad L7xx, \\quad L7xy, \\quad L7xz, \\quad L7yy, \\quad L7yz, \\quad L7zz, \\quad l7x, \\quad l7y, \\quad l7z, \\quad m_{7}, \\quad Fc_{7}, \\quad Fv_{7}, \\quad K_{7}, \\quad L8xx, \\quad L8xy, \\quad L8xz, \\quad L8yy, \\quad L8yz, \\quad L8zz, \\quad l8x, \\quad l8y, \\quad l8z, \\quad m_{8}, \\quad Fc_{8}, \\quad Fv_{8}, \\quad K_{8}, \\quad L9xx, \\quad L9xy, \\quad L9xz, \\quad L9yy, \\quad L9yz, \\quad L9zz, \\quad l9x, \\quad l9y, \\quad l9z, \\quad m_{9}, \\quad Fc_{9}, \\quad Fv_{9}\\right ]$$"
      ],
      "text/plain": [
       "[L1xx, L1xy, L1xz, L1yy, L1yz, L1zz, l1x, l1y, l1z, m₁, Fc₁, Fv₁, K₁, L2xx, L2\n",
       "xy, L2xz, L2yy, L2yz, L2zz, l2x, l2y, l2z, m₂, Fc₂, Fv₂, L3xx, L3xy, L3xz, L3y\n",
       "y, L3yz, L3zz, l3x, l3y, l3z, m₃, Fc₃, Fv₃, L4xx, L4xy, L4xz, L4yy, L4yz, L4zz\n",
       ", l4x, l4y, l4z, m₄, Fc₄, Fv₄, L5xx, L5xy, L5xz, L5yy, L5yz, L5zz, l5x, l5y, l\n",
       "5z, m₅, Fc₅, Fv₅, L6xx, L6xy, L6xz, L6yy, L6yz, L6zz, l6x, l6y, l6z, m₆, Fc₆, \n",
       "Fv₆, K₆, L7xx, L7xy, L7xz, L7yy, L7yz, L7zz, l7x, l7y, l7z, m₇, Fc₇, Fv₇, K₇, \n",
       "L8xx, L8xy, L8xz, L8yy, L8yz, L8zz, l8x, l8y, l8z, m₈, Fc₈, Fv₈, K₈, L9xx, L9x\n",
       "y, L9xz, L9yy, L9yz, L9zz, l9x, l9y, l9z, m₉, Fc₉, Fv₉]"
      ]
     },
     "execution_count": 29,
     "metadata": {},
     "output_type": "execute_result"
    }
   ],
   "source": [
    "robot_def.bary_params"
   ]
  },
  {
   "cell_type": "code",
   "execution_count": 30,
   "metadata": {
    "scrolled": true
   },
   "outputs": [
    {
     "data": {
      "text/latex": [
       "$$\\left[\\begin{matrix}1.0 L9xy\\\\1.0 L9xz\\\\1.0 L9yz\\\\1.0 L8yz\\\\1.0 L8xy\\\\1.0 L8xz\\\\1.0 L7xy\\\\1.0 L8xx - 1.0 L8yy + 1.0 L9yy\\\\1.0 L9zz\\\\1.0 L7xz\\\\1.0 L7yz\\\\1.0 l9x\\\\1.0 L8xx - 1.0 L8yy + 1.0 L9xx\\\\1.0 l9y\\\\1.0 l8y + 1.0 l9z\\\\1.0 l8x\\\\1.0 L6xz\\\\- 1.0 L8xx + 1.0 L8yy + 1.0 L8zz\\\\1.0 l7y + 1.0 l8z\\\\1.0 L6xy\\\\1.0 L6yz\\\\1.0 l7x\\\\1.0 l6x\\\\1.0 l6y - 1.0 l7z\\\\1.0 L7zz + 1.0 L8yy\\\\1.0 L3zz + 1.0 L4zz + 1.0 L6xx + 1.0 L7xx + 1.0 L8yy - 0.302 l3y + 0.01 m_{5} + 0.11005925 m_{6} + 0.11005925 m_{7} + 0.11005925 m_{8} + 0.11005925 m_{9}\\\\- 0.35790981 l2x + 1.0 l3x - 0.1 m_{3} + 0.2645 m_{6} + 0.2645 m_{7} + 0.2645 m_{8} + 0.2645 m_{9}\\\\1.0 l3y + 1.0 l6z + 0.151 m_{6} + 0.151 m_{7} + 0.151 m_{8} + 0.151 m_{9}\\\\1.0 l5y\\\\1.0 l2x + 1.0 l5x + 0.2794 m_{3} + 0.2794 m_{6} + 0.2794 m_{7} + 0.2794 m_{8} + 0.2794 m_{9}\\\\- 1.0 L3zz - 1.0 L4zz - 1.0 L6xx + 1.0 L6zz + 0.302 l3y - 0.01 m_{5} - 0.11005925 m_{6} - 0.11005925 m_{7} - 0.11005925 m_{8} - 0.11005925 m_{9}\\\\1.0 L2xy + 1.0 L5xy\\\\1.0 L3xy + 1.0 L4xy + 0.3645 l3y\\\\1.0 L3zz + 1.0 L4zz + 1.0 L6yy - 0.302 l3y + 0.01 m_{5} + 0.11005925 m_{6} + 0.11005925 m_{7} + 0.11005925 m_{8} + 0.11005925 m_{9}\\\\1.0 Fv_{3} + 1.0 Fv_{5}\\\\1.0 L2yz + 1.0 L5yz\\\\1.0 K_{6}\\\\1.0 L2xz + 1.0 L5xz - 0.2794 l3z\\\\1.0 L3xz + 1.0 L4xz - 0.1 l5z\\\\1.0 L3yz + 1.0 L4yz\\\\1.0 Fv_{6}\\\\1.0 L1zz + 1.0 L2xx + 1.0 L3xx - 1.0 L3zz + 1.0 L4xx - 1.0 L4zz + 1.0 L5xx - 0.01 m_{5} - 0.13286025 m_{6} - 0.13286025 m_{7} - 0.13286025 m_{8} - 0.13286025 m_{9}\\\\1.0 L3zz + 1.0 L4zz + 1.0 L6xx + 1.0 L7yy - 0.302 l3y + 0.01 m_{5} + 0.11005925 m_{6} + 0.11005925 m_{7} + 0.11005925 m_{8} + 0.11005925 m_{9}\\\\1.0 l4y\\\\0.35790981 l2x + 1.0 l4x + 0.1 m_{3} + 0.1 m_{5} + 0.1 m_{6} + 0.1 m_{7} + 0.1 m_{8} + 0.1 m_{9}\\\\1.0 Fv_{9}\\\\1.0 Fv_{7}\\\\- 1.0 L3xx + 1.0 L3yy + 1.0 L3zz - 1.0 L4xx + 1.0 L4yy + 1.0 L4zz + 0.02 m_{5} + 0.2657205 m_{6} + 0.2657205 m_{7} + 0.2657205 m_{8} + 0.2657205 m_{9}\\\\1.0 Fv_{8}\\\\1.0 K_{8}\\\\1.0 L2zz + 1.0 L5zz + 0.07806436 m_{3} + 0.07806436 m_{6} + 0.07806436 m_{7} + 0.07806436 m_{8} + 0.07806436 m_{9}\\\\1.0 K_{7}\\\\1.0 Fv_{1}\\\\1.0 K_{1}\\\\1.0 Fv_{2}\\\\1.0 Fv_{4}\\\\1.0 L1zz + 1.0 L2yy + 1.0 L3xx - 1.0 L3zz + 1.0 L4xx - 1.0 L4zz + 1.0 L5yy + 0.07806436 m_{3} - 0.01 m_{5} - 0.05479589 m_{6} - 0.05479589 m_{7} - 0.05479589 m_{8} - 0.05479589 m_{9}\\\\1.0 Fc_{3} + 1.0 Fc_{5}\\\\1.0 Fc_{6}\\\\1.0 l2y\\\\1.0 Fc_{8}\\\\1.0 Fc_{9}\\\\1.0 Fc_{2}\\\\1.0 Fc_{1}\\\\1.0 Fc_{4}\\\\1.0 Fc_{7}\\end{matrix}\\right]$$"
      ],
      "text/plain": [
       "⎡                                                                             \n",
       "⎢                                                                             \n",
       "⎢                                                                             \n",
       "⎢                                                                             \n",
       "⎢                                                                             \n",
       "⎢                                                                             \n",
       "⎢                                                                             \n",
       "⎢                                                                             \n",
       "⎢                                                                             \n",
       "⎢                                                                             \n",
       "⎢                                                                             \n",
       "⎢                                                                             \n",
       "⎢                                                                             \n",
       "⎢                                                                             \n",
       "⎢                                                                   1.0⋅L8xx -\n",
       "⎢                                                                             \n",
       "⎢                                                                             \n",
       "⎢                                                                             \n",
       "⎢                                                                             \n",
       "⎢                                                                             \n",
       "⎢                                                                             \n",
       "⎢                                                                             \n",
       "⎢                                                                             \n",
       "⎢                                                                             \n",
       "⎢                                                                   1.0⋅L8xx -\n",
       "⎢                                                                             \n",
       "⎢                                                                             \n",
       "⎢                                                                             \n",
       "⎢                                                                         1.0⋅\n",
       "⎢                                                                             \n",
       "⎢                                                                             \n",
       "⎢                                                                             \n",
       "⎢                                                                             \n",
       "⎢                                                                             \n",
       "⎢                                                                  -1.0⋅L8xx +\n",
       "⎢                                                                             \n",
       "⎢                                                                         1.0⋅\n",
       "⎢                                                                             \n",
       "⎢                                                                             \n",
       "⎢                                                                             \n",
       "⎢                                                                             \n",
       "⎢                                                                             \n",
       "⎢                                                                             \n",
       "⎢                                                                             \n",
       "⎢                                                                             \n",
       "⎢                                                                             \n",
       "⎢                                                                         1.0⋅\n",
       "⎢                                                                             \n",
       "⎢                                                                        1.0⋅L\n",
       "⎢                                                                             \n",
       "⎢             1.0⋅L3zz + 1.0⋅L4zz + 1.0⋅L6xx + 1.0⋅L7xx + 1.0⋅L8yy - 0.302⋅l3y\n",
       "⎢                                                                             \n",
       "⎢                                         -0.35790981⋅l2x + 1.0⋅l3x - 0.1⋅m₃ +\n",
       "⎢                                                                             \n",
       "⎢                                                   1.0⋅l3y + 1.0⋅l6z + 0.151⋅\n",
       "⎢                                                                             \n",
       "⎢                                                                             \n",
       "⎢                                                                             \n",
       "⎢                                           1.0⋅l2x + 1.0⋅l5x + 0.2794⋅m₃ + 0.\n",
       "⎢                                                                             \n",
       "⎢                  -1.0⋅L3zz - 1.0⋅L4zz - 1.0⋅L6xx + 1.0⋅L6zz + 0.302⋅l3y - 0.\n",
       "⎢                                                                             \n",
       "⎢                                                                        1.0⋅L\n",
       "⎢                                                                             \n",
       "⎢                                                                  1.0⋅L3xy + \n",
       "⎢                                                                             \n",
       "⎢                        1.0⋅L3zz + 1.0⋅L4zz + 1.0⋅L6yy - 0.302⋅l3y + 0.01⋅m₅ \n",
       "⎢                                                                             \n",
       "⎢                                                                         1.0⋅\n",
       "⎢                                                                             \n",
       "⎢                                                                        1.0⋅L\n",
       "⎢                                                                             \n",
       "⎢                                                                             \n",
       "⎢                                                                             \n",
       "⎢                                                                  1.0⋅L2xz + \n",
       "⎢                                                                             \n",
       "⎢                                                                   1.0⋅L3xz +\n",
       "⎢                                                                             \n",
       "⎢                                                                        1.0⋅L\n",
       "⎢                                                                             \n",
       "⎢                                                                             \n",
       "⎢                                                                             \n",
       "⎢        1.0⋅L1zz + 1.0⋅L2xx + 1.0⋅L3xx - 1.0⋅L3zz + 1.0⋅L4xx - 1.0⋅L4zz + 1.0\n",
       "⎢                                                                             \n",
       "⎢                  1.0⋅L3zz + 1.0⋅L4zz + 1.0⋅L6xx + 1.0⋅L7yy - 0.302⋅l3y + 0.0\n",
       "⎢                                                                             \n",
       "⎢                                                                             \n",
       "⎢                                                                             \n",
       "⎢                                           0.35790981⋅l2x + 1.0⋅l4x + 0.1⋅m₃ \n",
       "⎢                                                                             \n",
       "⎢                                                                             \n",
       "⎢                                                                             \n",
       "⎢                                                                             \n",
       "⎢                                                                             \n",
       "⎢               -1.0⋅L3xx + 1.0⋅L3yy + 1.0⋅L3zz - 1.0⋅L4xx + 1.0⋅L4yy + 1.0⋅L4\n",
       "⎢                                                                             \n",
       "⎢                                                                             \n",
       "⎢                                                                             \n",
       "⎢                                                                             \n",
       "⎢                                                                             \n",
       "⎢                                1.0⋅L2zz + 1.0⋅L5zz + 0.07806436⋅m₃ + 0.07806\n",
       "⎢                                                                             \n",
       "⎢                                                                             \n",
       "⎢                                                                             \n",
       "⎢                                                                             \n",
       "⎢                                                                             \n",
       "⎢                                                                             \n",
       "⎢                                                                             \n",
       "⎢                                                                             \n",
       "⎢                                                                             \n",
       "⎢                                                                             \n",
       "⎢                                                                             \n",
       "⎢1.0⋅L1zz + 1.0⋅L2yy + 1.0⋅L3xx - 1.0⋅L3zz + 1.0⋅L4xx - 1.0⋅L4zz + 1.0⋅L5yy + \n",
       "⎢                                                                             \n",
       "⎢                                                                         1.0⋅\n",
       "⎢                                                                             \n",
       "⎢                                                                             \n",
       "⎢                                                                             \n",
       "⎢                                                                             \n",
       "⎢                                                                             \n",
       "⎢                                                                             \n",
       "⎢                                                                             \n",
       "⎢                                                                             \n",
       "⎢                                                                             \n",
       "⎢                                                                             \n",
       "⎢                                                                             \n",
       "⎢                                                                             \n",
       "⎢                                                                             \n",
       "⎢                                                                             \n",
       "⎢                                                                             \n",
       "⎣                                                                             \n",
       "\n",
       " 1.0⋅L9xy                                                                     \n",
       "                                                                              \n",
       " 1.0⋅L9xz                                                                     \n",
       "                                                                              \n",
       " 1.0⋅L9yz                                                                     \n",
       "                                                                              \n",
       " 1.0⋅L8yz                                                                     \n",
       "                                                                              \n",
       " 1.0⋅L8xy                                                                     \n",
       "                                                                              \n",
       " 1.0⋅L8xz                                                                     \n",
       "                                                                              \n",
       " 1.0⋅L7xy                                                                     \n",
       "                                                                              \n",
       " 1.0⋅L8yy + 1.0⋅L9yy                                                          \n",
       "                                                                              \n",
       " 1.0⋅L9zz                                                                     \n",
       "                                                                              \n",
       " 1.0⋅L7xz                                                                     \n",
       "                                                                              \n",
       " 1.0⋅L7yz                                                                     \n",
       "                                                                              \n",
       " 1.0⋅l9x                                                                      \n",
       "                                                                              \n",
       " 1.0⋅L8yy + 1.0⋅L9xx                                                          \n",
       "                                                                              \n",
       " 1.0⋅l9y                                                                      \n",
       "                                                                              \n",
       "l8y + 1.0⋅l9z                                                                 \n",
       "                                                                              \n",
       " 1.0⋅l8x                                                                      \n",
       "                                                                              \n",
       " 1.0⋅L6xz                                                                     \n",
       "                                                                              \n",
       " 1.0⋅L8yy + 1.0⋅L8zz                                                          \n",
       "                                                                              \n",
       "l7y + 1.0⋅l8z                                                                 \n",
       "                                                                              \n",
       " 1.0⋅L6xy                                                                     \n",
       "                                                                              \n",
       " 1.0⋅L6yz                                                                     \n",
       "                                                                              \n",
       " 1.0⋅l7x                                                                      \n",
       "                                                                              \n",
       " 1.0⋅l6x                                                                      \n",
       "                                                                              \n",
       "l6y - 1.0⋅l7z                                                                 \n",
       "                                                                              \n",
       "7zz + 1.0⋅L8yy                                                                \n",
       "                                                                              \n",
       " + 0.01⋅m₅ + 0.11005925⋅m₆ + 0.11005925⋅m₇ + 0.11005925⋅m₈ + 0.11005925⋅m₉    \n",
       "                                                                              \n",
       " 0.2645⋅m₆ + 0.2645⋅m₇ + 0.2645⋅m₈ + 0.2645⋅m₉                                \n",
       "                                                                              \n",
       "m₆ + 0.151⋅m₇ + 0.151⋅m₈ + 0.151⋅m₉                                           \n",
       "                                                                              \n",
       " 1.0⋅l5y                                                                      \n",
       "                                                                              \n",
       "2794⋅m₆ + 0.2794⋅m₇ + 0.2794⋅m₈ + 0.2794⋅m₉                                   \n",
       "                                                                              \n",
       "01⋅m₅ - 0.11005925⋅m₆ - 0.11005925⋅m₇ - 0.11005925⋅m₈ - 0.11005925⋅m₉         \n",
       "                                                                              \n",
       "2xy + 1.0⋅L5xy                                                                \n",
       "                                                                              \n",
       "1.0⋅L4xy + 0.3645⋅l3y                                                         \n",
       "                                                                              \n",
       "+ 0.11005925⋅m₆ + 0.11005925⋅m₇ + 0.11005925⋅m₈ + 0.11005925⋅m₉               \n",
       "                                                                              \n",
       "Fv₃ + 1.0⋅Fv₅                                                                 \n",
       "                                                                              \n",
       "2yz + 1.0⋅L5yz                                                                \n",
       "                                                                              \n",
       "  1.0⋅K₆                                                                      \n",
       "                                                                              \n",
       "1.0⋅L5xz - 0.2794⋅l3z                                                         \n",
       "                                                                              \n",
       " 1.0⋅L4xz - 0.1⋅l5z                                                           \n",
       "                                                                              \n",
       "3yz + 1.0⋅L4yz                                                                \n",
       "                                                                              \n",
       " 1.0⋅Fv₆                                                                      \n",
       "                                                                              \n",
       "⋅L5xx - 0.01⋅m₅ - 0.13286025⋅m₆ - 0.13286025⋅m₇ - 0.13286025⋅m₈ - 0.13286025⋅m\n",
       "                                                                              \n",
       "1⋅m₅ + 0.11005925⋅m₆ + 0.11005925⋅m₇ + 0.11005925⋅m₈ + 0.11005925⋅m₉          \n",
       "                                                                              \n",
       " 1.0⋅l4y                                                                      \n",
       "                                                                              \n",
       "+ 0.1⋅m₅ + 0.1⋅m₆ + 0.1⋅m₇ + 0.1⋅m₈ + 0.1⋅m₉                                  \n",
       "                                                                              \n",
       " 1.0⋅Fv₉                                                                      \n",
       "                                                                              \n",
       " 1.0⋅Fv₇                                                                      \n",
       "                                                                              \n",
       "zz + 0.02⋅m₅ + 0.2657205⋅m₆ + 0.2657205⋅m₇ + 0.2657205⋅m₈ + 0.2657205⋅m₉      \n",
       "                                                                              \n",
       " 1.0⋅Fv₈                                                                      \n",
       "                                                                              \n",
       "  1.0⋅K₈                                                                      \n",
       "                                                                              \n",
       "436⋅m₆ + 0.07806436⋅m₇ + 0.07806436⋅m₈ + 0.07806436⋅m₉                        \n",
       "                                                                              \n",
       "  1.0⋅K₇                                                                      \n",
       "                                                                              \n",
       " 1.0⋅Fv₁                                                                      \n",
       "                                                                              \n",
       "  1.0⋅K₁                                                                      \n",
       "                                                                              \n",
       " 1.0⋅Fv₂                                                                      \n",
       "                                                                              \n",
       " 1.0⋅Fv₄                                                                      \n",
       "                                                                              \n",
       "0.07806436⋅m₃ - 0.01⋅m₅ - 0.05479589⋅m₆ - 0.05479589⋅m₇ - 0.05479589⋅m₈ - 0.05\n",
       "                                                                              \n",
       "Fc₃ + 1.0⋅Fc₅                                                                 \n",
       "                                                                              \n",
       " 1.0⋅Fc₆                                                                      \n",
       "                                                                              \n",
       " 1.0⋅l2y                                                                      \n",
       "                                                                              \n",
       " 1.0⋅Fc₈                                                                      \n",
       "                                                                              \n",
       " 1.0⋅Fc₉                                                                      \n",
       "                                                                              \n",
       " 1.0⋅Fc₂                                                                      \n",
       "                                                                              \n",
       " 1.0⋅Fc₁                                                                      \n",
       "                                                                              \n",
       " 1.0⋅Fc₄                                                                      \n",
       "                                                                              \n",
       " 1.0⋅Fc₇                                                                      \n",
       "\n",
       "         ⎤\n",
       "         ⎥\n",
       "         ⎥\n",
       "         ⎥\n",
       "         ⎥\n",
       "         ⎥\n",
       "         ⎥\n",
       "         ⎥\n",
       "         ⎥\n",
       "         ⎥\n",
       "         ⎥\n",
       "         ⎥\n",
       "         ⎥\n",
       "         ⎥\n",
       "         ⎥\n",
       "         ⎥\n",
       "         ⎥\n",
       "         ⎥\n",
       "         ⎥\n",
       "         ⎥\n",
       "         ⎥\n",
       "         ⎥\n",
       "         ⎥\n",
       "         ⎥\n",
       "         ⎥\n",
       "         ⎥\n",
       "         ⎥\n",
       "         ⎥\n",
       "         ⎥\n",
       "         ⎥\n",
       "         ⎥\n",
       "         ⎥\n",
       "         ⎥\n",
       "         ⎥\n",
       "         ⎥\n",
       "         ⎥\n",
       "         ⎥\n",
       "         ⎥\n",
       "         ⎥\n",
       "         ⎥\n",
       "         ⎥\n",
       "         ⎥\n",
       "         ⎥\n",
       "         ⎥\n",
       "         ⎥\n",
       "         ⎥\n",
       "         ⎥\n",
       "         ⎥\n",
       "         ⎥\n",
       "         ⎥\n",
       "         ⎥\n",
       "         ⎥\n",
       "         ⎥\n",
       "         ⎥\n",
       "         ⎥\n",
       "         ⎥\n",
       "         ⎥\n",
       "         ⎥\n",
       "         ⎥\n",
       "         ⎥\n",
       "         ⎥\n",
       "         ⎥\n",
       "         ⎥\n",
       "         ⎥\n",
       "         ⎥\n",
       "         ⎥\n",
       "         ⎥\n",
       "         ⎥\n",
       "         ⎥\n",
       "         ⎥\n",
       "         ⎥\n",
       "         ⎥\n",
       "         ⎥\n",
       "         ⎥\n",
       "         ⎥\n",
       "         ⎥\n",
       "         ⎥\n",
       "         ⎥\n",
       "         ⎥\n",
       "         ⎥\n",
       "         ⎥\n",
       "         ⎥\n",
       "₉        ⎥\n",
       "         ⎥\n",
       "         ⎥\n",
       "         ⎥\n",
       "         ⎥\n",
       "         ⎥\n",
       "         ⎥\n",
       "         ⎥\n",
       "         ⎥\n",
       "         ⎥\n",
       "         ⎥\n",
       "         ⎥\n",
       "         ⎥\n",
       "         ⎥\n",
       "         ⎥\n",
       "         ⎥\n",
       "         ⎥\n",
       "         ⎥\n",
       "         ⎥\n",
       "         ⎥\n",
       "         ⎥\n",
       "         ⎥\n",
       "         ⎥\n",
       "         ⎥\n",
       "         ⎥\n",
       "         ⎥\n",
       "         ⎥\n",
       "         ⎥\n",
       "         ⎥\n",
       "         ⎥\n",
       "479589⋅m₉⎥\n",
       "         ⎥\n",
       "         ⎥\n",
       "         ⎥\n",
       "         ⎥\n",
       "         ⎥\n",
       "         ⎥\n",
       "         ⎥\n",
       "         ⎥\n",
       "         ⎥\n",
       "         ⎥\n",
       "         ⎥\n",
       "         ⎥\n",
       "         ⎥\n",
       "         ⎥\n",
       "         ⎥\n",
       "         ⎥\n",
       "         ⎥\n",
       "         ⎦"
      ]
     },
     "execution_count": 30,
     "metadata": {},
     "output_type": "execute_result"
    }
   ],
   "source": [
    "sympy.Matrix(dyn.base_param)"
   ]
  },
  {
   "cell_type": "code",
   "execution_count": 31,
   "metadata": {},
   "outputs": [
    {
     "name": "stdout",
     "output_type": "stream",
     "text": [
      "Saved 66 parameters\n"
     ]
    }
   ],
   "source": [
    "from data import RobotModel\n",
    "\n",
    "# Data to be saved\n",
    "robot_model = RobotModel(dyn)\n",
    "\n",
    "# Save\n",
    "save_data(model_folder, model_name, robot_model)\n",
    "print('Saved {} parameters'.format(len(robot_model.base_param)))"
   ]
  },
  {
   "cell_type": "markdown",
   "metadata": {},
   "source": [
    "---\n",
    "# 3 - Excitation trajectory optimization"
   ]
  },
  {
   "cell_type": "code",
   "execution_count": 10,
   "metadata": {},
   "outputs": [],
   "source": [
    "model_name = 'mtm'"
   ]
  },
  {
   "cell_type": "markdown",
   "metadata": {},
   "source": [
    "Load Data"
   ]
  },
  {
   "cell_type": "code",
   "execution_count": 11,
   "metadata": {},
   "outputs": [],
   "source": [
    "from utils import load_data\n",
    "model_folder = 'data/' + model_name + '/model/'\n",
    "robot_model = load_data(model_folder, model_name)"
   ]
  },
  {
   "cell_type": "markdown",
   "metadata": {},
   "source": [
    "## Create trajectory optimizer object, with H matrix, foourier order, base frequency, joint constraints and cartisian constraints as input"
   ]
  },
  {
   "cell_type": "code",
   "execution_count": 12,
   "metadata": {},
   "outputs": [],
   "source": [
    "#trajectory_name = 'one'\n",
    "# trajectory_name = 'two'\n",
    "trajectory_name = 'three'"
   ]
  },
  {
   "cell_type": "code",
   "execution_count": 13,
   "metadata": {
    "scrolled": true
   },
   "outputs": [
    {
     "name": "stdout",
     "output_type": "stream",
     "text": [
      "joint constraint number: 8\n",
      "cartesian constraint number: 0\n",
      "constraint number: 32\n",
      "frames_constrained: []\n",
      "Condition number: 90.9681102027\n",
      "Condition number: 90.9681090284\n",
      "Condition number: 78.2257954513\n",
      "Condition number: 52.2442858246\n",
      "Condition number: 47.7568001076\n",
      "Condition number: 52.3999783674\n",
      "Condition number: 59.4557245605\n",
      "Condition number: 69.3717483911\n",
      "Condition number: 127.007508549\n",
      "Condition number: 381.132708489\n",
      "Condition number: 293.37927514\n",
      "Condition number: 274.475499215\n",
      "Condition number: 271.652179114\n",
      "Condition number: 263.05927703\n",
      "Condition number: 258.306014397\n",
      "Condition number: 256.771012941\n",
      "Condition number: 256.739417144\n",
      "Condition number: 256.406138908\n",
      "Condition number: 254.176811067\n",
      "Condition number: 252.539061631\n",
      "Condition number: 251.169946299\n",
      "Condition number: 250.063250132\n",
      "Condition number: 249.92688399\n",
      "Condition number: 249.739872645\n",
      "Condition number: 249.325158671\n",
      "Condition number: 249.123159558\n",
      "Condition number: 249.005872155\n",
      "Condition number: 248.685794372\n",
      "Condition number: 248.67606807\n",
      "Condition number: 248.664912322\n",
      "Condition number: 248.63641503\n",
      "Condition number: 248.633642022\n",
      "Condition number: 248.61892738\n",
      "Condition number: 291.544681772\n",
      "Condition number: 248.617254529\n",
      "Condition number: 248.614253659\n",
      "Condition number: 248.613951805\n",
      "Condition number: 248.340148586\n",
      "Condition number: 247.945827997\n",
      "Condition number: 247.930522168\n",
      "Condition number: 247.922263116\n",
      "Condition number: 247.758988453\n",
      "Condition number: 247.755633165\n",
      "Condition number: 247.420842019\n",
      "Condition number: 247.417409359\n",
      "Condition number: 247.391615359\n",
      "Condition number: 247.377784585\n",
      "Condition number: 246.94345011\n",
      "Condition number: 246.879941705\n",
      "Condition number: 246.83944852\n",
      "Condition number: 246.834160631\n",
      "Condition number: 246.815976507\n",
      "Condition number: 246.815937021\n",
      "x: [-0.16713219 -0.055767    0.19451049 -0.34817693  0.38810819 -0.09429936\n",
      "  1.09407854  0.08059524 -0.07370908 -0.08347017  0.43251408 -0.85211213\n",
      " -2.0013609   0.32964011  0.12384932  0.11871307  0.10557705 -0.47659694\n",
      " -0.4631624   0.76330089  0.10537441  0.25501539 -0.21327137 -0.25374023\n",
      "  0.10320046 -0.88105194  0.28723604 -0.03797165  0.08326475  0.1957296\n",
      " -0.02838298 -0.5617864   0.52091285  0.02031051  0.19811357  0.14338303\n",
      "  0.44615244 -0.06574065  0.05387045  1.23720411 -0.51134555  0.17103669\n",
      " -0.71715279  0.14151604 -0.41510082 -1.8732809   0.37471788  0.20545907\n",
      " -1.10919323 -1.07879143  0.29156735  0.63337166  1.20936595  0.19697491\n",
      " -0.94986599 -0.39747053 -1.36475216 -0.62923632  1.94574031  0.05470338\n",
      " -1.01791797  0.34213888 -1.44878223 -0.06891586  1.59377626 -0.05733615\n",
      " -0.02414178 -0.05134831  0.02239576 -0.08165929 -0.14344892  0.12886094\n",
      "  0.05970928  0.16321728  0.15032425  0.14517555  0.02699639  0.21080956\n",
      "  1.77784309  1.6753215   3.27616227 -0.95319742  0.4474786   0.53490816\n",
      "  1.26683539  2.28294894  1.45825319 -3.5573126  -1.35351573 -4.77463665\n",
      "  0.18962812]\n"
     ]
    }
   ],
   "source": [
    "from numpy import deg2rad\n",
    "\n",
    "optimal_trajectory_folder = 'data/optimal_trajectory/'\n",
    "trajectory_folder = 'data/' + model_name +'/optimal_trajectory/'\n",
    "\n",
    "base_freq = 0.1\n",
    "fourier_order = 6\n",
    "\n",
    "cartesian_constraints = []\n",
    "\n",
    "\n",
    "joint_constraints = [(qmd1,  deg2rad(-57), deg2rad(29), deg2rad(-160), deg2rad(160)),\n",
    "                     (qmd2,  deg2rad(-10), deg2rad(60), deg2rad(-180), deg2rad(180)),\n",
    "                     (qmd30, deg2rad(-30), deg2rad(30), deg2rad(-180), deg2rad(180)),\n",
    "                     (qmd4,  deg2rad(-40), deg2rad(195), deg2rad(-360), deg2rad(360)),\n",
    "                     (qmd5,  deg2rad(-87), deg2rad(180), deg2rad(-360), deg2rad(360)),\n",
    "                     (qmd6,  deg2rad(-40), deg2rad(38), deg2rad(-360), deg2rad(360)),\n",
    "                     (qmd7,  deg2rad(-460), deg2rad(450), deg2rad(-720), deg2rad(720)),\n",
    "                     (qmd31, deg2rad(-9), deg2rad(39), deg2rad(-360), deg2rad(360))]\n",
    "\n",
    "    \n",
    "traj_optimizer = TrajOptimizer(robot_model, fourier_order, base_freq,\n",
    "                               joint_constraints=joint_constraints,\n",
    "                               cartesian_constraints = cartesian_constraints)\n",
    "                                                                                                 \n",
    "                                                                                                                     \n",
    "traj_optimizer.optimize()\n"
   ]
  },
  {
   "cell_type": "code",
   "execution_count": 14,
   "metadata": {},
   "outputs": [
    {
     "data": {
      "image/png": "[encoded data removed]",
      "text/latex": [
       "$$\\left [ q_{1}, \\quad q_{2}, \\quad q_{3}, \\quad q_{4}, \\quad q_{5}, \\quad q_{6}, \\quad q_{7}\\right ]$$"
      ],
      "text/plain": [
       "[q₁, q₂, q₃, q₄, q₅, q₆, q₇]"
      ]
     },
     "execution_count": 14,
     "metadata": {},
     "output_type": "execute_result"
    }
   ],
   "source": [
    "robot_model.coordinates"
   ]
  },
  {
   "cell_type": "code",
   "execution_count": 15,
   "metadata": {},
   "outputs": [],
   "source": [
    "reg_norm_mat = traj_optimizer.calc_normalize_mat()"
   ]
  },
  {
   "cell_type": "markdown",
   "metadata": {},
   "source": [
    "## Plot optimal excitation trajectory"
   ]
  },
  {
   "cell_type": "code",
   "execution_count": 16,
   "metadata": {},
   "outputs": [],
   "source": [
    "traj_optimizer.calc_frame_traj()"
   ]
  },
  {
   "cell_type": "code",
   "execution_count": 64,
   "metadata": {},
   "outputs": [
    {
     "data": {
      "image/png": "[encoded data removed]",
      "text/plain": [
       "<Figure size 864x576 with 3 Axes>"
      ]
     },
     "metadata": {
      "needs_background": "light"
     },
     "output_type": "display_data"
    }
   ],
   "source": [
    "traj_plotter = TrajPlotter(traj_optimizer.fourier_traj,traj_optimizer.frame_traj,\n",
    "                           traj_optimizer.const_frame_ind, robot_model.coordinates)\n",
    "traj_plotter.plot_desired_traj(traj_optimizer.x_result)\n",
    "\n",
    "# traj_plotter.plot_frame_traj(True)"
   ]
  },
  {
   "cell_type": "markdown",
   "metadata": {},
   "source": [
    "## Save trajectory for later use"
   ]
  },
  {
   "cell_type": "code",
   "execution_count": 18,
   "metadata": {},
   "outputs": [],
   "source": [
    "dof_order_bf_x_norm = (traj_optimizer.fourier_traj.dof, fourier_order,\n",
    "                       base_freq, traj_optimizer.x_result, reg_norm_mat)\n",
    "save_data(trajectory_folder, trajectory_name, dof_order_bf_x_norm)"
   ]
  },
  {
   "cell_type": "code",
   "execution_count": 19,
   "metadata": {
    "scrolled": false
   },
   "outputs": [
    {
     "data": {
      "text/html": [
       "<table>\n",
       "<tbody>\n",
       "<tr><td>joint</td><td>qo     </td><td>a1     </td><td>a2     </td><td>a3     </td><td>a4     </td><td>a5     </td><td>a6     </td><td>b1    </td><td>b2     </td><td>b3     </td><td>b4     </td><td>b5     </td><td>b6     </td></tr>\n",
       "<tr><td>q1   </td><td>-0.1671</td><td>-0.0558</td><td>0.1945 </td><td>-0.3482</td><td>0.3881 </td><td>-0.0943</td><td>1.0941 </td><td>0.0806</td><td>-0.0737</td><td>-0.0835</td><td>0.4325 </td><td>-0.8521</td><td>-2.0014</td></tr>\n",
       "<tr><td>q2   </td><td>0.3296 </td><td>0.1238 </td><td>0.1187 </td><td>0.1056 </td><td>-0.4766</td><td>-0.4632</td><td>0.7633 </td><td>0.1054</td><td>0.255  </td><td>-0.2133</td><td>-0.2537</td><td>0.1032 </td><td>-0.8811</td></tr>\n",
       "<tr><td>q3   </td><td>0.2872 </td><td>-0.038 </td><td>0.0833 </td><td>0.1957 </td><td>-0.0284</td><td>-0.5618</td><td>0.5209 </td><td>0.0203</td><td>0.1981 </td><td>0.1434 </td><td>0.4462 </td><td>-0.0657</td><td>0.0539 </td></tr>\n",
       "<tr><td>q4   </td><td>1.2372 </td><td>-0.5113</td><td>0.171  </td><td>-0.7172</td><td>0.1415 </td><td>-0.4151</td><td>-1.8733</td><td>0.3747</td><td>0.2055 </td><td>-1.1092</td><td>-1.0788</td><td>0.2916 </td><td>0.6334 </td></tr>\n",
       "<tr><td>q5   </td><td>1.2094 </td><td>0.197  </td><td>-0.9499</td><td>-0.3975</td><td>-1.3648</td><td>-0.6292</td><td>1.9457 </td><td>0.0547</td><td>-1.0179</td><td>0.3421 </td><td>-1.4488</td><td>-0.0689</td><td>1.5938 </td></tr>\n",
       "<tr><td>q6   </td><td>-0.0573</td><td>-0.0241</td><td>-0.0513</td><td>0.0224 </td><td>-0.0817</td><td>-0.1434</td><td>0.1289 </td><td>0.0597</td><td>0.1632 </td><td>0.1503 </td><td>0.1452 </td><td>0.027  </td><td>0.2108 </td></tr>\n",
       "<tr><td>q7   </td><td>1.7778 </td><td>1.6753 </td><td>3.2762 </td><td>-0.9532</td><td>0.4475 </td><td>0.5349 </td><td>1.2668 </td><td>2.2829</td><td>1.4583 </td><td>-3.5573</td><td>-1.3535</td><td>-4.7746</td><td>0.1896 </td></tr>\n",
       "</tbody>\n",
       "</table>"
      ],
      "text/plain": [
       "<IPython.core.display.HTML object>"
      ]
     },
     "metadata": {},
     "output_type": "display_data"
    }
   ],
   "source": [
    "from IPython.display import HTML, display\n",
    "import tabulate\n",
    "\n",
    "table = []\n",
    "table.append([\"joint\", 'qo'] +\n",
    "             [\"a\"+str(i+1) for i in range(fourier_order)] +\n",
    "             [\"b\"+str(i+1) for i in range(fourier_order)])\n",
    "for i in range(traj_optimizer.fourier_traj.dof):\n",
    "    line = []\n",
    "    line.append(robot_model.coordinates[i])\n",
    "    line += np.round(traj_optimizer.x_result[i*(1 + fourier_order*2): (i+1)*(1 + fourier_order*2)], 4).tolist()\n",
    "    table.append(line)\n",
    "\n",
    "display(HTML(tabulate.tabulate(table, tablefmt='html')))"
   ]
  },
  {
   "cell_type": "markdown",
   "metadata": {},
   "source": [
    "---\n",
    "# Data processing"
   ]
  },
  {
   "cell_type": "code",
   "execution_count": 61,
   "metadata": {},
   "outputs": [
    {
     "ename": "ImportError",
     "evalue": "cannot import name plot_meas_2pred_tau",
     "output_type": "error",
     "traceback": [
      "\u001b[0;31m\u001b[0m",
      "\u001b[0;31mImportError\u001b[0mTraceback (most recent call last)",
      "\u001b[0;32m<ipython-input-61-f7d8b394c0de>\u001b[0m in \u001b[0;36m<module>\u001b[0;34m()\u001b[0m\n\u001b[0;32m----> 1\u001b[0;31m \u001b[0;32mfrom\u001b[0m \u001b[0midentification\u001b[0m \u001b[0;32mimport\u001b[0m \u001b[0mload_trajectory_data\u001b[0m\u001b[0;34m,\u001b[0m \u001b[0mdiff_and_filt_data\u001b[0m\u001b[0;34m,\u001b[0m \u001b[0mplot_trajectory_data\u001b[0m\u001b[0;34m,\u001b[0m \u001b[0mplot_meas_pred_tau\u001b[0m\u001b[0;34m,\u001b[0m \u001b[0mplot_meas_2pred_tau\u001b[0m\u001b[0;34m,\u001b[0m \u001b[0mgen_regressor\u001b[0m\u001b[0;34m\u001b[0m\u001b[0m\n\u001b[0m\u001b[1;32m      2\u001b[0m \u001b[0;32mimport\u001b[0m \u001b[0mcopy\u001b[0m\u001b[0;34m\u001b[0m\u001b[0m\n",
      "\u001b[0;31mImportError\u001b[0m: cannot import name plot_meas_2pred_tau"
     ]
    }
   ],
   "source": [
    "from identification import load_trajectory_data, diff_and_filt_data, plot_trajectory_data, plot_meas_pred_tau, plot_meas_2pred_tau, gen_regressor\n",
    "import copy"
   ]
  },
  {
   "cell_type": "markdown",
   "metadata": {},
   "source": [
    "## Load data"
   ]
  },
  {
   "cell_type": "markdown",
   "metadata": {},
   "source": [
    "### Load robot model"
   ]
  },
  {
   "cell_type": "code",
   "execution_count": 5,
   "metadata": {},
   "outputs": [
    {
     "name": "stdout",
     "output_type": "stream",
     "text": [
      "dof: 7\n",
      "Fourier order: 6\n",
      "Base frequency: 0.1\n"
     ]
    }
   ],
   "source": [
    "# Names as Arguments\n",
    "model_name = 'mtm_fontanelli'\n",
    "#model_name = 'mtm_2spring_tendon'\n",
    "training_trajectory_name = 'one'\n",
    "\n",
    "\n",
    "model_folder = 'data/' + model_name + '/model/'\n",
    "robot_model = load_data(model_folder,model_name)\n",
    "\n",
    "\n",
    "trajectory_folder = 'data/' + model_name +'/optimal_trajectory/'\n",
    "dof, fourier_order, base_freq, traj_optimizer_result, reg_norm_mat = load_data(trajectory_folder,\n",
    "                                                                               training_trajectory_name)\n",
    "print(\"dof: {}\".format(dof))\n",
    "print(\"Fourier order: {}\".format(fourier_order))\n",
    "print(\"Base frequency: {}\".format(base_freq))"
   ]
  },
  {
   "cell_type": "markdown",
   "metadata": {},
   "source": [
    "### Load traning data set"
   ]
  },
  {
   "cell_type": "code",
   "execution_count": 6,
   "metadata": {},
   "outputs": [
    {
     "name": "stdout",
     "output_type": "stream",
     "text": [
      "(<type 'numpy.ndarray'>, (5999, 21))\n"
     ]
    }
   ],
   "source": [
    "# training_trajectory_name = 'one'\n",
    "\n",
    "results_folder = 'data/' + model_name +'/measured_trajectory/'\n",
    "training_results_data_file = results_folder + training_trajectory_name + '_results.csv'\n",
    "\n",
    "trajectory_sampling_rate = 200\n",
    "t_train, q_raw_train, dq_raw_train, tau_raw_train = load_trajectory_data(training_results_data_file,\n",
    "                                                                   trajectory_sampling_rate)\n",
    "# remove the cable part of the joint 4\n",
    "# from high to low\n",
    "p = np.array([0.0004877, -0.0037149, 0.0067497, 0.008519, -0.0201475, -0.025265, 0.048095, 0.00255])\n",
    "#p = p[::-1]\n",
    "\n",
    "# disable polynomial friction modeling\n",
    "# qm4_raw_train = 0.6697*q_raw_train[:,1] - 0.6697*q_raw_train[:,2] + q_raw_train[:,3]\n",
    "# tau_cable4_train = p[0]*qm4_raw_train**7 + p[1]*qm4_raw_train**6 + p[2]*qm4_raw_train**5\\\n",
    "# + p[3]*qm4_raw_train**4 + p[4]*qm4_raw_train**3 + p[5]*qm4_raw_train**2\\\n",
    "# + p[6]*qm4_raw_train + p[7]\n",
    "# tau_raw_train[:,1] -= 0.6697*tau_cable4_train\n",
    "# tau_raw_train[:,2] += 0.6697*tau_cable4_train\n",
    "# tau_raw_train[:,3] -= tau_cable4_train"
   ]
  },
  {
   "cell_type": "code",
   "execution_count": 7,
   "metadata": {},
   "outputs": [
    {
     "data": {
      "text/plain": [
       "array([[ 1.    , -1.    ,  0.6697],\n",
       "       [ 0.    ,  1.    , -0.6697],\n",
       "       [ 0.    ,  0.    ,  1.    ]])"
      ]
     },
     "execution_count": 7,
     "metadata": {},
     "output_type": "execute_result"
    }
   ],
   "source": [
    "np.array([[1.0, 0, 0], [-1.0, 1.0, 0], [0.6697, -0.6697, 1.0]]).transpose()"
   ]
  },
  {
   "cell_type": "markdown",
   "metadata": {},
   "source": [
    "### Training trajectory"
   ]
  },
  {
   "cell_type": "code",
   "execution_count": 8,
   "metadata": {},
   "outputs": [],
   "source": [
    "from trajectory_optimization import FourierTraj\n",
    "fourier_traj_train = FourierTraj(dof, fourier_order, base_freq, sample_num_per_period=20)\n",
    "traj_plotter_train = TrajPlotter(fourier_traj_train, coordinates=robot_model.coordinates)\n",
    "traj_plotter_train.plot_desired_traj(traj_optimizer_result)"
   ]
  },
  {
   "cell_type": "markdown",
   "metadata": {},
   "source": [
    "### Load test data set"
   ]
  },
  {
   "cell_type": "code",
   "execution_count": 10,
   "metadata": {},
   "outputs": [
    {
     "name": "stdout",
     "output_type": "stream",
     "text": [
      "(<type 'numpy.ndarray'>, (5999, 21))\n"
     ]
    }
   ],
   "source": [
    "test_trajectory_name = 'two'\n",
    "\n",
    "results_folder = 'data/' + model_name +'/measured_trajectory/'\n",
    "test_results_data_file = results_folder + test_trajectory_name + '_results.csv'\n",
    "\n",
    "trajectory_sampling_rate = 200\n",
    "t_test, q_raw_test, dq_raw_test, tau_raw_test = load_trajectory_data(test_results_data_file,\n",
    "                                                                trajectory_sampling_rate)\n",
    "# remove the cable part of the joint 4\n",
    "# from high to low\n",
    "p = np.array([0.0004877, -0.0037149, 0.0067497, 0.008519, -0.0201475, -0.025265, 0.048095, 0.00255])\n",
    "# p = p[::-1]\n",
    "\n",
    "#disable polynomial friction modeling\n",
    "# qm4_raw_test = 0.6697*q_raw_test[:,1] - 0.6697*q_raw_test[:,2] + q_raw_test[:,3]\n",
    "# tau_cable4_test = p[0]*qm4_raw_test**7 + p[1]*qm4_raw_test**6 + p[2]*qm4_raw_test**5\\\n",
    "# + p[3]*qm4_raw_test**4 + p[4]*qm4_raw_test**3 + p[5]*qm4_raw_test**2\\\n",
    "# + p[6]*qm4_raw_test + p[7]\n",
    "# tau_raw_test[:,1] -= 0.6697*tau_cable4_test\n",
    "# tau_raw_test[:,2] += 0.6697*tau_cable4_test\n",
    "# tau_raw_test[:,3] -= tau_cable4_test\n",
    "\n",
    "# plt.plot(qm4_raw_test, tau_cable4_test)\n",
    "# plt.xlabel('Time (s)')\n",
    "# plt.ylabel('Joint torque (Nm)')"
   ]
  },
  {
   "cell_type": "markdown",
   "metadata": {},
   "source": [
    "## Calculate filter cut-off frequency"
   ]
  },
  {
   "cell_type": "code",
   "execution_count": 11,
   "metadata": {},
   "outputs": [
    {
     "name": "stdout",
     "output_type": "stream",
     "text": [
      "Cut frequency: [1.8]\n"
     ]
    }
   ],
   "source": [
    "# times of the highest frequency in the Fourier series\n",
    "\n",
    "fc_mult = [3]\n",
    "#fc_mult = [5, 5, 5, 3, 4, 4, 4]\n",
    "\n",
    "#fc_mult = 4\n",
    "fc = np.array(fc_mult)*base_freq* fourier_order \n",
    "\n",
    "print(\"Cut frequency: {}\".format(fc))"
   ]
  },
  {
   "cell_type": "markdown",
   "metadata": {},
   "source": [
    "## Differentiation and filtering"
   ]
  },
  {
   "cell_type": "markdown",
   "metadata": {},
   "source": [
    "### Traning data"
   ]
  },
  {
   "cell_type": "code",
   "execution_count": 12,
   "metadata": {},
   "outputs": [
    {
     "name": "stdout",
     "output_type": "stream",
     "text": [
      "q_raw shape: (5999, 7)\n",
      "plot shape: 470\n"
     ]
    }
   ],
   "source": [
    "cut_num = 200\n",
    "t_cut_train, q_f_train, dq_f_train, ddq_f_train, tau_f_train, q_raw_cut_train, tau_raw_cut_train =\\\n",
    "    diff_and_filt_data(dof, 1.0/trajectory_sampling_rate,\n",
    "                       t_train, q_raw_train, dq_raw_train, tau_raw_train, fc, fc, fc, fc, cut_num)\n",
    "plot_trajectory_data(t_cut_train, q_raw_cut_train, q_f_train, dq_f_train, ddq_f_train,\n",
    "                     tau_raw_cut_train, tau_f_train)"
   ]
  },
  {
   "cell_type": "markdown",
   "metadata": {},
   "source": [
    "### Test data"
   ]
  },
  {
   "cell_type": "code",
   "execution_count": 13,
   "metadata": {},
   "outputs": [
    {
     "name": "stdout",
     "output_type": "stream",
     "text": [
      "q_raw shape: (5999, 7)\n",
      "plot shape: 470\n"
     ]
    }
   ],
   "source": [
    "t_cut_test, q_f_test, dq_f_test, ddq_f_test,tau_f_test, q_raw_cut_test, tau_raw_cut_test =\\\n",
    "    diff_and_filt_data(dof, 1.0/trajectory_sampling_rate,\n",
    "                       t_test, q_raw_test, dq_raw_test, tau_raw_test, fc, fc, fc, fc, cut_num)\n",
    "plot_trajectory_data(t_cut_test, q_raw_cut_test, q_f_test, dq_f_test, ddq_f_test,\n",
    "                     tau_raw_cut_test, tau_f_test)"
   ]
  },
  {
   "cell_type": "markdown",
   "metadata": {},
   "source": [
    "---\n",
    "# Regression"
   ]
  },
  {
   "cell_type": "markdown",
   "metadata": {},
   "source": [
    "## Ordinary Least Square (OLS)"
   ]
  },
  {
   "cell_type": "markdown",
   "metadata": {},
   "source": [
    "### Generate regressor matrix for base parameters"
   ]
  },
  {
   "cell_type": "code",
   "execution_count": 14,
   "metadata": {},
   "outputs": [],
   "source": [
    "base_param_num = robot_model.base_num\n",
    "H_b_func = robot_model.H_b_func\n",
    "W_b_train, tau_s_train = gen_regressor(base_param_num, H_b_func, q_f_train,\n",
    "                                       dq_f_train, ddq_f_train, tau_f_train)"
   ]
  },
  {
   "cell_type": "code",
   "execution_count": 15,
   "metadata": {},
   "outputs": [
    {
     "data": {
      "image/png": "[encoded data removed]",
      "text/latex": [
       "$$\\left ( \\left ( 39193, \\quad 66\\right ), \\quad \\left ( 39193\\right )\\right )$$"
      ],
      "text/plain": [
       "((39193, 66), (39193,))"
      ]
     },
     "execution_count": 15,
     "metadata": {},
     "output_type": "execute_result"
    }
   ],
   "source": [
    "W_b_train.shape, tau_s_train.shape\n",
    "#print np.linalg.cond(W_b_train)"
   ]
  },
  {
   "cell_type": "code",
   "execution_count": 16,
   "metadata": {},
   "outputs": [
    {
     "name": "stderr",
     "output_type": "stream",
     "text": [
      "/home/yan/anaconda2/envs/dynamics/lib/python2.7/site-packages/ipykernel_launcher.py:1: FutureWarning: `rcond` parameter will change to the default of machine precision times ``max(M, N)`` where M and N are the input matrix dimensions.\n",
      "To use the future default and silence this warning we advise to pass `rcond=None`, to keep using the old, explicitly pass `rcond=-1`.\n",
      "  \"\"\"Entry point for launching an IPython kernel.\n"
     ]
    }
   ],
   "source": [
    "xb_ols = np.linalg.lstsq(W_b_train, tau_s_train)[0]"
   ]
  },
  {
   "cell_type": "code",
   "execution_count": 17,
   "metadata": {
    "scrolled": true
   },
   "outputs": [
    {
     "data": {
      "text/html": [
       "<table>\n",
       "<tbody>\n",
       "<tr><td>Base Parameter                                       </td><td>Value                  </td></tr>\n",
       "<tr><td>1.0*L9xy                                             </td><td>5.844136647811904e-05  </td></tr>\n",
       "<tr><td>1.0*L9xz                                             </td><td>6.78551845886752e-05   </td></tr>\n",
       "<tr><td>1.0*L9yz                                             </td><td>-1.4853632032201967e-05</td></tr>\n",
       "<tr><td>1.0*L8yz                                             </td><td>9.893430833028682e-05  </td></tr>\n",
       "<tr><td>1.0*L8xy                                             </td><td>-0.0003313111338781099 </td></tr>\n",
       "<tr><td>1.0*L8xz                                             </td><td>-0.0001919875016899537 </td></tr>\n",
       "<tr><td>1.0*L7xy                                             </td><td>-0.00010915975266017263</td></tr>\n",
       "<tr><td>1.0*L8xx - 1.0*L8yy + 1.0*L9yy                       </td><td>0.0010006615150471318  </td></tr>\n",
       "<tr><td>1.0*L9zz                                             </td><td>0.00016025100325793486 </td></tr>\n",
       "<tr><td>1.0*L7xz                                             </td><td>0.0004817356308339602  </td></tr>\n",
       "<tr><td>1.0*L7yz                                             </td><td>-0.00014557443718495478</td></tr>\n",
       "<tr><td>1.0*l9x                                              </td><td>-0.0002479850011651557 </td></tr>\n",
       "<tr><td>1.0*L8xx - 1.0*L8yy + 1.0*L9xx                       </td><td>0.0009952448683026773  </td></tr>\n",
       "<tr><td>1.0*l9y                                              </td><td>-0.0002610804393044404 </td></tr>\n",
       "<tr><td>1.0*l8y + 1.0*l9z                                    </td><td>0.004556155580413413   </td></tr>\n",
       "<tr><td>1.0*l8x                                              </td><td>-0.0010947599093391364 </td></tr>\n",
       "<tr><td>1.0*L6xz                                             </td><td>0.00010944617357332755 </td></tr>\n",
       "<tr><td>-1.0*L8xx + 1.0*L8yy + 1.0*L8zz                      </td><td>-0.0009537393333660946 </td></tr>\n",
       "<tr><td>1.0*l7y + 1.0*l8z                                    </td><td>-0.008718858934015548  </td></tr>\n",
       "<tr><td>1.0*L6xy                                             </td><td>-0.0005255601702960033 </td></tr>\n",
       "<tr><td>1.0*L6yz                                             </td><td>-0.000499553518391452  </td></tr>\n",
       "<tr><td>1.0*l7x                                              </td><td>0.0017304312006610686  </td></tr>\n",
       "<tr><td>1.0*l6x                                              </td><td>0.0004163710362558707  </td></tr>\n",
       "<tr><td>1.0*l6y - 1.0*l7z                                    </td><td>0.019546007805873317   </td></tr>\n",
       "<tr><td>1.0*L7zz + 1.0*L8yy                                  </td><td>-0.0008127836695423546 </td></tr>\n",
       "<tr><td>1.0*L3zz + 1.0*L4zz + 1.0*L6xx + 1.0*L7xx + 1.0*L8...</td><td>0.1387313922158547     </td></tr>\n",
       "<tr><td>-0.35790981*l2x + 1.0*l3x - 0.1*m3 + 0.2645*m6 + 0...</td><td>0.27716343678402433    </td></tr>\n",
       "<tr><td>1.0*l3y + 1.0*l6z + 0.151*m6 + 0.151*m7 + 0.151*m8...</td><td>-0.08610698255775832   </td></tr>\n",
       "<tr><td>1.0*l5y                                              </td><td>-0.22960159915480194   </td></tr>\n",
       "<tr><td>1.0*l2x + 1.0*l5x + 0.2794*m3 + 0.2794*m6 + 0.2794...</td><td>0.04824701728034167    </td></tr>\n",
       "<tr><td>-1.0*L3zz - 1.0*L4zz - 1.0*L6xx + 1.0*L6zz + 0.302...</td><td>-0.13769161402387853   </td></tr>\n",
       "<tr><td>1.0*L2xy + 1.0*L5xy                                  </td><td>0.006251992705141508   </td></tr>\n",
       "<tr><td>1.0*L3xy + 1.0*L4xy + 0.3645*l3y                     </td><td>-0.053561505627052385  </td></tr>\n",
       "<tr><td>1.0*L3zz + 1.0*L4zz + 1.0*L6yy - 0.302*l3y + 0.01*...</td><td>0.14053823757912556    </td></tr>\n",
       "<tr><td>1.0*Fv3 + 1.0*Fv5                                    </td><td>0.012409766859223249   </td></tr>\n",
       "<tr><td>1.0*L2yz + 1.0*L5yz                                  </td><td>0.005970987962788563   </td></tr>\n",
       "<tr><td>1.0*K6                                               </td><td>0.012511711719269175   </td></tr>\n",
       "<tr><td>1.0*L2xz + 1.0*L5xz - 0.2794*l3z                     </td><td>0.006178952049264743   </td></tr>\n",
       "<tr><td>1.0*L3xz + 1.0*L4xz - 0.1*l5z                        </td><td>-0.002232090326618943  </td></tr>\n",
       "<tr><td>1.0*L3yz + 1.0*L4yz                                  </td><td>-0.0027656938494838596 </td></tr>\n",
       "<tr><td>1.0*Fv6                                              </td><td>0.00557171424239223    </td></tr>\n",
       "<tr><td>1.0*L1zz + 1.0*L2xx + 1.0*L3xx - 1.0*L3zz + 1.0*L4...</td><td>-0.05705927368115067   </td></tr>\n",
       "<tr><td>1.0*L3zz + 1.0*L4zz + 1.0*L6xx + 1.0*L7yy - 0.302*...</td><td>0.1379378565312076     </td></tr>\n",
       "<tr><td>1.0*l4y                                              </td><td>0.1071883553668344     </td></tr>\n",
       "<tr><td>0.35790981*l2x + 1.0*l4x + 0.1*m3 + 0.1*m5 + 0.1*m...</td><td>-0.25087480290980335   </td></tr>\n",
       "<tr><td>1.0*Fv9                                              </td><td>7.852560885275464e-05  </td></tr>\n",
       "<tr><td>1.0*Fv7                                              </td><td>0.0008413118020786897  </td></tr>\n",
       "<tr><td>-1.0*L3xx + 1.0*L3yy + 1.0*L3zz - 1.0*L4xx + 1.0*L...</td><td>0.2851389802987026     </td></tr>\n",
       "<tr><td>1.0*Fv8                                              </td><td>-0.0029577172299799807 </td></tr>\n",
       "<tr><td>1.0*K8                                               </td><td>0.0048431738482986805  </td></tr>\n",
       "<tr><td>1.0*L2zz + 1.0*L5zz + 0.07806436*m3 + 0.07806436*m...</td><td>0.11112149789783884    </td></tr>\n",
       "<tr><td>1.0*K7                                               </td><td>-0.04382485099389834   </td></tr>\n",
       "<tr><td>1.0*Fv1                                              </td><td>0.06140646260664892    </td></tr>\n",
       "<tr><td>1.0*K1                                               </td><td>0.30493217552883933    </td></tr>\n",
       "<tr><td>1.0*Fv2                                              </td><td>0.09544920297444663    </td></tr>\n",
       "<tr><td>1.0*Fv4                                              </td><td>0.06745162785125487    </td></tr>\n",
       "<tr><td>1.0*L1zz + 1.0*L2yy + 1.0*L3xx - 1.0*L3zz + 1.0*L4...</td><td>0.0014920371159599316  </td></tr>\n",
       "<tr><td>1.0*Fc3 + 1.0*Fc5                                    </td><td>0.0021248377210211725  </td></tr>\n",
       "<tr><td>1.0*Fc6                                              </td><td>0.04274759924817436    </td></tr>\n",
       "<tr><td>1.0*l2y                                              </td><td>0.2399258091563413     </td></tr>\n",
       "<tr><td>1.0*Fc8                                              </td><td>0.005961012823807547   </td></tr>\n",
       "<tr><td>1.0*Fc9                                              </td><td>0.0011113210964038282  </td></tr>\n",
       "<tr><td>1.0*Fc2                                              </td><td>0.029266338836925015   </td></tr>\n",
       "<tr><td>1.0*Fc1                                              </td><td>0.04319114041337405    </td></tr>\n",
       "<tr><td>1.0*Fc4                                              </td><td>0.04412821037697757    </td></tr>\n",
       "<tr><td>1.0*Fc7                                              </td><td>0.007381450041830351   </td></tr>\n",
       "</tbody>\n",
       "</table>"
      ],
      "text/plain": [
       "<IPython.core.display.HTML object>"
      ]
     },
     "metadata": {},
     "output_type": "display_data"
    }
   ],
   "source": [
    "#sympy.Matrix.hstack(sympy.Matrix(robot_model.base_param), sympy.Matrix(xb_ols))\n",
    "\n",
    "from IPython.display import HTML, display\n",
    "import tabulate\n",
    "\n",
    "table = [[\"Base Parameter\", \"Value\"]]\n",
    "\n",
    "for i in range(robot_model.base_num):\n",
    "    param_str = str(sympy.Matrix(robot_model.base_param)[i])\n",
    "    max_disp_len = 50\n",
    "    line = [param_str if len(param_str) <= max_disp_len \n",
    "            else param_str[:max_disp_len] + '...', xb_ols[i]]\n",
    "    #['%.7s ...'%b if len(str(b)) > 7 else str(b)\n",
    "    table.append(line)\n",
    "\n",
    "display(HTML(tabulate.tabulate(table, tablefmt='html')))"
   ]
  },
  {
   "cell_type": "markdown",
   "metadata": {},
   "source": [
    "## Compare measured torque and predicted torque on the training set"
   ]
  },
  {
   "cell_type": "markdown",
   "metadata": {},
   "source": [
    "### Generate predicted torque"
   ]
  },
  {
   "cell_type": "code",
   "execution_count": 18,
   "metadata": {},
   "outputs": [],
   "source": [
    "tau_p_train = np.zeros(tau_f_train.shape)\n",
    "tau_ps_train = W_b_train.dot(xb_ols)\n",
    "for i in range(dof):\n",
    "    tau_p_train[:, i] = tau_ps_train[i::dof]\n",
    "\n",
    "# add cable torque back\n",
    "# qm4_f_train = 0.6697*q_f_train[:,1] - 0.6697*q_f_train[:,2] + q_f_train[:,3]\n",
    "# tau_cable4_f_train = p[0]*qm4_f_train**7 + p[1]*qm4_f_train**6 + p[2]*qm4_f_train**5\\\n",
    "# + p[3]*qm4_f_train**4 + p[4]*qm4_f_train**3 + p[5]*qm4_f_train**2\\\n",
    "# + p[6]*qm4_f_train + p[7]\n",
    "tau_f_with_cable_train = copy.deepcopy(tau_f_train);\n",
    "# tau_f_with_cable_train[:,1] = tau_f_train[:,1] + 0.6697*tau_cable4_f_train\n",
    "# tau_f_with_cable_train[:,2] = tau_f_train[:,2] - 0.6697*tau_cable4_f_train\n",
    "# tau_f_with_cable_train[:,3] = tau_f_train[:,3] + tau_cable4_f_train\n",
    "tau_p_with_cable_train = copy.deepcopy(tau_p_train);\n",
    "# tau_p_with_cable_train[:,1] = tau_p_train[:,1] + 0.6697*tau_cable4_f_train\n",
    "# tau_p_with_cable_train[:,2] = tau_p_train[:,2] - 0.6697*tau_cable4_f_train\n",
    "# tau_p_with_cable_train[:,3] = tau_p_train[:,3] + tau_cable4_f_train"
   ]
  },
  {
   "cell_type": "markdown",
   "metadata": {},
   "source": [
    "### Evaluate regression"
   ]
  },
  {
   "cell_type": "code",
   "execution_count": 19,
   "metadata": {},
   "outputs": [
    {
     "name": "stdout",
     "output_type": "stream",
     "text": [
      "variance of regression error using OLS:\n",
      "0.00015743546121234497\n",
      "standard deviation of xb using OLS:\n",
      "[3.75239888e-06 2.24965125e-06 2.22331934e-06 1.71854555e-05\n",
      " 1.60319036e-05 2.05884050e-05 1.98689121e-05 3.42780282e-05\n",
      " 5.80516994e-06 1.66539016e-05 2.30476322e-05 7.89100658e-06\n",
      " 3.42623830e-05 8.05135766e-06 4.96227365e-05 2.82956890e-05\n",
      " 4.18092278e-05 5.09140278e-05 2.46419957e-05 1.23828230e-04\n",
      " 3.58900596e-05 5.11132243e-05 3.82497109e-05 5.26402260e-05\n",
      " 3.85212314e-05 6.10323641e-04 7.04235328e-04 1.68055008e-03\n",
      " 5.19567075e-03 9.68111037e-05 6.11327625e-04 2.27832611e-04\n",
      " 6.43911286e-04 6.02392203e-04 5.30944353e-04 1.33081321e-04\n",
      " 1.33337668e-04 1.00821203e-04 2.69949971e-04 1.51776003e-04\n",
      " 1.15271989e-04 8.17293288e-04 6.10258411e-04 1.70285886e-03\n",
      " 7.01318878e-04 5.15791239e-05 1.25036537e-04 1.32773710e-03\n",
      " 6.89560486e-04 5.30174149e-04 1.53190727e-04 1.91372194e-04\n",
      " 4.90823323e-04 9.45001591e-04 4.74101672e-04 8.91630390e-04\n",
      " 1.29915549e-03 2.55390867e-04 2.07517728e-04 5.19740288e-03\n",
      " 3.52562085e-04 2.87326875e-04 2.80746527e-04 3.92165022e-04\n",
      " 3.30844222e-04 3.03699519e-04]\n",
      "percentage of standard deviation of xb using OLS: \n",
      "[0.06420793 0.03315371 0.14968186 0.17370572 0.04838927 0.10723826\n",
      " 0.18201683 0.03425537 0.03622548 0.03457062 0.15832197 0.0318205\n",
      " 0.03442608 0.03083861 0.01089136 0.02584648 0.38200721 0.05338359\n",
      " 0.00282629 0.2356119  0.07184427 0.02953785 0.09186449 0.00269314\n",
      " 0.0473942  0.00439932 0.00254087 0.019517   0.02262907 0.00200657\n",
      " 0.00443983 0.0364416  0.0120219  0.00428632 0.04278439 0.02228799\n",
      " 0.01065703 0.01631688 0.12094043 0.05487809 0.02068878 0.01432358\n",
      " 0.00442415 0.0158866  0.00279549 0.65684462 0.14862092 0.00465646\n",
      " 0.23313942 0.10946833 0.00137859 0.00436675 0.00799302 0.00309906\n",
      " 0.00496706 0.01321881 0.87072599 0.12019312 0.00485449 0.02166254\n",
      " 0.05914466 0.25854533 0.00959281 0.00907976 0.00749734 0.04114361]\n"
     ]
    }
   ],
   "source": [
    "var_regression_error_ols = np.linalg.norm(tau_ps_train - tau_s_train) / \\\n",
    "                        (tau_ps_train.size - base_param_num)\n",
    "print(\"variance of regression error using OLS:\")\n",
    "print(var_regression_error_ols)\n",
    "\n",
    "std_dev_xb_ols = np.sqrt(np.diag(var_regression_error_ols *\n",
    "                                 np.linalg.inv(W_b_train.transpose().dot(W_b_train))))\n",
    "print(\"standard deviation of xb using OLS:\")\n",
    "print(std_dev_xb_ols)\n",
    "\n",
    "pct_std_dev_xb_ols = std_dev_xb_ols / np.abs(xb_ols)\n",
    "print(\"percentage of standard deviation of xb using OLS: \")\n",
    "print(pct_std_dev_xb_ols)"
   ]
  },
  {
   "cell_type": "markdown",
   "metadata": {},
   "source": [
    "### Plot measured torque and predicted torque"
   ]
  },
  {
   "cell_type": "code",
   "execution_count": 20,
   "metadata": {
    "scrolled": false
   },
   "outputs": [],
   "source": [
    "plot_data_num = int(1 / base_freq * trajectory_sampling_rate)\n",
    "plot_meas_pred_tau(t_cut_train[:plot_data_num], tau_f_with_cable_train[:plot_data_num, :],\n",
    "                   tau_p_with_cable_train[:plot_data_num, :],\n",
    "                   robot_model.coordinates_joint_type,\n",
    "                   robot_model.coordinates)"
   ]
  },
  {
   "cell_type": "markdown",
   "metadata": {},
   "source": [
    "## Compare measured torque and predicted torque on the test set"
   ]
  },
  {
   "cell_type": "code",
   "execution_count": 22,
   "metadata": {},
   "outputs": [],
   "source": [
    "W_b_test, tau_s_test = gen_regressor(base_param_num, H_b_func, q_f_test,\n",
    "                                       dq_f_test, ddq_f_test, tau_f_test)"
   ]
  },
  {
   "cell_type": "code",
   "execution_count": 23,
   "metadata": {},
   "outputs": [],
   "source": [
    "tau_p_test = np.zeros(tau_f_test.shape)\n",
    "tau_ps_test = W_b_test.dot(xb_ols)\n",
    "for i in range(dof):\n",
    "    tau_p_test[:, i] = tau_ps_test[i::dof]\n",
    "\n",
    "    # add cable torque back\n",
    "# qm4_f_test = 0.6697*q_f_test[:,1] - 0.6697*q_f_test[:,2] + q_f_test[:,3]\n",
    "# tau_cable4_f_test = p[0]*qm4_f_test**7 + p[1]*qm4_f_test**6 + p[2]*qm4_f_test**5\\\n",
    "# + p[3]*qm4_f_test**4 + p[4]*qm4_f_test**3 + p[5]*qm4_f_test**2\\\n",
    "# + p[6]*qm4_f_test + p[7]\n",
    "tau_f_with_cable_test = copy.deepcopy(tau_f_test);\n",
    "# tau_f_with_cable_test[:,1] = tau_f_test[:,1] + 0.6697*tau_cable4_f_test\n",
    "# tau_f_with_cable_test[:,2] = tau_f_test[:,2] - 0.6697*tau_cable4_f_test\n",
    "# tau_f_with_cable_test[:,3] = tau_f_test[:,3] + tau_cable4_f_test\n",
    "tau_p_with_cable_test = copy.deepcopy(tau_p_test);\n",
    "# tau_p_with_cable_test[:,1] = tau_p_test[:,1] + 0.6697*tau_cable4_f_test\n",
    "# tau_p_with_cable_test[:,2] = tau_p_test[:,2] - 0.6697*tau_cable4_f_test\n",
    "# tau_p_with_cable_test[:,3] = tau_p_test[:,3] + tau_cable4_f_test"
   ]
  },
  {
   "cell_type": "code",
   "execution_count": 24,
   "metadata": {},
   "outputs": [],
   "source": [
    "plot_data_num = int(1 / base_freq * trajectory_sampling_rate)\n",
    "plot_meas_pred_tau(t_cut_test[:plot_data_num], tau_f_test[:plot_data_num, :],\n",
    "                   tau_p_test[:plot_data_num, :],\n",
    "                   robot_model.coordinates_joint_type,\n",
    "                   robot_model.coordinates)"
   ]
  },
  {
   "cell_type": "markdown",
   "metadata": {},
   "source": [
    "## Weighted Least Square (WLS)"
   ]
  },
  {
   "cell_type": "markdown",
   "metadata": {},
   "source": [
    "### Training data set"
   ]
  },
  {
   "cell_type": "code",
   "execution_count": 25,
   "metadata": {},
   "outputs": [],
   "source": [
    "# weight = np.sqrt(np.linalg.norm(tau_f - tau_p, axis=0)/(tau_f.shape[0] - base_param_num))\n",
    "weight = np.max(tau_f_train, axis=0) - np.min(tau_f_train, axis=0)"
   ]
  },
  {
   "cell_type": "code",
   "execution_count": 26,
   "metadata": {},
   "outputs": [
    {
     "data": {
      "image/png": "[encoded data removed]",
      "text/latex": [
       "$$\\left ( \\left ( 39193, \\quad 66\\right ), \\quad \\left ( 39193\\right )\\right )$$"
      ],
      "text/plain": [
       "((39193, 66), (39193,))"
      ]
     },
     "execution_count": 26,
     "metadata": {},
     "output_type": "execute_result"
    }
   ],
   "source": [
    "W_b_train.shape, tau_s_train.shape"
   ]
  },
  {
   "cell_type": "code",
   "execution_count": 27,
   "metadata": {},
   "outputs": [],
   "source": [
    "# repeat the weight to generate a large vecoter for all the data\n",
    "weights = 1.0/np.tile(weight, W_b_train.shape[0]/weight.shape[0])"
   ]
  },
  {
   "cell_type": "code",
   "execution_count": 28,
   "metadata": {},
   "outputs": [
    {
     "data": {
      "image/png": "[encoded data removed]",
      "text/latex": [
       "$$\\left ( 39193\\right )$$"
      ],
      "text/plain": [
       "(39193,)"
      ]
     },
     "execution_count": 28,
     "metadata": {},
     "output_type": "execute_result"
    }
   ],
   "source": [
    "weights.shape"
   ]
  },
  {
   "cell_type": "code",
   "execution_count": 29,
   "metadata": {},
   "outputs": [],
   "source": [
    "W_b_wls_train = np.multiply(W_b_train, np.asmatrix(weights).transpose())\n",
    "tau_s_wls_train = np.multiply(tau_s_train, weights)"
   ]
  },
  {
   "cell_type": "code",
   "execution_count": 30,
   "metadata": {},
   "outputs": [
    {
     "name": "stderr",
     "output_type": "stream",
     "text": [
      "/home/yan/anaconda2/envs/dynamics/lib/python2.7/site-packages/ipykernel_launcher.py:1: FutureWarning: `rcond` parameter will change to the default of machine precision times ``max(M, N)`` where M and N are the input matrix dimensions.\n",
      "To use the future default and silence this warning we advise to pass `rcond=None`, to keep using the old, explicitly pass `rcond=-1`.\n",
      "  \"\"\"Entry point for launching an IPython kernel.\n"
     ]
    }
   ],
   "source": [
    "xb_wls = np.linalg.lstsq(W_b_wls_train, tau_s_wls_train)[0]"
   ]
  },
  {
   "cell_type": "code",
   "execution_count": 31,
   "metadata": {},
   "outputs": [
    {
     "data": {
      "text/latex": [
       "$$\\left[\\begin{matrix}1.0 L9xy & -8.2224259618987 \\cdot 10^{-6}\\\\1.0 L9xz & -2.08504490877446 \\cdot 10^{-6}\\\\1.0 L9yz & -5.04127915180116 \\cdot 10^{-6}\\\\1.0 L8yz & 0.000249480513952491\\\\1.0 L8xy & 2.40615011777425 \\cdot 10^{-5}\\\\1.0 L8xz & -0.000294144879958623\\\\1.0 L7xy & -0.000392150272010622\\\\1.0 L8xx - 1.0 L8yy + 1.0 L9yy & 0.000379280242023272\\\\1.0 L9zz & -4.60695358544757 \\cdot 10^{-7}\\\\1.0 L7xz & 3.21900579684124 \\cdot 10^{-5}\\\\1.0 L7yz & -5.40234340821989 \\cdot 10^{-5}\\\\1.0 l9x & 1.96411726272238 \\cdot 10^{-5}\\\\1.0 L8xx - 1.0 L8yy + 1.0 L9xx & 0.000369282022699822\\\\1.0 l9y & 9.88662665355887 \\cdot 10^{-6}\\\\1.0 l8y + 1.0 l9z & 0.00520711150126434\\\\1.0 l8x & -0.000686021410510316\\\\1.0 L6xz & -0.00469791867631522\\\\- 1.0 L8xx + 1.0 L8yy + 1.0 L8zz & -0.000103042996775051\\\\1.0 l7y + 1.0 l8z & -0.00387023881391342\\\\1.0 L6xy & -0.0109738322291764\\\\1.0 L6yz & -0.0011737291190241\\\\1.0 l7x & 0.00510965885926799\\\\1.0 l6x & -0.00297230078248823\\\\1.0 l6y - 1.0 l7z & 0.0165715983656561\\\\1.0 L7zz + 1.0 L8yy & -0.000538844711392346\\\\1.0 L3zz + 1.0 L4zz + 1.0 L6xx + 1.0 L7xx + 1.0 L8yy - 0.302 l3y + 0.01 m_{5} + 0.11005925 m_{6} + 0.11005925 m_{7} + 0.11005925 m_{8} + 0.11005925 m_{9} & 0.185007456577232\\\\- 0.35790981 l2x + 1.0 l3x - 0.1 m_{3} + 0.2645 m_{6} + 0.2645 m_{7} + 0.2645 m_{8} + 0.2645 m_{9} & 0.295465118656418\\\\1.0 l3y + 1.0 l6z + 0.151 m_{6} + 0.151 m_{7} + 0.151 m_{8} + 0.151 m_{9} & -0.224691504031772\\\\1.0 l5y & -0.640092884692574\\\\1.0 l2x + 1.0 l5x + 0.2794 m_{3} + 0.2794 m_{6} + 0.2794 m_{7} + 0.2794 m_{8} + 0.2794 m_{9} & 0.0496861345851086\\\\- 1.0 L3zz - 1.0 L4zz - 1.0 L6xx + 1.0 L6zz + 0.302 l3y - 0.01 m_{5} - 0.11005925 m_{6} - 0.11005925 m_{7} - 0.11005925 m_{8} - 0.11005925 m_{9} & -0.184686415730163\\\\1.0 L2xy + 1.0 L5xy & 0.0258939003685607\\\\1.0 L3xy + 1.0 L4xy + 0.3645 l3y & -0.102739195965554\\\\1.0 L3zz + 1.0 L4zz + 1.0 L6yy - 0.302 l3y + 0.01 m_{5} + 0.11005925 m_{6} + 0.11005925 m_{7} + 0.11005925 m_{8} + 0.11005925 m_{9} & 0.18779244780013\\\\1.0 Fv_{3} + 1.0 Fv_{5} & 0.0207526730495343\\\\1.0 L2yz + 1.0 L5yz & 0.00963386916121269\\\\1.0 K_{6} & 0.00881520178367528\\\\1.0 L2xz + 1.0 L5xz - 0.2794 l3z & 0.00498187240357966\\\\1.0 L3xz + 1.0 L4xz - 0.1 l5z & 0.0169887047248875\\\\1.0 L3yz + 1.0 L4yz & -0.00124935004925675\\\\1.0 Fv_{6} & 0.00909319600598446\\\\1.0 L1zz + 1.0 L2xx + 1.0 L3xx - 1.0 L3zz + 1.0 L4xx - 1.0 L4zz + 1.0 L5xx - 0.01 m_{5} - 0.13286025 m_{6} - 0.13286025 m_{7} - 0.13286025 m_{8} - 0.13286025 m_{9} & -0.0714211798050254\\\\1.0 L3zz + 1.0 L4zz + 1.0 L6xx + 1.0 L7yy - 0.302 l3y + 0.01 m_{5} + 0.11005925 m_{6} + 0.11005925 m_{7} + 0.11005925 m_{8} + 0.11005925 m_{9} & 0.182880372541963\\\\1.0 l4y & 0.243766624388673\\\\0.35790981 l2x + 1.0 l4x + 0.1 m_{3} + 0.1 m_{5} + 0.1 m_{6} + 0.1 m_{7} + 0.1 m_{8} + 0.1 m_{9} & -0.270569999630215\\\\1.0 Fv_{9} & 0.000109780799647846\\\\1.0 Fv_{7} & 0.00132732577142983\\\\- 1.0 L3xx + 1.0 L3yy + 1.0 L3zz - 1.0 L4xx + 1.0 L4yy + 1.0 L4zz + 0.02 m_{5} + 0.2657205 m_{6} + 0.2657205 m_{7} + 0.2657205 m_{8} + 0.2657205 m_{9} & 0.39199492137858\\\\1.0 Fv_{8} & -0.000682824552670663\\\\1.0 K_{8} & 0.0067357291622003\\\\1.0 L2zz + 1.0 L5zz + 0.07806436 m_{3} + 0.07806436 m_{6} + 0.07806436 m_{7} + 0.07806436 m_{8} + 0.07806436 m_{9} & 0.111490060095449\\\\1.0 K_{7} & -0.0139046163190738\\\\1.0 Fv_{1} & 0.0427653042092932\\\\1.0 K_{1} & 0.317957031143243\\\\1.0 Fv_{2} & 0.0788401772692013\\\\1.0 Fv_{4} & 0.107081418869084\\\\1.0 L1zz + 1.0 L2yy + 1.0 L3xx - 1.0 L3zz + 1.0 L4xx - 1.0 L4zz + 1.0 L5yy + 0.07806436 m_{3} - 0.01 m_{5} - 0.05479589 m_{6} - 0.05479589 m_{7} - 0.05479589 m_{8} - 0.05479589 m_{9} & -0.0789840258945499\\\\1.0 Fc_{3} + 1.0 Fc_{5} & -6.24820666085095 \\cdot 10^{-5}\\\\1.0 Fc_{6} & 0.0398738559702731\\\\1.0 l2y & 0.649485893058986\\\\1.0 Fc_{8} & 0.00384582586772801\\\\1.0 Fc_{9} & 0.00113531369137249\\\\1.0 Fc_{2} & 0.0310557011190414\\\\1.0 Fc_{1} & 0.0637620042262926\\\\1.0 Fc_{4} & 0.0546573728206601\\\\1.0 Fc_{7} & 0.0073272573126136\\end{matrix}\\right]$$"
      ],
      "text/plain": [
       "⎡                                                                             \n",
       "⎢                                                                             \n",
       "⎢                                                                             \n",
       "⎢                                                                             \n",
       "⎢                                                                             \n",
       "⎢                                                                             \n",
       "⎢                                                                             \n",
       "⎢                                                                             \n",
       "⎢                                                                             \n",
       "⎢                                                                             \n",
       "⎢                                                                             \n",
       "⎢                                                                             \n",
       "⎢                                                                             \n",
       "⎢                                                                             \n",
       "⎢                                                                   1.0⋅L8xx -\n",
       "⎢                                                                             \n",
       "⎢                                                                             \n",
       "⎢                                                                             \n",
       "⎢                                                                             \n",
       "⎢                                                                             \n",
       "⎢                                                                             \n",
       "⎢                                                                             \n",
       "⎢                                                                             \n",
       "⎢                                                                             \n",
       "⎢                                                                   1.0⋅L8xx -\n",
       "⎢                                                                             \n",
       "⎢                                                                             \n",
       "⎢                                                                             \n",
       "⎢                                                                         1.0⋅\n",
       "⎢                                                                             \n",
       "⎢                                                                             \n",
       "⎢                                                                             \n",
       "⎢                                                                             \n",
       "⎢                                                                             \n",
       "⎢                                                                  -1.0⋅L8xx +\n",
       "⎢                                                                             \n",
       "⎢                                                                         1.0⋅\n",
       "⎢                                                                             \n",
       "⎢                                                                             \n",
       "⎢                                                                             \n",
       "⎢                                                                             \n",
       "⎢                                                                             \n",
       "⎢                                                                             \n",
       "⎢                                                                             \n",
       "⎢                                                                             \n",
       "⎢                                                                             \n",
       "⎢                                                                         1.0⋅\n",
       "⎢                                                                             \n",
       "⎢                                                                        1.0⋅L\n",
       "⎢                                                                             \n",
       "⎢             1.0⋅L3zz + 1.0⋅L4zz + 1.0⋅L6xx + 1.0⋅L7xx + 1.0⋅L8yy - 0.302⋅l3y\n",
       "⎢                                                                             \n",
       "⎢                                         -0.35790981⋅l2x + 1.0⋅l3x - 0.1⋅m₃ +\n",
       "⎢                                                                             \n",
       "⎢                                                   1.0⋅l3y + 1.0⋅l6z + 0.151⋅\n",
       "⎢                                                                             \n",
       "⎢                                                                             \n",
       "⎢                                                                             \n",
       "⎢                                           1.0⋅l2x + 1.0⋅l5x + 0.2794⋅m₃ + 0.\n",
       "⎢                                                                             \n",
       "⎢                  -1.0⋅L3zz - 1.0⋅L4zz - 1.0⋅L6xx + 1.0⋅L6zz + 0.302⋅l3y - 0.\n",
       "⎢                                                                             \n",
       "⎢                                                                        1.0⋅L\n",
       "⎢                                                                             \n",
       "⎢                                                                  1.0⋅L3xy + \n",
       "⎢                                                                             \n",
       "⎢                        1.0⋅L3zz + 1.0⋅L4zz + 1.0⋅L6yy - 0.302⋅l3y + 0.01⋅m₅ \n",
       "⎢                                                                             \n",
       "⎢                                                                         1.0⋅\n",
       "⎢                                                                             \n",
       "⎢                                                                        1.0⋅L\n",
       "⎢                                                                             \n",
       "⎢                                                                             \n",
       "⎢                                                                             \n",
       "⎢                                                                  1.0⋅L2xz + \n",
       "⎢                                                                             \n",
       "⎢                                                                   1.0⋅L3xz +\n",
       "⎢                                                                             \n",
       "⎢                                                                        1.0⋅L\n",
       "⎢                                                                             \n",
       "⎢                                                                             \n",
       "⎢                                                                             \n",
       "⎢        1.0⋅L1zz + 1.0⋅L2xx + 1.0⋅L3xx - 1.0⋅L3zz + 1.0⋅L4xx - 1.0⋅L4zz + 1.0\n",
       "⎢                                                                             \n",
       "⎢                  1.0⋅L3zz + 1.0⋅L4zz + 1.0⋅L6xx + 1.0⋅L7yy - 0.302⋅l3y + 0.0\n",
       "⎢                                                                             \n",
       "⎢                                                                             \n",
       "⎢                                                                             \n",
       "⎢                                           0.35790981⋅l2x + 1.0⋅l4x + 0.1⋅m₃ \n",
       "⎢                                                                             \n",
       "⎢                                                                             \n",
       "⎢                                                                             \n",
       "⎢                                                                             \n",
       "⎢                                                                             \n",
       "⎢               -1.0⋅L3xx + 1.0⋅L3yy + 1.0⋅L3zz - 1.0⋅L4xx + 1.0⋅L4yy + 1.0⋅L4\n",
       "⎢                                                                             \n",
       "⎢                                                                             \n",
       "⎢                                                                             \n",
       "⎢                                                                             \n",
       "⎢                                                                             \n",
       "⎢                                1.0⋅L2zz + 1.0⋅L5zz + 0.07806436⋅m₃ + 0.07806\n",
       "⎢                                                                             \n",
       "⎢                                                                             \n",
       "⎢                                                                             \n",
       "⎢                                                                             \n",
       "⎢                                                                             \n",
       "⎢                                                                             \n",
       "⎢                                                                             \n",
       "⎢                                                                             \n",
       "⎢                                                                             \n",
       "⎢                                                                             \n",
       "⎢                                                                             \n",
       "⎢1.0⋅L1zz + 1.0⋅L2yy + 1.0⋅L3xx - 1.0⋅L3zz + 1.0⋅L4xx - 1.0⋅L4zz + 1.0⋅L5yy + \n",
       "⎢                                                                             \n",
       "⎢                                                                         1.0⋅\n",
       "⎢                                                                             \n",
       "⎢                                                                             \n",
       "⎢                                                                             \n",
       "⎢                                                                             \n",
       "⎢                                                                             \n",
       "⎢                                                                             \n",
       "⎢                                                                             \n",
       "⎢                                                                             \n",
       "⎢                                                                             \n",
       "⎢                                                                             \n",
       "⎢                                                                             \n",
       "⎢                                                                             \n",
       "⎢                                                                             \n",
       "⎢                                                                             \n",
       "⎢                                                                             \n",
       "⎣                                                                             \n",
       "\n",
       " 1.0⋅L9xy                                                                     \n",
       "                                                                              \n",
       " 1.0⋅L9xz                                                                     \n",
       "                                                                              \n",
       " 1.0⋅L9yz                                                                     \n",
       "                                                                              \n",
       " 1.0⋅L8yz                                                                     \n",
       "                                                                              \n",
       " 1.0⋅L8xy                                                                     \n",
       "                                                                              \n",
       " 1.0⋅L8xz                                                                     \n",
       "                                                                              \n",
       " 1.0⋅L7xy                                                                     \n",
       "                                                                              \n",
       " 1.0⋅L8yy + 1.0⋅L9yy                                                          \n",
       "                                                                              \n",
       " 1.0⋅L9zz                                                                     \n",
       "                                                                              \n",
       " 1.0⋅L7xz                                                                     \n",
       "                                                                              \n",
       " 1.0⋅L7yz                                                                     \n",
       "                                                                              \n",
       " 1.0⋅l9x                                                                      \n",
       "                                                                              \n",
       " 1.0⋅L8yy + 1.0⋅L9xx                                                          \n",
       "                                                                              \n",
       " 1.0⋅l9y                                                                      \n",
       "                                                                              \n",
       "l8y + 1.0⋅l9z                                                                 \n",
       "                                                                              \n",
       " 1.0⋅l8x                                                                      \n",
       "                                                                              \n",
       " 1.0⋅L6xz                                                                     \n",
       "                                                                              \n",
       " 1.0⋅L8yy + 1.0⋅L8zz                                                          \n",
       "                                                                              \n",
       "l7y + 1.0⋅l8z                                                                 \n",
       "                                                                              \n",
       " 1.0⋅L6xy                                                                     \n",
       "                                                                              \n",
       " 1.0⋅L6yz                                                                     \n",
       "                                                                              \n",
       " 1.0⋅l7x                                                                      \n",
       "                                                                              \n",
       " 1.0⋅l6x                                                                      \n",
       "                                                                              \n",
       "l6y - 1.0⋅l7z                                                                 \n",
       "                                                                              \n",
       "7zz + 1.0⋅L8yy                                                                \n",
       "                                                                              \n",
       " + 0.01⋅m₅ + 0.11005925⋅m₆ + 0.11005925⋅m₇ + 0.11005925⋅m₈ + 0.11005925⋅m₉    \n",
       "                                                                              \n",
       " 0.2645⋅m₆ + 0.2645⋅m₇ + 0.2645⋅m₈ + 0.2645⋅m₉                                \n",
       "                                                                              \n",
       "m₆ + 0.151⋅m₇ + 0.151⋅m₈ + 0.151⋅m₉                                           \n",
       "                                                                              \n",
       " 1.0⋅l5y                                                                      \n",
       "                                                                              \n",
       "2794⋅m₆ + 0.2794⋅m₇ + 0.2794⋅m₈ + 0.2794⋅m₉                                   \n",
       "                                                                              \n",
       "01⋅m₅ - 0.11005925⋅m₆ - 0.11005925⋅m₇ - 0.11005925⋅m₈ - 0.11005925⋅m₉         \n",
       "                                                                              \n",
       "2xy + 1.0⋅L5xy                                                                \n",
       "                                                                              \n",
       "1.0⋅L4xy + 0.3645⋅l3y                                                         \n",
       "                                                                              \n",
       "+ 0.11005925⋅m₆ + 0.11005925⋅m₇ + 0.11005925⋅m₈ + 0.11005925⋅m₉               \n",
       "                                                                              \n",
       "Fv₃ + 1.0⋅Fv₅                                                                 \n",
       "                                                                              \n",
       "2yz + 1.0⋅L5yz                                                                \n",
       "                                                                              \n",
       "  1.0⋅K₆                                                                      \n",
       "                                                                              \n",
       "1.0⋅L5xz - 0.2794⋅l3z                                                         \n",
       "                                                                              \n",
       " 1.0⋅L4xz - 0.1⋅l5z                                                           \n",
       "                                                                              \n",
       "3yz + 1.0⋅L4yz                                                                \n",
       "                                                                              \n",
       " 1.0⋅Fv₆                                                                      \n",
       "                                                                              \n",
       "⋅L5xx - 0.01⋅m₅ - 0.13286025⋅m₆ - 0.13286025⋅m₇ - 0.13286025⋅m₈ - 0.13286025⋅m\n",
       "                                                                              \n",
       "1⋅m₅ + 0.11005925⋅m₆ + 0.11005925⋅m₇ + 0.11005925⋅m₈ + 0.11005925⋅m₉          \n",
       "                                                                              \n",
       " 1.0⋅l4y                                                                      \n",
       "                                                                              \n",
       "+ 0.1⋅m₅ + 0.1⋅m₆ + 0.1⋅m₇ + 0.1⋅m₈ + 0.1⋅m₉                                  \n",
       "                                                                              \n",
       " 1.0⋅Fv₉                                                                      \n",
       "                                                                              \n",
       " 1.0⋅Fv₇                                                                      \n",
       "                                                                              \n",
       "zz + 0.02⋅m₅ + 0.2657205⋅m₆ + 0.2657205⋅m₇ + 0.2657205⋅m₈ + 0.2657205⋅m₉      \n",
       "                                                                              \n",
       " 1.0⋅Fv₈                                                                      \n",
       "                                                                              \n",
       "  1.0⋅K₈                                                                      \n",
       "                                                                              \n",
       "436⋅m₆ + 0.07806436⋅m₇ + 0.07806436⋅m₈ + 0.07806436⋅m₉                        \n",
       "                                                                              \n",
       "  1.0⋅K₇                                                                      \n",
       "                                                                              \n",
       " 1.0⋅Fv₁                                                                      \n",
       "                                                                              \n",
       "  1.0⋅K₁                                                                      \n",
       "                                                                              \n",
       " 1.0⋅Fv₂                                                                      \n",
       "                                                                              \n",
       " 1.0⋅Fv₄                                                                      \n",
       "                                                                              \n",
       "0.07806436⋅m₃ - 0.01⋅m₅ - 0.05479589⋅m₆ - 0.05479589⋅m₇ - 0.05479589⋅m₈ - 0.05\n",
       "                                                                              \n",
       "Fc₃ + 1.0⋅Fc₅                                                                 \n",
       "                                                                              \n",
       " 1.0⋅Fc₆                                                                      \n",
       "                                                                              \n",
       " 1.0⋅l2y                                                                      \n",
       "                                                                              \n",
       " 1.0⋅Fc₈                                                                      \n",
       "                                                                              \n",
       " 1.0⋅Fc₉                                                                      \n",
       "                                                                              \n",
       " 1.0⋅Fc₂                                                                      \n",
       "                                                                              \n",
       " 1.0⋅Fc₁                                                                      \n",
       "                                                                              \n",
       " 1.0⋅Fc₄                                                                      \n",
       "                                                                              \n",
       " 1.0⋅Fc₇                                                                      \n",
       "\n",
       "            -8.2224259618987e-6 ⎤\n",
       "                                ⎥\n",
       "           -2.08504490877446e-6 ⎥\n",
       "                                ⎥\n",
       "           -5.04127915180116e-6 ⎥\n",
       "                                ⎥\n",
       "           0.000249480513952491 ⎥\n",
       "                                ⎥\n",
       "            2.40615011777425e-5 ⎥\n",
       "                                ⎥\n",
       "           -0.000294144879958623⎥\n",
       "                                ⎥\n",
       "           -0.000392150272010622⎥\n",
       "                                ⎥\n",
       "           0.000379280242023272 ⎥\n",
       "                                ⎥\n",
       "           -4.60695358544757e-7 ⎥\n",
       "                                ⎥\n",
       "            3.21900579684124e-5 ⎥\n",
       "                                ⎥\n",
       "           -5.40234340821989e-5 ⎥\n",
       "                                ⎥\n",
       "            1.96411726272238e-5 ⎥\n",
       "                                ⎥\n",
       "           0.000369282022699822 ⎥\n",
       "                                ⎥\n",
       "            9.88662665355887e-6 ⎥\n",
       "                                ⎥\n",
       "            0.00520711150126434 ⎥\n",
       "                                ⎥\n",
       "           -0.000686021410510316⎥\n",
       "                                ⎥\n",
       "           -0.00469791867631522 ⎥\n",
       "                                ⎥\n",
       "           -0.000103042996775051⎥\n",
       "                                ⎥\n",
       "           -0.00387023881391342 ⎥\n",
       "                                ⎥\n",
       "            -0.0109738322291764 ⎥\n",
       "                                ⎥\n",
       "            -0.0011737291190241 ⎥\n",
       "                                ⎥\n",
       "            0.00510965885926799 ⎥\n",
       "                                ⎥\n",
       "           -0.00297230078248823 ⎥\n",
       "                                ⎥\n",
       "            0.0165715983656561  ⎥\n",
       "                                ⎥\n",
       "           -0.000538844711392346⎥\n",
       "                                ⎥\n",
       "             0.185007456577232  ⎥\n",
       "                                ⎥\n",
       "             0.295465118656418  ⎥\n",
       "                                ⎥\n",
       "            -0.224691504031772  ⎥\n",
       "                                ⎥\n",
       "            -0.640092884692574  ⎥\n",
       "                                ⎥\n",
       "            0.0496861345851086  ⎥\n",
       "                                ⎥\n",
       "            -0.184686415730163  ⎥\n",
       "                                ⎥\n",
       "            0.0258939003685607  ⎥\n",
       "                                ⎥\n",
       "            -0.102739195965554  ⎥\n",
       "                                ⎥\n",
       "             0.18779244780013   ⎥\n",
       "                                ⎥\n",
       "            0.0207526730495343  ⎥\n",
       "                                ⎥\n",
       "            0.00963386916121269 ⎥\n",
       "                                ⎥\n",
       "            0.00881520178367528 ⎥\n",
       "                                ⎥\n",
       "            0.00498187240357966 ⎥\n",
       "                                ⎥\n",
       "            0.0169887047248875  ⎥\n",
       "                                ⎥\n",
       "           -0.00124935004925675 ⎥\n",
       "                                ⎥\n",
       "            0.00909319600598446 ⎥\n",
       "                                ⎥\n",
       "₉           -0.0714211798050254 ⎥\n",
       "                                ⎥\n",
       "             0.182880372541963  ⎥\n",
       "                                ⎥\n",
       "             0.243766624388673  ⎥\n",
       "                                ⎥\n",
       "            -0.270569999630215  ⎥\n",
       "                                ⎥\n",
       "           0.000109780799647846 ⎥\n",
       "                                ⎥\n",
       "            0.00132732577142983 ⎥\n",
       "                                ⎥\n",
       "             0.39199492137858   ⎥\n",
       "                                ⎥\n",
       "           -0.000682824552670663⎥\n",
       "                                ⎥\n",
       "            0.0067357291622003  ⎥\n",
       "                                ⎥\n",
       "             0.111490060095449  ⎥\n",
       "                                ⎥\n",
       "            -0.0139046163190738 ⎥\n",
       "                                ⎥\n",
       "            0.0427653042092932  ⎥\n",
       "                                ⎥\n",
       "             0.317957031143243  ⎥\n",
       "                                ⎥\n",
       "            0.0788401772692013  ⎥\n",
       "                                ⎥\n",
       "             0.107081418869084  ⎥\n",
       "                                ⎥\n",
       "479589⋅m₉   -0.0789840258945499 ⎥\n",
       "                                ⎥\n",
       "           -6.24820666085095e-5 ⎥\n",
       "                                ⎥\n",
       "            0.0398738559702731  ⎥\n",
       "                                ⎥\n",
       "             0.649485893058986  ⎥\n",
       "                                ⎥\n",
       "            0.00384582586772801 ⎥\n",
       "                                ⎥\n",
       "            0.00113531369137249 ⎥\n",
       "                                ⎥\n",
       "            0.0310557011190414  ⎥\n",
       "                                ⎥\n",
       "            0.0637620042262926  ⎥\n",
       "                                ⎥\n",
       "            0.0546573728206601  ⎥\n",
       "                                ⎥\n",
       "            0.0073272573126136  ⎦"
      ]
     },
     "execution_count": 31,
     "metadata": {},
     "output_type": "execute_result"
    }
   ],
   "source": [
    "#np.set_printoptions(precision=2)\n",
    "sympy.Matrix.hstack(sympy.Matrix(robot_model.base_param), sympy.Matrix(xb_wls))"
   ]
  },
  {
   "cell_type": "code",
   "execution_count": 33,
   "metadata": {},
   "outputs": [],
   "source": [
    "tau_p_wls_train = np.zeros(tau_f_train.shape)\n",
    "tau_ps_wls_train = W_b_train.dot(xb_wls)\n",
    "for i in range(dof):\n",
    "    tau_p_wls_train[:, i] = tau_ps_wls_train[i::dof]\n",
    "    \n",
    "tau_p_wls_with_cable_train = copy.deepcopy(tau_p_wls_train);\n",
    "# tau_p_wls_with_cable_train[:,1] = tau_p_wls_train[:,1] + 0.6697*tau_cable4_f_train\n",
    "# tau_p_wls_with_cable_train[:,2] = tau_p_wls_train[:,2] - 0.6697*tau_cable4_f_train\n",
    "# tau_p_wls_with_cable_train[:,3] = tau_p_wls_train[:,3] + tau_cable4_f_train"
   ]
  },
  {
   "cell_type": "code",
   "execution_count": 34,
   "metadata": {},
   "outputs": [],
   "source": [
    "plot_meas_pred_tau(t_cut_train[:plot_data_num], tau_f_with_cable_train[:plot_data_num, :],\n",
    "                   tau_p_wls_with_cable_train[:plot_data_num, :],\n",
    "                   robot_model.coordinates_joint_type, \n",
    "                   robot_model.coordinates)"
   ]
  },
  {
   "cell_type": "code",
   "execution_count": 35,
   "metadata": {},
   "outputs": [
    {
     "data": {
      "text/plain": [
       "array([0.11687483, 0.19484476, 0.18483873, 0.27381924, 0.50862795,\n",
       "       0.28723848, 0.29564408])"
      ]
     },
     "execution_count": 35,
     "metadata": {},
     "output_type": "execute_result"
    }
   ],
   "source": [
    "np.linalg.norm(tau_f_with_cable_train[:plot_data_num, :] - tau_p_wls_with_cable_train[:plot_data_num, :], axis=0)\\\n",
    "    / np.linalg.norm(tau_f_with_cable_train[:plot_data_num, :], axis=0)"
   ]
  },
  {
   "cell_type": "markdown",
   "metadata": {},
   "source": [
    "### Test data set"
   ]
  },
  {
   "cell_type": "code",
   "execution_count": 37,
   "metadata": {
    "scrolled": true
   },
   "outputs": [],
   "source": [
    "weight = np.max(tau_f_test, axis=0) - np.min(tau_f_test, axis=0)\n",
    "weight\n",
    "weight[1] /= 1\n",
    "weight[2] /= 1\n",
    "weight[3] /= 1\n",
    "weight\n",
    "# repeat the weight to generate a large vecoter for all the data\n",
    "weights = 1.0/np.tile(weight, W_b_test.shape[0]/weight.shape[0])\n",
    "\n",
    "W_b_wls_test = np.multiply(W_b_test, np.asmatrix(weights).transpose())\n",
    "tau_s_wls_test = np.multiply(tau_s_test, weights)\n",
    "\n",
    "tau_p_wls_test = np.zeros(tau_f_test.shape)\n",
    "tau_ps_wls_test = W_b_test.dot(xb_wls)\n",
    "for i in range(dof):\n",
    "    tau_p_wls_test[:, i] = tau_ps_wls_test[i::dof]\n",
    "\n",
    "# add cable torque back\n",
    "# qm4_f_test = 0.6697*q_f_test[:,1] - 0.6697*q_f_test[:,2] + q_f_test[:,3]\n",
    "# tau_cable4_f_test = p[0]*qm4_f_test**7 + p[1]*qm4_f_test**6 + p[2]*qm4_f_test**5\\\n",
    "# + p[3]*qm4_f_test**4 + p[4]*qm4_f_test**3 + p[5]*qm4_f_test**2\\\n",
    "# + p[6]*qm4_f_test + p[7]\n",
    "# tau_f_with_cable_test = copy.deepcopy(tau_f_test);\n",
    "# tau_f_with_cable_test[:,1] = tau_f_test[:,1] + 0.6697*tau_cable4_f_test\n",
    "# tau_f_with_cable_test[:,2] = tau_f_test[:,2] - 0.6697*tau_cable4_f_test\n",
    "# tau_f_with_cable_test[:,3] = tau_f_test[:,3] + tau_cable4_f_test\n",
    "tau_p_wls_with_cable_test = copy.deepcopy(tau_p_wls_test);\n",
    "# tau_p_wls_with_cable_test[:,1] = tau_p_wls_test[:,1] + 0.6697*tau_cable4_f_test\n",
    "# tau_p_wls_with_cable_test[:,2] = tau_p_wls_test[:,2] - 0.6697*tau_cable4_f_test\n",
    "# tau_p_wls_with_cable_test[:,3] = tau_p_wls_test[:,3] + tau_cable4_f_test\n",
    "\n",
    "plot_meas_pred_tau(t_cut_test[:plot_data_num], tau_f_with_cable_test[:plot_data_num, :],\n",
    "                   tau_p_wls_with_cable_test[:plot_data_num, :],\n",
    "                   robot_model.coordinates_joint_type,\n",
    "                   robot_model.coordinates)"
   ]
  },
  {
   "cell_type": "code",
   "execution_count": 38,
   "metadata": {},
   "outputs": [
    {
     "data": {
      "text/plain": [
       "array([0.12949085, 0.15529172, 0.34341645, 0.32181876, 0.60237056,\n",
       "       0.36330126, 0.36876098])"
      ]
     },
     "execution_count": 38,
     "metadata": {},
     "output_type": "execute_result"
    }
   ],
   "source": [
    "np.linalg.norm(tau_f_with_cable_test[:plot_data_num, :] - tau_p_wls_with_cable_test[:plot_data_num, :], axis=0)\\\n",
    "/ np.linalg.norm(tau_f_test[:plot_data_num, :], axis=0)"
   ]
  },
  {
   "cell_type": "markdown",
   "metadata": {},
   "source": [
    "## Convex optimization"
   ]
  },
  {
   "cell_type": "markdown",
   "metadata": {},
   "source": [
    "### Generate regressor matrix for barycentric parameters"
   ]
  },
  {
   "cell_type": "code",
   "execution_count": 39,
   "metadata": {},
   "outputs": [],
   "source": [
    "from identification import SDPOpt\n",
    "\n",
    "bary_param_num = len(robot_model.bary_param)\n",
    "H_func = robot_model.H_func\n",
    "W_train, tau_s_train = gen_regressor(bary_param_num, H_func,\n",
    "                                     q_f_train, dq_f_train, ddq_f_train, tau_f_train)"
   ]
  },
  {
   "cell_type": "code",
   "execution_count": 40,
   "metadata": {},
   "outputs": [],
   "source": [
    "weight = np.max(tau_f_train, axis=0) - np.min(tau_f_train, axis=0)\n",
    "# repeat the weight to generate a large vecoter for all the data\n",
    "weights = 1.0/np.tile(weight, W_train.shape[0]/weight.shape[0])\n",
    "W_w_train = np.multiply(W_train, np.asmatrix(weights).transpose())\n",
    "tau_w_s_train = np.multiply(tau_s_train, weights)"
   ]
  },
  {
   "cell_type": "code",
   "execution_count": 41,
   "metadata": {},
   "outputs": [
    {
     "data": {
      "text/plain": [
       "array([2.70936727, 0.83087494, 1.26860941, 0.29147275, 0.09333127,\n",
       "       0.09894924, 0.00623326])"
      ]
     },
     "execution_count": 41,
     "metadata": {},
     "output_type": "execute_result"
    }
   ],
   "source": [
    "weight"
   ]
  },
  {
   "cell_type": "markdown",
   "metadata": {},
   "source": [
    "| min mass | max mass | min $r_x$ | max $r_x$ | min $r_y$ | max $r_y$ | min $r_z$ | max $r_z$ | max $F_c$ | max $F_v$ | max $F_o$ |\n",
    "|----------|----------|-----------|-----------|-----------|-----------|-----------|-----------|-----------|--------------|-----------|"
   ]
  },
  {
   "cell_type": "code",
   "execution_count": 42,
   "metadata": {},
   "outputs": [],
   "source": [
    "sdp_constraints = [(2, 20, -0.1, 0.1, -0.1, 0.1, -0.1, 0.3, 0.2, 0.2, 0.2, 0, 10), #1\n",
    "                  (1, 15, -0.1, 0.15, -0.05, 0.05, -0.05, 0.05, 0.2, 0.2, 0.3, 0, 0), #2\n",
    "                  (0.5, 5, -0.0, 0.3, -0.03, 0.03, -0.03, 0.03, 0.2, 0.2, 0.2, 0, 0), # 3\n",
    "                  (1, 10, -0.1, 0.1, -0.05, 0.05, -0.1, 0.1, 0.2, 0.2, 0.3, 0, 0), # 3'\n",
    "                  (0.05, 2, 0.05, 0.2, -0.02, 0.02, 0.02, 0.1, 0.2, 0.2, 0.2, 0, 0), # 3''\n",
    "                  (0.05, 2, -0.03, 0.03, -0.00, 0.12, -0.15, 0.0, 0.2, 0.2, 0.2, 0, 10), # 4\n",
    "                  (0.05, 1, -0.02, 0.02, -0.1, 0.00, -0.1, 0.00, 0.2, 0.2, 0.2, 0, 10), # 5\n",
    "                  (0.05, 0.5, -0.02, 0.02, 0, 0.1, -0.1, 0.00, 0.2, 0.2, 0.2, 0, 10), # 6\n",
    "                  (0.02, 0.5, -0.01, 0.01, -0.01, 0.01, -0.00, 0.1, 0.2, 0.2, 0.2, 0, 0),]#7]"
   ]
  },
  {
   "cell_type": "code",
   "execution_count": 43,
   "metadata": {},
   "outputs": [
    {
     "data": {
      "image/png": "[encoded data removed]",
      "text/latex": [
       "$$10$$"
      ],
      "text/plain": [
       "10"
      ]
     },
     "execution_count": 43,
     "metadata": {},
     "output_type": "execute_result"
    }
   ],
   "source": [
    "len(sdp_constraints)\n",
    "robot_model.frame_num"
   ]
  },
  {
   "cell_type": "code",
   "execution_count": 44,
   "metadata": {},
   "outputs": [
    {
     "name": "stdout",
     "output_type": "stream",
     "text": [
      "Regressor shape: (39193, 112)\n",
      "Regressand shape: (39193,)\n",
      "Creating variables...\n",
      "Creating optimization objective...\n",
      "Creating constraints...\n",
      "Solving problem...\n",
      "----------------------------------------------------------------------------\n",
      "\tSCS v1.2.6 - Splitting Conic Solver\n",
      "\t(c) Brendan O'Donoghue, Stanford University, 2012-2016\n",
      "----------------------------------------------------------------------------\n",
      "Lin-sys: sparse-indirect, nnz in A = 1719201, CG tol ~ 1/iter^(2.00)\n",
      "eps = 1.00e-03, alpha = 1.50, max_iters = 10000, normalize = 1, scale = 1.00\n",
      "Variables n = 113, constraints m = 39402\n",
      "Cones:\tlinear vars: 117\n",
      "\tsoc vars: 39195, soc blks: 1\n",
      "\tsd vars: 90, sd blks: 9\n",
      "Setup time: 5.99e-02s\n",
      "----------------------------------------------------------------------------\n",
      " Iter | pri res | dua res | rel gap | pri obj | dua obj | kap/tau | time (s)\n",
      "----------------------------------------------------------------------------\n",
      "     0|      inf       inf      -nan      -inf      -inf       inf  1.31e-01 \n",
      "   100| 1.06e+00  2.59e-02  5.45e-03 -1.90e-01 -1.98e-01  3.62e-14  7.22e+00 \n",
      "   200| 4.43e-01  2.68e-02  2.09e-01  1.97e-01 -6.64e-02  3.62e-14  1.13e+01 \n",
      "   300| 3.40e-01  6.25e-03  1.14e-04  4.89e-02  4.87e-02  3.62e-14  1.50e+01 \n",
      "   400| 3.28e-01  4.27e-03  7.22e-04  1.44e-01  1.43e-01  3.62e-14  1.90e+01 \n",
      "   500| 3.06e-01  5.66e-03  5.81e-04  2.28e-01  2.27e-01  3.62e-14  2.38e+01 \n",
      "   600| 3.05e-01  3.60e-03  1.75e-03  3.05e-01  3.08e-01  3.62e-14  2.87e+01 \n",
      "   700| 3.04e-01  1.48e-03  1.81e-03  3.84e-01  3.87e-01  3.62e-14  3.28e+01 \n",
      "   800| 3.01e-01  1.87e-03  1.42e-03  4.63e-01  4.65e-01  3.62e-14  3.72e+01 \n",
      "   900| 2.97e-01  2.04e-03  1.76e-03  5.39e-01  5.43e-01  3.62e-14  4.21e+01 \n",
      "  1000| 2.94e-01  3.22e-03  6.12e-03  6.09e-01  6.22e-01  3.62e-14  4.79e+01 \n",
      "  1100| 2.93e-01  2.31e-03  4.91e-03  6.84e-01  6.96e-01  3.62e-14  5.31e+01 \n",
      "  1200| 2.92e-01  1.50e-03  6.08e-04  7.63e-01  7.65e-01  3.62e-14  5.81e+01 \n",
      "  1300| 2.89e-01  2.85e-03  1.05e-03  8.38e-01  8.35e-01  3.62e-14  6.30e+01 \n",
      "  1400| 2.91e-01  1.19e-03  4.99e-04  9.08e-01  9.09e-01  3.62e-14  6.75e+01 \n",
      "  1500| 2.90e-01  1.59e-03  2.42e-03  9.76e-01  9.83e-01  3.62e-14  7.26e+01 \n",
      "  1600| 2.88e-01  1.80e-03  2.57e-03  1.05e+00  1.06e+00  3.63e-14  7.70e+01 \n",
      "  1700| 2.89e-01  9.80e-04  1.61e-03  1.12e+00  1.13e+00  3.63e-14  8.16e+01 \n",
      "  1800| 2.88e-01  1.41e-03  1.03e-03  1.20e+00  1.20e+00  3.63e-14  8.74e+01 \n",
      "  1900| 2.88e-01  1.22e-03  9.51e-04  1.27e+00  1.27e+00  3.63e-14  9.20e+01 \n",
      "  2000| 2.89e-01  6.13e-04  1.46e-03  1.34e+00  1.34e+00  3.63e-14  9.69e+01 \n",
      "  2100| 2.88e-01  1.34e-03  1.71e-03  1.41e+00  1.42e+00  3.63e-14  1.03e+02 \n",
      "  2200| 2.88e-01  9.94e-04  1.70e-03  1.48e+00  1.49e+00  1.09e-13  1.08e+02 \n",
      "  2300| 2.89e-01  7.04e-04  1.62e-03  1.55e+00  1.56e+00  3.63e-14  1.15e+02 \n",
      "  2400| 2.88e-01  1.09e-03  1.41e-03  1.63e+00  1.63e+00  3.63e-14  1.21e+02 \n",
      "  2500| 2.88e-01  1.43e-03  3.68e-03  1.69e+00  1.70e+00  1.09e-13  1.30e+02 \n",
      "  2600| 2.87e-01  1.75e-03  4.78e-03  1.75e+00  1.78e+00  3.63e-14  1.38e+02 \n",
      "  2700| 2.87e-01  1.49e-03  3.75e-03  1.83e+00  1.85e+00  3.63e-14  1.47e+02 \n",
      "  2800| 2.87e-01  1.13e-03  1.38e-03  1.91e+00  1.92e+00  3.64e-14  1.57e+02 \n",
      "  2900| 2.87e-01  1.42e-03  1.73e-04  1.99e+00  1.99e+00  3.64e-14  1.65e+02 \n",
      "  3000| 2.86e-01  1.60e-03  4.54e-04  2.06e+00  2.06e+00  3.64e-14  1.73e+02 \n",
      "  3100| 2.87e-01  1.20e-03  5.98e-04  2.13e+00  2.13e+00  3.64e-14  1.81e+02 \n",
      "  3200| 2.87e-01  1.11e-03  2.10e-03  2.19e+00  2.20e+00  3.64e-14  1.91e+02 \n",
      "  3300| 2.87e-01  1.34e-03  2.85e-03  2.26e+00  2.28e+00  3.64e-14  1.99e+02 \n",
      "  3400| 2.87e-01  1.29e-03  2.73e-03  2.33e+00  2.35e+00  1.09e-13  2.07e+02 \n",
      "  3500| 2.87e-01  1.30e-03  2.34e-03  2.41e+00  2.42e+00  3.64e-14  2.16e+02 \n",
      "  3600| 2.87e-01  1.22e-03  1.72e-03  2.48e+00  2.49e+00  3.65e-14  2.25e+02 \n",
      "  3700| 2.87e-01  1.24e-03  1.20e-03  2.55e+00  2.56e+00  3.65e-14  2.32e+02 \n",
      "  3800| 2.87e-01  1.29e-03  1.15e-03  2.63e+00  2.63e+00  3.65e-14  2.40e+02 \n",
      "  3900| 2.87e-01  1.25e-03  1.38e-03  2.70e+00  2.70e+00  1.10e-13  2.47e+02 \n",
      "  4000| 2.87e-01  1.27e-03  1.69e-03  2.77e+00  2.78e+00  3.65e-14  2.54e+02 \n",
      "  4100| 2.87e-01  1.18e-03  2.02e-03  2.84e+00  2.85e+00  3.65e-14  2.62e+02 \n",
      "  4200| 2.87e-01  1.26e-03  2.18e-03  2.91e+00  2.92e+00  1.10e-13  2.68e+02 \n",
      "  4300| 2.87e-01  1.22e-03  2.18e-03  2.98e+00  2.99e+00  3.66e-14  2.75e+02 \n",
      "  4400| 2.87e-01  5.55e-04  1.96e-03  3.05e+00  3.06e+00  3.66e-14  2.83e+02 \n",
      "  4500| 2.87e-01  6.24e-04  1.70e-03  3.12e+00  3.13e+00  3.66e-14  2.90e+02 \n",
      "  4600| 2.88e-01  4.76e-04  1.47e-03  3.19e+00  3.20e+00  3.66e-14  2.98e+02 \n",
      "  4700| 2.88e-01  6.13e-04  1.44e-03  3.27e+00  3.28e+00  3.66e-14  3.05e+02 \n",
      "  4800| 2.88e-01  4.86e-04  1.50e-03  3.34e+00  3.35e+00  3.67e-14  3.15e+02 \n",
      "  4900| 2.88e-01  5.35e-04  1.67e-03  3.41e+00  3.42e+00  3.67e-14  3.23e+02 \n",
      "  5000| 2.88e-01  5.56e-04  1.85e-03  3.48e+00  3.49e+00  3.67e-14  3.32e+02 \n",
      "  5100| 2.88e-01  4.96e-04  1.88e-03  3.55e+00  3.56e+00  3.67e-14  3.40e+02 \n",
      "  5200| 2.88e-01  6.15e-04  1.82e-03  3.62e+00  3.64e+00  3.67e-14  3.49e+02 \n",
      "  5300| 2.89e-01  4.34e-04  1.75e-03  3.69e+00  3.71e+00  3.68e-14  3.57e+02 \n",
      "  5400| 2.89e-01  5.75e-04  1.60e-03  3.77e+00  3.78e+00  3.68e-14  3.65e+02 \n",
      "  5500| 2.89e-01  5.14e-04  1.51e-03  3.84e+00  3.85e+00  1.10e-13  3.74e+02 \n",
      "  5600| 2.89e-01  4.88e-04  1.51e-03  3.91e+00  3.93e+00  3.68e-14  3.82e+02 \n",
      "  5700| 2.89e-01  5.60e-04  1.56e-03  3.99e+00  4.00e+00  3.69e-14  3.89e+02 \n",
      "  5800| 2.90e-01  4.20e-04  1.68e-03  4.06e+00  4.07e+00  3.69e-14  3.97e+02 \n",
      "  5900| 2.90e-01  5.94e-04  1.78e-03  4.13e+00  4.15e+00  3.69e-14  4.05e+02 \n",
      "  6000| 2.90e-01  4.81e-04  1.78e-03  4.20e+00  4.22e+00  3.69e-14  4.12e+02 \n",
      "  6100| 2.90e-01  5.38e-04  1.70e-03  4.28e+00  4.29e+00  3.70e-14  4.21e+02 \n",
      "  6200| 2.90e-01  5.35e-04  1.61e-03  4.35e+00  4.36e+00  3.70e-14  4.28e+02 \n",
      "  6300| 2.91e-01  4.61e-04  1.53e-03  4.42e+00  4.44e+00  3.70e-14  4.35e+02 \n",
      "  6400| 2.91e-01  5.96e-04  1.51e-03  4.50e+00  4.51e+00  3.70e-14  4.42e+02 \n",
      "  6500| 2.91e-01  4.37e-04  1.54e-03  4.57e+00  4.58e+00  3.71e-14  4.50e+02 \n",
      "  6600| 2.91e-01  5.63e-04  1.60e-03  4.64e+00  4.66e+00  3.71e-14  4.57e+02 \n",
      "  6700| 2.91e-01  5.07e-04  1.68e-03  4.71e+00  4.73e+00  3.71e-14  4.65e+02 \n",
      "  6800| 2.92e-01  5.20e-04  1.74e-03  4.79e+00  4.81e+00  3.71e-14  4.73e+02 \n",
      "  6900| 2.92e-01  5.83e-04  1.71e-03  4.86e+00  4.88e+00  3.72e-14  4.80e+02 \n",
      "  7000| 2.92e-01  4.42e-04  1.62e-03  4.94e+00  4.95e+00  1.12e-13  4.88e+02 \n",
      "  7100| 2.92e-01  5.91e-04  1.52e-03  5.01e+00  5.03e+00  3.72e-14  4.95e+02 \n",
      "  7200| 2.93e-01  4.79e-04  1.47e-03  5.09e+00  5.10e+00  3.73e-14  5.00e+02 \n",
      "  7300| 2.93e-01  5.50e-04  1.50e-03  5.16e+00  5.18e+00  3.73e-14  5.07e+02 \n",
      "  7400| 2.93e-01  5.40e-04  1.57e-03  5.23e+00  5.25e+00  3.73e-14  5.13e+02 \n",
      "  7500| 2.93e-01  4.79e-04  1.63e-03  5.31e+00  5.33e+00  3.74e-14  5.20e+02 \n",
      "  7600| 2.94e-01  6.08e-04  1.67e-03  5.38e+00  5.40e+00  3.74e-14  5.26e+02 \n",
      "  7700| 2.94e-01  4.72e-04  1.67e-03  5.46e+00  5.48e+00  3.74e-14  5.31e+02 \n",
      "  7800| 2.94e-01  5.81e-04  1.62e-03  5.53e+00  5.55e+00  1.12e-13  5.38e+02 \n",
      "  7900| 2.94e-01  5.05e-04  1.53e-03  5.61e+00  5.63e+00  3.75e-14  5.43e+02 \n",
      "  8000| 2.95e-01  5.21e-04  1.46e-03  5.68e+00  5.70e+00  3.75e-14  5.47e+02 \n",
      "  8100| 2.95e-01  5.81e-04  1.45e-03  5.76e+00  5.78e+00  3.76e-14  5.53e+02 \n",
      "  8200| 2.95e-01  4.60e-04  1.51e-03  5.83e+00  5.85e+00  1.13e-13  5.59e+02 \n",
      "  8300| 2.96e-01  6.00e-04  1.59e-03  5.91e+00  5.93e+00  3.76e-14  5.65e+02 \n",
      "  8400| 2.96e-01  4.98e-04  1.64e-03  5.98e+00  6.00e+00  3.77e-14  5.73e+02 \n",
      "  8500| 2.96e-01  5.77e-04  1.63e-03  6.06e+00  6.08e+00  3.77e-14  5.79e+02 \n",
      "  8600| 2.96e-01  5.54e-04  1.59e-03  6.13e+00  6.16e+00  3.77e-14  5.85e+02 \n",
      "  8700| 2.97e-01  4.88e-04  1.53e-03  6.21e+00  6.23e+00  3.78e-14  5.91e+02 \n",
      "  8800| 2.81e-01  6.00e-04  1.41e-03  6.29e+00  6.31e+00  3.78e-14  5.98e+02 \n",
      "  8900| 2.81e-01  4.74e-04  1.38e-03  6.36e+00  6.37e+00  1.14e-13  6.05e+02 \n",
      "  9000| 2.81e-01  5.86e-04  1.40e-03  6.42e+00  6.44e+00  3.79e-14  6.11e+02 \n",
      "  9100| 2.81e-01  5.11e-04  1.46e-03  6.49e+00  6.51e+00  3.79e-14  6.17e+02 \n",
      "  9200| 2.81e-01  5.40e-04  1.53e-03  6.56e+00  6.58e+00  1.14e-13  6.24e+02 \n",
      "  9300| 2.81e-01  5.97e-04  1.56e-03  6.62e+00  6.65e+00  3.80e-14  6.29e+02 \n"
     ]
    },
    {
     "name": "stdout",
     "output_type": "stream",
     "text": [
      "  9400| 2.80e-01  4.99e-04  1.51e-03  6.69e+00  6.72e+00  3.80e-14  6.34e+02 \n",
      "  9500| 2.80e-01  5.98e-04  1.45e-03  6.76e+00  6.78e+00  3.81e-14  6.44e+02 \n",
      "  9600| 2.80e-01  4.83e-04  1.38e-03  6.83e+00  6.85e+00  3.81e-14  6.54e+02 \n",
      "  9700| 2.80e-01  5.67e-04  1.36e-03  6.90e+00  6.92e+00  1.14e-13  6.59e+02 \n",
      "  9800| 2.80e-01  5.48e-04  1.37e-03  6.97e+00  6.99e+00  3.82e-14  6.64e+02 \n",
      "  9900| 2.80e-01  4.96e-04  1.41e-03  7.03e+00  7.05e+00  3.82e-14  6.69e+02 \n",
      " 10000| 2.80e-01  5.97e-04  1.46e-03  7.10e+00  7.12e+00  3.83e-14  6.73e+02 \n",
      "----------------------------------------------------------------------------\n",
      "Status: Solved/Inaccurate\n",
      "Hit max_iters, solution may be inaccurate\n",
      "Timing: Solve time: 6.73e+02s\n",
      "\tLin-sys: avg # CG iterations: 24.53, avg solve time: 6.65e-02s\n",
      "\tCones: avg projection time: 1.53e-04s\n",
      "----------------------------------------------------------------------------\n",
      "Error metrics:\n",
      "dist(s, K) = 8.6101e-09, dist(y, K*) = 2.3019e-09, s'y/|s||y| = -1.3798e-11\n",
      "|Ax + s - b|_2 / (1 + |b|_2) = 2.8021e-01\n",
      "|A'y + c|_2 / (1 + |c|_2) = 5.9742e-04\n",
      "|c'x + b'y| / (1 + |c'x| + |b'y|) = 1.4589e-03\n",
      "----------------------------------------------------------------------------\n",
      "c'x = 7.0996, -b'y = 7.1218\n",
      "============================================================================\n",
      "CPU times: user 1h 22min 24s, sys: 45.5 s, total: 1h 23min 9s\n",
      "Wall time: 11min 13s\n"
     ]
    }
   ],
   "source": [
    "\n",
    "\n",
    "sdp_opt_std = SDPOpt(W_w_train, tau_w_s_train, robot_model,\n",
    "                     sdp_constraints)\n",
    "# sdp_opt_std = SDPOpt(W, tau_s, robot_model, sdp_constraints)\n",
    "%time sdp_opt_std.solve(10000)"
   ]
  },
  {
   "cell_type": "markdown",
   "metadata": {},
   "source": [
    "## Compare measured torque and predicted torque on training set"
   ]
  },
  {
   "cell_type": "markdown",
   "metadata": {},
   "source": [
    "### Generate predicted torque"
   ]
  },
  {
   "cell_type": "code",
   "execution_count": 45,
   "metadata": {},
   "outputs": [],
   "source": [
    "tau_p_sdp_train = np.zeros(tau_f_train.shape)\n",
    "tau_ps_sdp_train = W_train.dot(sdp_opt_std.x_result)\n",
    "for i in range(dof):\n",
    "    tau_p_sdp_train[:, i] = tau_ps_sdp_train[i::dof]\n",
    "\n",
    "# disable polynomial cable torque\n",
    "# add cable torque back\n",
    "# qm4_f_train = 0.6697*q_f_train[:,1] - 0.6697*q_f_train[:,2] + q_f_train[:,3]\n",
    "# tau_cable4_f_train = p[0]*qm4_f_train**7 + p[1]*qm4_f_train**6 + p[2]*qm4_f_train**5\\\n",
    "# + p[3]*qm4_f_train**4 + p[4]*qm4_f_train**3 + p[5]*qm4_f_train**2\\\n",
    "# + p[6]*qm4_f_train + p[7]\n",
    "# tau_f_with_cable_train = copy.deepcopy(tau_f_train);\n",
    "# tau_f_with_cable_train[:,1] = tau_f_train[:,1] + 0.6697*tau_cable4_f_train\n",
    "# tau_f_with_cable_train[:,2] = tau_f_train[:,2] - 0.6697*tau_cable4_f_train\n",
    "# tau_f_with_cable_train[:,3] = tau_f_train[:,3] + tau_cable4_f_train\n",
    "tau_p_sdp_with_cable_train = copy.deepcopy(tau_p_sdp_train);\n",
    "# tau_p_sdp_with_cable_train[:,1] = tau_p_sdp_train[:,1] + 0.6697*tau_cable4_f_train\n",
    "# tau_p_sdp_with_cable_train[:,2] = tau_p_sdp_train[:,2] - 0.6697*tau_cable4_f_train\n",
    "# tau_p_sdp_with_cable_train[:,3] = tau_p_sdp_train[:,3] + tau_cable4_f_train"
   ]
  },
  {
   "cell_type": "code",
   "execution_count": 46,
   "metadata": {},
   "outputs": [
    {
     "data": {
      "text/plain": [
       "array([0.13099819, 0.21834573, 0.23266792, 0.31401481, 0.49678029,\n",
       "       0.29614103, 0.29587482])"
      ]
     },
     "execution_count": 46,
     "metadata": {},
     "output_type": "execute_result"
    }
   ],
   "source": [
    "np.linalg.norm(tau_f_with_cable_train[:plot_data_num, :] - tau_p_sdp_with_cable_train[:plot_data_num, :], axis=0)\\\n",
    "    / np.linalg.norm(tau_f_with_cable_train[:plot_data_num, :], axis=0)"
   ]
  },
  {
   "cell_type": "markdown",
   "metadata": {},
   "source": [
    "### Plot measured torque and predicted torque"
   ]
  },
  {
   "cell_type": "code",
   "execution_count": 47,
   "metadata": {},
   "outputs": [],
   "source": [
    "plot_data_num = int(1.0 / base_freq * trajectory_sampling_rate)\n",
    "plot_meas_pred_tau(t_cut_train[:plot_data_num] - t_cut_train[0],\n",
    "                   tau_f_with_cable_train[:plot_data_num, :],\n",
    "                   tau_p_sdp_with_cable_train[:plot_data_num, :],\n",
    "                   robot_model.coordinates_joint_type,\n",
    "                   robot_model.coordinates)"
   ]
  },
  {
   "cell_type": "markdown",
   "metadata": {},
   "source": [
    "## Compare measured torque and predicted torque on test set"
   ]
  },
  {
   "cell_type": "code",
   "execution_count": 48,
   "metadata": {},
   "outputs": [],
   "source": [
    "bary_param_num = len(robot_model.bary_param)\n",
    "H_func = robot_model.H_func\n",
    "W_test, tau_s_test = gen_regressor(bary_param_num, H_func,\n",
    "                                   q_f_test, dq_f_test, ddq_f_test, tau_f_test)"
   ]
  },
  {
   "cell_type": "code",
   "execution_count": 83,
   "metadata": {},
   "outputs": [],
   "source": [
    "tau_p_sdp_test = np.zeros(tau_f_test.shape)\n",
    "tau_ps_sdp_test = W_test.dot(sdp_opt_std.x_result)\n",
    "for i in range(dof):\n",
    "    tau_p_sdp_test[:, i] = tau_ps_sdp_test[i::dof]\n",
    "    \n",
    "# add cable torque back\n",
    "# qm4_f_test = 0.6697*q_f_test[:,1] - 0.6697*q_f_test[:,2] + q_f_test[:,3]\n",
    "# tau_cable4_f_test = p[0]*qm4_f_test**7 + p[1]*qm4_f_test**6 + p[2]*qm4_f_test**5\\\n",
    "# + p[3]*qm4_f_test**4 + p[4]*qm4_f_test**3 + p[5]*qm4_f_test**2\\\n",
    "# + p[6]*qm4_f_test + p[7]\n",
    "tau_f_with_cable_test = copy.deepcopy(tau_f_test);\n",
    "# tau_f_with_cable_test[:,1] = tau_f_test[:,1] + 0.6697*tau_cable4_f_test\n",
    "# tau_f_with_cable_test[:,2] = tau_f_test[:,2] - 0.6697*tau_cable4_f_test\n",
    "# tau_f_with_cable_test[:,3] = tau_f_test[:,3] + tau_cable4_f_test\n",
    "tau_p_sdp_with_cable_test = copy.deepcopy(tau_p_sdp_test);\n",
    "# tau_p_sdp_with_cable_test[:,1] = tau_p_sdp_test[:,1] + 0.6697*tau_cable4_f_test\n",
    "# tau_p_sdp_with_cable_test[:,2] = tau_p_sdp_test[:,2] - 0.6697*tau_cable4_f_test\n",
    "# tau_p_sdp_with_cable_test[:,3] = tau_p_sdp_test[:,3] + tau_cable4_f_test\n",
    "\n",
    "plot_data_num = int(1 / base_freq * trajectory_sampling_rate)\n",
    "plot_meas_pred_tau(t_cut_test[:plot_data_num] - t_cut_test[0],\n",
    "                   tau_f_with_cable_test[:plot_data_num, :],\n",
    "                   tau_p_sdp_with_cable_test[:plot_data_num, :],\n",
    "                   robot_model.coordinates_joint_type,\n",
    "                   robot_model.coordinates)"
   ]
  },
  {
   "cell_type": "code",
   "execution_count": 82,
   "metadata": {},
   "outputs": [],
   "source": [
    "test_plot_data_folder = 'data/' + model_name +'/test_plot_data_folder/'\n",
    "test_plot_data = (t_cut_test[:plot_data_num] - t_cut_test[0],\n",
    "                   tau_f_test[:plot_data_num, :],\n",
    "                   tau_p_sdp_test[:plot_data_num, :],\n",
    "                   robot_model.coordinates_joint_type,\n",
    "                   robot_model.coordinates)\n",
    "save_data(test_plot_data_folder, test_trajectory_name, test_plot_data)"
   ]
  },
  {
   "cell_type": "code",
   "execution_count": 51,
   "metadata": {},
   "outputs": [
    {
     "data": {
      "text/plain": [
       "array([0.11503431, 0.18592568, 0.3995263 , 0.36182945, 0.6934144 ,\n",
       "       0.31096307, 0.36986051])"
      ]
     },
     "execution_count": 51,
     "metadata": {},
     "output_type": "execute_result"
    }
   ],
   "source": [
    "np.linalg.norm(tau_f_test[:plot_data_num, :] - tau_p_sdp_test[:plot_data_num, :], axis=0)\\\n",
    "/ np.linalg.norm(tau_f_test[:plot_data_num, :], axis=0)"
   ]
  },
  {
   "cell_type": "markdown",
   "metadata": {},
   "source": [
    "### Compare results based on our modeling"
   ]
  },
  {
   "cell_type": "code",
   "execution_count": 113,
   "metadata": {},
   "outputs": [],
   "source": [
    "# reload(identification)\n",
    "# reload(identification.plot_meas_2pred_tau)\n",
    "from identification.data_processing import plot_meas_2pred_tau\n",
    "\n",
    "# from identification import plot_meas_2pred_tau\n",
    "(t_cut_test_mtm, tau_f_test_mtm, tau_p_sdp_test_mtm, joint_type_mtm, coordinates_mtm)= \\\n",
    "    load_data('data/' + 'mtm' +'/test_plot_data_folder/', test_trajectory_name)\n",
    "\n",
    "plot_meas_2pred_tau(t_cut_test[:plot_data_num] - t_cut_test[0],\n",
    "                    tau_f_test[:plot_data_num, :],\n",
    "                    tau_p_sdp_test[:plot_data_num, :],\n",
    "                    tau_p_sdp_test_mtm,\n",
    "                    robot_model.coordinates_joint_type,\n",
    "                    robot_model.coordinates)"
   ]
  },
  {
   "cell_type": "code",
   "execution_count": 74,
   "metadata": {
    "scrolled": false
   },
   "outputs": [
    {
     "data": {
      "text/latex": [
       "$$\\left[\\begin{array}{cccccccccccccccc}link & L_{xx} & L_{xy} & L_{xz} & L_{yy} & L_{yz} & L_{zz} & l_{x} & l_{y} & l_{z} & m & F_{c} & F_{v} & F_{o} & I_{m} & K\\\\1 & 9.8416674 & 0.0 & 0.0 & 9.8416674 & 0.0 & 2.2 \\cdot 10^{-6} & 0.0 & 0.0 & 0.8319763 & 7.8803346 & 0.0527431 & 0.0602643 & 0 & 0 & 0.3079577\\\\2 & 0.0183364 & 0.000621 & 0.0022639 & 0.0300482 & 0.005132 & 0.0150189 & -0.3627954 & -0.0293436 & 0.2009085 & 11.010124 & 0.0327126 & 0.0832541 & 0 & 0 & 0\\\\3 & 0.0083767 & 0.0026589 & 0.0025635 & 0.0188209 & -0.0008857 & 0.0116383 & 0.0886302 & -0.0214145 & -0.0213247 & 0.7108245 & 0.0009918 & 0.001004 & 0 & 0 & 0\\\\4 & 0.0244545 & -0.0007867 & 0.0192811 & 0.0443905 & 0.0005613 & 0.0198973 & -0.4100324 & -0.0159784 & 0.3983218 & 8.437437 & 0.0594039 & 0.1044564 & 0 & 0 & 0\\\\5 & 0.0166861 & -0.000361 & -0.0065029 & 0.0207145 & 0.0039511 & 0.0088901 & 0.0999954 & 0.0400222 & 0.0400003 & 2.0000074 & 0.0009918 & 0.001004 & 0 & 0 & 0\\\\6 & 0.0133038 & -0.0005617 & -0.0035948 & 0.0136383 & -0.0013557 & -0.0007048 & -0.0027141 & 0.0031421 & -0.0134108 & 0.0887525 & 0.0419278 & 0.0075698 & 0 & 0 & 0.0012259\\\\7 & -6.0 \\cdot 10^{-5} & -0.0004667 & 0.0002862 & -0.0011427 & -0.0001625 & -0.000814 & 0.005529 & -4.17 \\cdot 10^{-5} & -0.0128695 & 0.2374334 & 0.0080257 & 0.0011775 & 0 & 0 & -0.001853\\\\8 & 0.0007037 & 0.0001247 & -0.0002952 & 0.000198 & 0.000301 & 0.0003354 & -0.0006545 & 0.004434 & -0.0019808 & 0.0499827 & 0.0029644 & 0.0008942 & 0 & 0 & 0.0007937\\\\9 & -9.96 \\cdot 10^{-5} & -8.9 \\cdot 10^{-6} & -1.1 \\cdot 10^{-6} & -8.72 \\cdot 10^{-5} & -4.7 \\cdot 10^{-6} & -4.0 \\cdot 10^{-7} & 2.1 \\cdot 10^{-5} & 9.4 \\cdot 10^{-6} & 0.0008054 & 0.0199821 & 0.0011279 & 0.0001109 & 0 & 0 & 0\\end{array}\\right]$$"
      ],
      "text/plain": [
       "⎡link     Lₓₓ        L_xy        L_xz        L_yy        L_yz        L_zz     \n",
       "⎢                                                                             \n",
       "⎢ 1    9.8416674     0.0         0.0      9.8416674      0.0        2.2e-6    \n",
       "⎢                                                                             \n",
       "⎢ 2    0.0183364   0.000621   0.0022639   0.0300482    0.005132   0.0150189   \n",
       "⎢                                                                             \n",
       "⎢ 3    0.0083767  0.0026589   0.0025635   0.0188209   -0.0008857  0.0116383   \n",
       "⎢                                                                             \n",
       "⎢ 4    0.0244545  -0.0007867  0.0192811   0.0443905   0.0005613   0.0198973   \n",
       "⎢                                                                             \n",
       "⎢ 5    0.0166861  -0.000361   -0.0065029  0.0207145   0.0039511   0.0088901   \n",
       "⎢                                                                             \n",
       "⎢ 6    0.0133038  -0.0005617  -0.0035948  0.0136383   -0.0013557  -0.0007048  \n",
       "⎢                                                                             \n",
       "⎢ 7     -6.0e-5   -0.0004667  0.0002862   -0.0011427  -0.0001625  -0.000814   \n",
       "⎢                                                                             \n",
       "⎢ 8    0.0007037  0.0001247   -0.0002952   0.000198    0.000301   0.0003354   \n",
       "⎢                                                                             \n",
       "⎣ 9    -9.96e-5    -8.9e-6     -1.1e-6     -8.72e-5    -4.7e-6     -4.0e-7    \n",
       "\n",
       "    lₓ         l_y         l_z          m         F_c        Fᵥ      Fₒ  I_m  \n",
       "                                                                              \n",
       "   0.0         0.0      0.8319763   7.8803346  0.0527431  0.0602643  0    0   \n",
       "                                                                              \n",
       "-0.3627954  -0.0293436  0.2009085   11.010124  0.0327126  0.0832541  0    0   \n",
       "                                                                              \n",
       "0.0886302   -0.0214145  -0.0213247  0.7108245  0.0009918  0.001004   0    0   \n",
       "                                                                              \n",
       "-0.4100324  -0.0159784  0.3983218   8.437437   0.0594039  0.1044564  0    0   \n",
       "                                                                              \n",
       "0.0999954   0.0400222   0.0400003   2.0000074  0.0009918  0.001004   0    0   \n",
       "                                                                              \n",
       "-0.0027141  0.0031421   -0.0134108  0.0887525  0.0419278  0.0075698  0    0   \n",
       "                                                                              \n",
       " 0.005529    -4.17e-5   -0.0128695  0.2374334  0.0080257  0.0011775  0    0   \n",
       "                                                                              \n",
       "-0.0006545   0.004434   -0.0019808  0.0499827  0.0029644  0.0008942  0    0   \n",
       "                                                                              \n",
       "  2.1e-5      9.4e-6    0.0008054   0.0199821  0.0011279  0.0001109  0    0   \n",
       "\n",
       "    K    ⎤\n",
       "         ⎥\n",
       "0.3079577⎥\n",
       "         ⎥\n",
       "    0    ⎥\n",
       "         ⎥\n",
       "    0    ⎥\n",
       "         ⎥\n",
       "    0    ⎥\n",
       "         ⎥\n",
       "    0    ⎥\n",
       "         ⎥\n",
       "0.0012259⎥\n",
       "         ⎥\n",
       "-0.001853⎥\n",
       "         ⎥\n",
       "0.0007937⎥\n",
       "         ⎥\n",
       "    0    ⎦"
      ]
     },
     "execution_count": 74,
     "metadata": {},
     "output_type": "execute_result"
    }
   ],
   "source": [
    "from identification import params_array2table\n",
    "x_bary_round= np.around(sdp_opt_std.x_result, decimals=7)\n",
    "bary_param_table = params_array2table(x_bary_round, robot_model, 'bary')\n",
    "# sympy.Matrix.hstack(sympy.Matrix(robot_model.bary_param), sympy.Matrix(sdp_opt_std.x_result))\n",
    "bary_param_table"
   ]
  },
  {
   "cell_type": "code",
   "execution_count": 75,
   "metadata": {},
   "outputs": [],
   "source": [
    "from identification import barycentric2standard_params"
   ]
  },
  {
   "cell_type": "code",
   "execution_count": 76,
   "metadata": {
    "scrolled": true
   },
   "outputs": [],
   "source": [
    "x_std = barycentric2standard_params(sdp_opt_std.x_result, robot_model)\n",
    "s_round_std = np.round(np.array(x_std).astype(np.float), decimals=7)"
   ]
  },
  {
   "cell_type": "code",
   "execution_count": 77,
   "metadata": {},
   "outputs": [
    {
     "data": {
      "text/latex": [
       "$$\\left[\\begin{array}{cccccccccccccccc}link & I_{xx} & I_{xy} & I_{xz} & I_{yy} & I_{yz} & I_{zz} & r_{x} & r_{y} & r_{z} & m & F_{c} & F_{v} & F_{o} & I_{m} & K\\\\1 & 9.7538305 & 0.0 & 0.0 & 9.7538305 & 0.0 & 2.2 \\cdot 10^{-6} & 0.0 & 0.0 & 0.1055763 & 7.8803346 & 0.0527431 & 0.0602643 & 0 & 0 & 0.3079577\\\\2 & 0.0145921 & 0.0015879 & -0.0043562 & 0.0144276 & 0.0045965 & 0.0029862 & -0.0329511 & -0.0026651 & 0.0182476 & 11.010124 & 0.0327126 & 0.0832541 & 0 & 0 & 0\\\\3 & 0.0070919 & -1.12 \\cdot 10^{-5} & -9.54 \\cdot 10^{-5} & 0.0071302 & -0.0002432 & -5.78 \\cdot 10^{-5} & 0.1246864 & -0.0301263 & -0.03 & 0.7108245 & 0.0009918 & 0.001004 & 0 & 0 & 0\\\\4 & 0.0056199 & -1.02 \\cdot 10^{-5} & -7.61 \\cdot 10^{-5} & 0.00566 & -0.000193 & -5.92 \\cdot 10^{-5} & -0.0485968 & -0.0018937 & 0.0472089 & 8.437437 & 0.0594039 & 0.1044564 & 0 & 0 & 0\\\\5 & 0.0150852 & 0.00164 & -0.0045029 & 0.014915 & 0.0047515 & 0.0030897 & 0.0499975 & 0.020011 & 0.0200001 & 2.0000074 & 0.0009918 & 0.001004 & 0 & 0 & 0\\\\6 & 0.0111662 & -0.0006578 & -0.0031847 & 0.0115289 & -0.0018304 & -0.000899 & -0.0305805 & 0.0354029 & -0.1511033 & 0.0887525 & 0.0419278 & 0.0075698 & 0 & 0 & 0.0012259\\\\7 & -0.0007575 & -0.0004676 & -1.35 \\cdot 10^{-5} & -0.001969 & -0.0001602 & -0.0009428 & 0.0232866 & -0.0001756 & -0.0542025 & 0.2374334 & 0.0080257 & 0.0011775 & 0 & 0 & -0.001853\\\\8 & 0.0002319 & 6.66 \\cdot 10^{-5} & -0.0002693 & 0.0001109 & 0.0001253 & -6.65 \\cdot 10^{-5} & -0.0130951 & 0.0887102 & -0.0396306 & 0.0499827 & 0.0029644 & 0.0008942 & 0 & 0 & 0.0007937\\\\9 & -0.0001321 & -8.8 \\cdot 10^{-6} & -2.0 \\cdot 10^{-7} & -0.0001197 & -4.3 \\cdot 10^{-6} & -5.0 \\cdot 10^{-7} & 0.0010501 & 0.0004727 & 0.0403049 & 0.0199821 & 0.0011279 & 0.0001109 & 0 & 0 & 0\\end{array}\\right]$$"
      ],
      "text/plain": [
       "⎡link     Iₓₓ         I_xy        I_xz        I_yy        I_yz        I_zz    \n",
       "⎢                                                                             \n",
       "⎢ 1    9.7538305      0.0         0.0      9.7538305      0.0        2.2e-6   \n",
       "⎢                                                                             \n",
       "⎢ 2    0.0145921   0.0015879   -0.0043562  0.0144276   0.0045965   0.0029862  \n",
       "⎢                                                                             \n",
       "⎢ 3    0.0070919    -1.12e-5    -9.54e-5   0.0071302   -0.0002432   -5.78e-5  \n",
       "⎢                                                                             \n",
       "⎢ 4    0.0056199    -1.02e-5    -7.61e-5    0.00566    -0.000193    -5.92e-5  \n",
       "⎢                                                                             \n",
       "⎢ 5    0.0150852    0.00164    -0.0045029   0.014915   0.0047515   0.0030897  \n",
       "⎢                                                                             \n",
       "⎢ 6    0.0111662   -0.0006578  -0.0031847  0.0115289   -0.0018304  -0.000899  \n",
       "⎢                                                                             \n",
       "⎢ 7    -0.0007575  -0.0004676   -1.35e-5   -0.001969   -0.0001602  -0.0009428 \n",
       "⎢                                                                             \n",
       "⎢ 8    0.0002319    6.66e-5    -0.0002693  0.0001109   0.0001253    -6.65e-5  \n",
       "⎢                                                                             \n",
       "⎣ 9    -0.0001321   -8.8e-6     -2.0e-7    -0.0001197   -4.3e-6     -5.0e-7   \n",
       "\n",
       "     rₓ         r_y         r_z          m         F_c        Fᵥ      Fₒ  I_m \n",
       "                                                                              \n",
       "    0.0         0.0      0.1055763   7.8803346  0.0527431  0.0602643  0    0  \n",
       "                                                                              \n",
       " -0.0329511  -0.0026651  0.0182476   11.010124  0.0327126  0.0832541  0    0  \n",
       "                                                                              \n",
       " 0.1246864   -0.0301263    -0.03     0.7108245  0.0009918  0.001004   0    0  \n",
       "                                                                              \n",
       " -0.0485968  -0.0018937  0.0472089   8.437437   0.0594039  0.1044564  0    0  \n",
       "                                                                              \n",
       " 0.0499975    0.020011   0.0200001   2.0000074  0.0009918  0.001004   0    0  \n",
       "                                                                              \n",
       " -0.0305805  0.0354029   -0.1511033  0.0887525  0.0419278  0.0075698  0    0  \n",
       "                                                                              \n",
       " 0.0232866   -0.0001756  -0.0542025  0.2374334  0.0080257  0.0011775  0    0  \n",
       "                                                                              \n",
       " -0.0130951  0.0887102   -0.0396306  0.0499827  0.0029644  0.0008942  0    0  \n",
       "                                                                              \n",
       " 0.0010501   0.0004727   0.0403049   0.0199821  0.0011279  0.0001109  0    0  \n",
       "\n",
       "     K    ⎤\n",
       "          ⎥\n",
       " 0.3079577⎥\n",
       "          ⎥\n",
       "     0    ⎥\n",
       "          ⎥\n",
       "     0    ⎥\n",
       "          ⎥\n",
       "     0    ⎥\n",
       "          ⎥\n",
       "     0    ⎥\n",
       "          ⎥\n",
       " 0.0012259⎥\n",
       "          ⎥\n",
       " -0.001853⎥\n",
       "          ⎥\n",
       " 0.0007937⎥\n",
       "          ⎥\n",
       "     0    ⎦"
      ]
     },
     "execution_count": 77,
     "metadata": {},
     "output_type": "execute_result"
    }
   ],
   "source": [
    "std_param_table = params_array2table(s_round_std, robot_model, 'std')\n",
    "#sympy.Matrix.hstack(sympy.Matrix(robot_model.std_param), sympy.Matrix(x_std))\n",
    "std_param_table"
   ]
  },
  {
   "cell_type": "markdown",
   "metadata": {},
   "source": [
    "### Write identified dynamic parameters into a JSON file"
   ]
  },
  {
   "cell_type": "code",
   "execution_count": 141,
   "metadata": {},
   "outputs": [
    {
     "data": {
      "text/latex": [
       "$$\\left[\\begin{array}{cccccccccccccccc}link & I_{xx} & I_{xy} & I_{xz} & I_{yy} & I_{yz} & I_{zz} & r_{x} & r_{y} & r_{z} & m & F_{c} & F_{v} & F_{o} & I_{m} & K\\\\1 & 9.7538305 & 0.0 & 0.0 & 9.7538305 & 0.0 & 2.2 \\cdot 10^{-6} & 0.0 & 0.0 & 0.1055763 & 7.8803346 & 0.0527431 & 0.0602643 & 0 & 0 & 0.3079577\\\\2 & 0.0144276 & -0.0045965 & 0.0015879 & 0.0029862 & 0.0043562 & 0.0145921 & 0.0026651 & 0.0182476 & 0.0329511 & 11.010124 & 0.0327126 & 0.0832541 & 0 & 0 & 0\\\\3 & 0.0070919 & 9.54 \\cdot 10^{-5} & 1.12 \\cdot 10^{-5} & -5.78 \\cdot 10^{-5} & -0.0002432 & 0.0071302 & -0.1246864 & -0.03 & -0.0301263 & 0.7108245 & 0.0009918 & 0.001004 & 0 & 0 & 0\\\\4 & 0.0056199 & 7.61 \\cdot 10^{-5} & 1.02 \\cdot 10^{-5} & -5.92 \\cdot 10^{-5} & -0.000193 & 0.00566 & 0.0485968 & 0.0472089 & -0.0018937 & 8.437437 & 0.0594039 & 0.1044564 & 0 & 0 & 0\\\\5 & 0.014915 & -0.0047515 & 0.00164 & 0.0030897 & 0.0045029 & 0.0150852 & -0.020011 & 0.0200001 & -0.0499975 & 2.0000074 & 0.0009918 & 0.001004 & 0 & 0 & 0\\\\6 & 0.0111662 & -0.0006578 & 0.0031847 & 0.0115289 & 0.0018304 & -0.000899 & 0.0305805 & -0.0354029 & -0.1511033 & 0.0887525 & 0.0419278 & 0.0075698 & 0 & 0 & 0.0012259\\\\7 & -0.0007575 & 1.35 \\cdot 10^{-5} & 0.0004676 & -0.0009428 & -0.0001602 & -0.001969 & -0.0232866 & -0.0542025 & -0.0001756 & 0.2374334 & 0.0080257 & 0.0011775 & 0 & 0 & -0.001853\\\\8 & 0.0001109 & -6.66 \\cdot 10^{-5} & 0.0001253 & 0.0002319 & 0.0002693 & -6.65 \\cdot 10^{-5} & 0.0887102 & 0.0130951 & -0.0396306 & 0.0499827 & 0.0029644 & 0.0008942 & 0 & 0 & 0.0007937\\\\9 & -5.0 \\cdot 10^{-7} & -2.0 \\cdot 10^{-7} & -4.3 \\cdot 10^{-6} & -0.0001321 & -8.8 \\cdot 10^{-6} & -0.0001197 & 0.0403049 & 0.0010501 & 0.0004727 & 0.0199821 & 0.0011279 & 0.0001109 & 0 & 0 & 0\\end{array}\\right]$$"
      ],
      "text/plain": [
       "⎡link     Iₓₓ         I_xy       I_xz        I_yy        I_yz        I_zz     \n",
       "⎢                                                                             \n",
       "⎢ 1    9.7538305      0.0         0.0     9.7538305      0.0        2.2e-6    \n",
       "⎢                                                                             \n",
       "⎢ 2    0.0144276   -0.0045965  0.0015879  0.0029862   0.0043562   0.0145921   \n",
       "⎢                                                                             \n",
       "⎢ 3    0.0070919    9.54e-5     1.12e-5    -5.78e-5   -0.0002432  0.0071302   \n",
       "⎢                                                                             \n",
       "⎢ 4    0.0056199    7.61e-5     1.02e-5    -5.92e-5   -0.000193    0.00566    \n",
       "⎢                                                                             \n",
       "⎢ 5     0.014915   -0.0047515   0.00164   0.0030897   0.0045029   0.0150852   \n",
       "⎢                                                                             \n",
       "⎢ 6    0.0111662   -0.0006578  0.0031847  0.0115289   0.0018304   -0.000899   \n",
       "⎢                                                                             \n",
       "⎢ 7    -0.0007575   1.35e-5    0.0004676  -0.0009428  -0.0001602  -0.001969   \n",
       "⎢                                                                             \n",
       "⎢ 8    0.0001109    -6.66e-5   0.0001253  0.0002319   0.0002693    -6.65e-5   \n",
       "⎢                                                                             \n",
       "⎣ 9     -5.0e-7     -2.0e-7     -4.3e-6   -0.0001321   -8.8e-6    -0.0001197  \n",
       "\n",
       "    rₓ         r_y         r_z          m         F_c        Fᵥ      Fₒ  I_m  \n",
       "                                                                              \n",
       "   0.0         0.0      0.1055763   7.8803346  0.0527431  0.0602643  0    0   \n",
       "                                                                              \n",
       "0.0026651   0.0182476   0.0329511   11.010124  0.0327126  0.0832541  0    0   \n",
       "                                                                              \n",
       "-0.1246864    -0.03     -0.0301263  0.7108245  0.0009918  0.001004   0    0   \n",
       "                                                                              \n",
       "0.0485968   0.0472089   -0.0018937  8.437437   0.0594039  0.1044564  0    0   \n",
       "                                                                              \n",
       "-0.020011   0.0200001   -0.0499975  2.0000074  0.0009918  0.001004   0    0   \n",
       "                                                                              \n",
       "0.0305805   -0.0354029  -0.1511033  0.0887525  0.0419278  0.0075698  0    0   \n",
       "                                                                              \n",
       "-0.0232866  -0.0542025  -0.0001756  0.2374334  0.0080257  0.0011775  0    0   \n",
       "                                                                              \n",
       "0.0887102   0.0130951   -0.0396306  0.0499827  0.0029644  0.0008942  0    0   \n",
       "                                                                              \n",
       "0.0403049   0.0010501   0.0004727   0.0199821  0.0011279  0.0001109  0    0   \n",
       "\n",
       "    K    ⎤\n",
       "         ⎥\n",
       "0.3079577⎥\n",
       "         ⎥\n",
       "    0    ⎥\n",
       "         ⎥\n",
       "    0    ⎥\n",
       "         ⎥\n",
       "    0    ⎥\n",
       "         ⎥\n",
       "    0    ⎥\n",
       "         ⎥\n",
       "0.0012259⎥\n",
       "         ⎥\n",
       "-0.001853⎥\n",
       "         ⎥\n",
       "0.0007937⎥\n",
       "         ⎥\n",
       "    0    ⎦"
      ]
     },
     "execution_count": 141,
     "metadata": {},
     "output_type": "execute_result"
    }
   ],
   "source": [
    "Rs = [np.matrix(R.evalf(subs={q1: 0, q2: 0, q3: 0, q4: 0, q5: 0, q6: 0, q7: 0})).astype(np.float64)\n",
    "      for R in robot_model.R[1:]]\n",
    "x_std_base_frame = barycentric2standard_params(sdp_opt_std.x_result, robot_model, Rs)\n",
    "x_round_std_base_frame = np.round(np.array(x_std_base_frame).astype(np.float), decimals=7)\n",
    "std_param_base_frame_table = params_array2table(x_round_std_base_frame, robot_model, 'std')\n",
    "std_param_base_frame_table"
   ]
  },
  {
   "cell_type": "code",
   "execution_count": 142,
   "metadata": {},
   "outputs": [
    {
     "name": "stdout",
     "output_type": "stream",
     "text": [
      "Parameters have been written into [data/mtm_fontanelli/dynamic_params/params.json] successfully!\n"
     ]
    }
   ],
   "source": [
    "from identification import *\n",
    "param_folder = 'data/' + model_name +'/dynamic_params/'\n",
    "std_param_name = 'params'\n",
    "write_parameters2json(std_param_base_frame_table, param_folder, std_param_name)"
   ]
  }
 ],
 "metadata": {
  "kernelspec": {
   "display_name": "Python 2",
   "language": "python",
   "name": "python2"
  },
  "language_info": {
   "codemirror_mode": {
    "name": "ipython",
    "version": 2
   },
   "file_extension": ".py",
   "mimetype": "text/x-python",
   "name": "python",
   "nbconvert_exporter": "python",
   "pygments_lexer": "ipython2",
   "version": "2.7.15"
  }
 },
 "nbformat": 4,
 "nbformat_minor": 1
}
